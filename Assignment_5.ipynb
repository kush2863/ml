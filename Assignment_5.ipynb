{
  "cells": [
    {
      "cell_type": "markdown",
      "metadata": {
        "id": "view-in-github",
        "colab_type": "text"
      },
      "source": [
        "<a href=\"https://colab.research.google.com/github/kush2863/ml/blob/main/Assignment_5.ipynb\" target=\"_parent\"><img src=\"https://colab.research.google.com/assets/colab-badge.svg\" alt=\"Open In Colab\"/></a>"
      ]
    },
    {
      "cell_type": "code",
      "execution_count": null,
      "id": "711d1409",
      "metadata": {
        "execution": {
          "iopub.execute_input": "2022-11-14T18:02:00.626817Z",
          "iopub.status.busy": "2022-11-14T18:02:00.625869Z",
          "iopub.status.idle": "2022-11-14T18:02:00.649472Z",
          "shell.execute_reply": "2022-11-14T18:02:00.647734Z"
        },
        "papermill": {
          "duration": 0.037497,
          "end_time": "2022-11-14T18:02:00.652641",
          "exception": false,
          "start_time": "2022-11-14T18:02:00.615144",
          "status": "completed"
        },
        "tags": [],
        "id": "711d1409"
      },
      "outputs": [],
      "source": [
        "# This Python 3 environment comes with many helpful analytics libraries installed\n",
        "# It is defined by the kaggle/python Docker image: https://github.com/kaggle/docker-python\n",
        "# For example, here's several helpful packages to load\n",
        "\n",
        "import numpy as np # linear algebra\n",
        "import pandas as pd # data processing, CSV file I/O (e.g. pd.read_csv)\n",
        "\n",
        "# Input data files are available in the read-only \"../input/\" directory\n",
        "# For example, running this (by clicking run or pressing Shift+Enter) will list all files under the input directory\n",
        "\n",
        "import os\n",
        "for dirname, _, filenames in os.walk('/kaggle/input'):\n",
        "    for filename in filenames:\n",
        "        print(os.path.join(dirname, filename))\n",
        "\n",
        "# You can write up to 20GB to the current directory (/kaggle/working/) that gets preserved as output when you create a version using \"Save & Run All\"\n",
        "# You can also write temporary files to /kaggle/temp/, but they won't be saved outside of the current session"
      ]
    },
    {
      "cell_type": "code",
      "execution_count": null,
      "id": "2adc33ca",
      "metadata": {
        "execution": {
          "iopub.execute_input": "2022-11-14T18:02:00.673168Z",
          "iopub.status.busy": "2022-11-14T18:02:00.67251Z",
          "iopub.status.idle": "2022-11-14T18:02:01.959896Z",
          "shell.execute_reply": "2022-11-14T18:02:01.958371Z"
        },
        "papermill": {
          "duration": 1.301426,
          "end_time": "2022-11-14T18:02:01.962951",
          "exception": false,
          "start_time": "2022-11-14T18:02:00.661525",
          "status": "completed"
        },
        "tags": [],
        "id": "2adc33ca"
      },
      "outputs": [],
      "source": [
        "import numpy as np\n",
        "import pandas as pd\n",
        "import matplotlib.pyplot as plt\n",
        "import seaborn as sns"
      ]
    },
    {
      "cell_type": "code",
      "execution_count": null,
      "id": "9982ae51",
      "metadata": {
        "execution": {
          "iopub.execute_input": "2022-11-14T18:02:01.983392Z",
          "iopub.status.busy": "2022-11-14T18:02:01.982213Z",
          "iopub.status.idle": "2022-11-14T18:02:02.004139Z",
          "shell.execute_reply": "2022-11-14T18:02:02.0025Z"
        },
        "papermill": {
          "duration": 0.03642,
          "end_time": "2022-11-14T18:02:02.008126",
          "exception": false,
          "start_time": "2022-11-14T18:02:01.971706",
          "status": "completed"
        },
        "tags": [],
        "id": "9982ae51"
      },
      "outputs": [],
      "source": [
        "df = pd.read_csv('E:\\LP1\\\\5\\\\Mall_Customers.csv')"
      ]
    },
    {
      "cell_type": "code",
      "execution_count": null,
      "id": "ca518853",
      "metadata": {
        "execution": {
          "iopub.execute_input": "2022-11-14T18:02:02.02894Z",
          "iopub.status.busy": "2022-11-14T18:02:02.028433Z",
          "iopub.status.idle": "2022-11-14T18:02:02.059925Z",
          "shell.execute_reply": "2022-11-14T18:02:02.05861Z"
        },
        "papermill": {
          "duration": 0.045394,
          "end_time": "2022-11-14T18:02:02.062747",
          "exception": false,
          "start_time": "2022-11-14T18:02:02.017353",
          "status": "completed"
        },
        "tags": [],
        "id": "ca518853",
        "outputId": "82e26728-fd34-4110-9ffc-de202051d407"
      },
      "outputs": [
        {
          "data": {
            "text/html": [
              "<div>\n",
              "<style scoped>\n",
              "    .dataframe tbody tr th:only-of-type {\n",
              "        vertical-align: middle;\n",
              "    }\n",
              "\n",
              "    .dataframe tbody tr th {\n",
              "        vertical-align: top;\n",
              "    }\n",
              "\n",
              "    .dataframe thead th {\n",
              "        text-align: right;\n",
              "    }\n",
              "</style>\n",
              "<table border=\"1\" class=\"dataframe\">\n",
              "  <thead>\n",
              "    <tr style=\"text-align: right;\">\n",
              "      <th></th>\n",
              "      <th>CustomerID</th>\n",
              "      <th>Genre</th>\n",
              "      <th>Age</th>\n",
              "      <th>Annual Income (k$)</th>\n",
              "      <th>Spending Score (1-100)</th>\n",
              "    </tr>\n",
              "  </thead>\n",
              "  <tbody>\n",
              "    <tr>\n",
              "      <th>0</th>\n",
              "      <td>1</td>\n",
              "      <td>Male</td>\n",
              "      <td>19</td>\n",
              "      <td>15</td>\n",
              "      <td>39</td>\n",
              "    </tr>\n",
              "    <tr>\n",
              "      <th>1</th>\n",
              "      <td>2</td>\n",
              "      <td>Male</td>\n",
              "      <td>21</td>\n",
              "      <td>15</td>\n",
              "      <td>81</td>\n",
              "    </tr>\n",
              "    <tr>\n",
              "      <th>2</th>\n",
              "      <td>3</td>\n",
              "      <td>Female</td>\n",
              "      <td>20</td>\n",
              "      <td>16</td>\n",
              "      <td>6</td>\n",
              "    </tr>\n",
              "    <tr>\n",
              "      <th>3</th>\n",
              "      <td>4</td>\n",
              "      <td>Female</td>\n",
              "      <td>23</td>\n",
              "      <td>16</td>\n",
              "      <td>77</td>\n",
              "    </tr>\n",
              "    <tr>\n",
              "      <th>4</th>\n",
              "      <td>5</td>\n",
              "      <td>Female</td>\n",
              "      <td>31</td>\n",
              "      <td>17</td>\n",
              "      <td>40</td>\n",
              "    </tr>\n",
              "    <tr>\n",
              "      <th>...</th>\n",
              "      <td>...</td>\n",
              "      <td>...</td>\n",
              "      <td>...</td>\n",
              "      <td>...</td>\n",
              "      <td>...</td>\n",
              "    </tr>\n",
              "    <tr>\n",
              "      <th>195</th>\n",
              "      <td>196</td>\n",
              "      <td>Female</td>\n",
              "      <td>35</td>\n",
              "      <td>120</td>\n",
              "      <td>79</td>\n",
              "    </tr>\n",
              "    <tr>\n",
              "      <th>196</th>\n",
              "      <td>197</td>\n",
              "      <td>Female</td>\n",
              "      <td>45</td>\n",
              "      <td>126</td>\n",
              "      <td>28</td>\n",
              "    </tr>\n",
              "    <tr>\n",
              "      <th>197</th>\n",
              "      <td>198</td>\n",
              "      <td>Male</td>\n",
              "      <td>32</td>\n",
              "      <td>126</td>\n",
              "      <td>74</td>\n",
              "    </tr>\n",
              "    <tr>\n",
              "      <th>198</th>\n",
              "      <td>199</td>\n",
              "      <td>Male</td>\n",
              "      <td>32</td>\n",
              "      <td>137</td>\n",
              "      <td>18</td>\n",
              "    </tr>\n",
              "    <tr>\n",
              "      <th>199</th>\n",
              "      <td>200</td>\n",
              "      <td>Male</td>\n",
              "      <td>30</td>\n",
              "      <td>137</td>\n",
              "      <td>83</td>\n",
              "    </tr>\n",
              "  </tbody>\n",
              "</table>\n",
              "<p>200 rows × 5 columns</p>\n",
              "</div>"
            ],
            "text/plain": [
              "     CustomerID   Genre  Age  Annual Income (k$)  Spending Score (1-100)\n",
              "0             1    Male   19                  15                      39\n",
              "1             2    Male   21                  15                      81\n",
              "2             3  Female   20                  16                       6\n",
              "3             4  Female   23                  16                      77\n",
              "4             5  Female   31                  17                      40\n",
              "..          ...     ...  ...                 ...                     ...\n",
              "195         196  Female   35                 120                      79\n",
              "196         197  Female   45                 126                      28\n",
              "197         198    Male   32                 126                      74\n",
              "198         199    Male   32                 137                      18\n",
              "199         200    Male   30                 137                      83\n",
              "\n",
              "[200 rows x 5 columns]"
            ]
          },
          "execution_count": 26,
          "metadata": {},
          "output_type": "execute_result"
        }
      ],
      "source": [
        "df"
      ]
    },
    {
      "cell_type": "code",
      "execution_count": null,
      "id": "235c9186",
      "metadata": {
        "execution": {
          "iopub.execute_input": "2022-11-14T18:02:02.085559Z",
          "iopub.status.busy": "2022-11-14T18:02:02.084599Z",
          "iopub.status.idle": "2022-11-14T18:02:02.099873Z",
          "shell.execute_reply": "2022-11-14T18:02:02.098605Z"
        },
        "papermill": {
          "duration": 0.028951,
          "end_time": "2022-11-14T18:02:02.10298",
          "exception": false,
          "start_time": "2022-11-14T18:02:02.074029",
          "status": "completed"
        },
        "tags": [],
        "id": "235c9186",
        "outputId": "4d0161f0-66cd-47e2-ee4f-e96641f22b85"
      },
      "outputs": [
        {
          "data": {
            "text/html": [
              "<div>\n",
              "<style scoped>\n",
              "    .dataframe tbody tr th:only-of-type {\n",
              "        vertical-align: middle;\n",
              "    }\n",
              "\n",
              "    .dataframe tbody tr th {\n",
              "        vertical-align: top;\n",
              "    }\n",
              "\n",
              "    .dataframe thead th {\n",
              "        text-align: right;\n",
              "    }\n",
              "</style>\n",
              "<table border=\"1\" class=\"dataframe\">\n",
              "  <thead>\n",
              "    <tr style=\"text-align: right;\">\n",
              "      <th></th>\n",
              "      <th>Annual Income (k$)</th>\n",
              "      <th>Spending Score (1-100)</th>\n",
              "    </tr>\n",
              "  </thead>\n",
              "  <tbody>\n",
              "    <tr>\n",
              "      <th>0</th>\n",
              "      <td>15</td>\n",
              "      <td>39</td>\n",
              "    </tr>\n",
              "    <tr>\n",
              "      <th>1</th>\n",
              "      <td>15</td>\n",
              "      <td>81</td>\n",
              "    </tr>\n",
              "    <tr>\n",
              "      <th>2</th>\n",
              "      <td>16</td>\n",
              "      <td>6</td>\n",
              "    </tr>\n",
              "    <tr>\n",
              "      <th>3</th>\n",
              "      <td>16</td>\n",
              "      <td>77</td>\n",
              "    </tr>\n",
              "    <tr>\n",
              "      <th>4</th>\n",
              "      <td>17</td>\n",
              "      <td>40</td>\n",
              "    </tr>\n",
              "    <tr>\n",
              "      <th>...</th>\n",
              "      <td>...</td>\n",
              "      <td>...</td>\n",
              "    </tr>\n",
              "    <tr>\n",
              "      <th>195</th>\n",
              "      <td>120</td>\n",
              "      <td>79</td>\n",
              "    </tr>\n",
              "    <tr>\n",
              "      <th>196</th>\n",
              "      <td>126</td>\n",
              "      <td>28</td>\n",
              "    </tr>\n",
              "    <tr>\n",
              "      <th>197</th>\n",
              "      <td>126</td>\n",
              "      <td>74</td>\n",
              "    </tr>\n",
              "    <tr>\n",
              "      <th>198</th>\n",
              "      <td>137</td>\n",
              "      <td>18</td>\n",
              "    </tr>\n",
              "    <tr>\n",
              "      <th>199</th>\n",
              "      <td>137</td>\n",
              "      <td>83</td>\n",
              "    </tr>\n",
              "  </tbody>\n",
              "</table>\n",
              "<p>200 rows × 2 columns</p>\n",
              "</div>"
            ],
            "text/plain": [
              "     Annual Income (k$)  Spending Score (1-100)\n",
              "0                    15                      39\n",
              "1                    15                      81\n",
              "2                    16                       6\n",
              "3                    16                      77\n",
              "4                    17                      40\n",
              "..                  ...                     ...\n",
              "195                 120                      79\n",
              "196                 126                      28\n",
              "197                 126                      74\n",
              "198                 137                      18\n",
              "199                 137                      83\n",
              "\n",
              "[200 rows x 2 columns]"
            ]
          },
          "execution_count": 27,
          "metadata": {},
          "output_type": "execute_result"
        }
      ],
      "source": [
        "x = df.iloc[:,3:]\n",
        "x"
      ]
    },
    {
      "cell_type": "markdown",
      "id": "150317d8",
      "metadata": {
        "papermill": {
          "duration": 0.009064,
          "end_time": "2022-11-14T18:02:02.121601",
          "exception": false,
          "start_time": "2022-11-14T18:02:02.112537",
          "status": "completed"
        },
        "tags": [],
        "id": "150317d8"
      },
      "source": [
        "You can split data using train_test_split"
      ]
    },
    {
      "cell_type": "code",
      "execution_count": null,
      "id": "67882e74",
      "metadata": {
        "execution": {
          "iopub.execute_input": "2022-11-14T18:02:02.143895Z",
          "iopub.status.busy": "2022-11-14T18:02:02.143423Z",
          "iopub.status.idle": "2022-11-14T18:02:02.458765Z",
          "shell.execute_reply": "2022-11-14T18:02:02.457294Z"
        },
        "papermill": {
          "duration": 0.330262,
          "end_time": "2022-11-14T18:02:02.462338",
          "exception": false,
          "start_time": "2022-11-14T18:02:02.132076",
          "status": "completed"
        },
        "tags": [],
        "id": "67882e74",
        "outputId": "ab76c9a2-3255-461e-92ca-a329e4861126"
      },
      "outputs": [
        {
          "data": {
            "text/plain": [
              "<AxesSubplot:title={'center':'Unclustered Data'}, xlabel='Annual Income (k$)', ylabel='Spending Score (1-100)'>"
            ]
          },
          "execution_count": 28,
          "metadata": {},
          "output_type": "execute_result"
        },
        {
          "data": {
            "image/png": "[encoded data removed]",
            "text/plain": [
              "<Figure size 640x480 with 1 Axes>"
            ]
          },
          "metadata": {},
          "output_type": "display_data"
        }
      ],
      "source": [
        "plt.title('Unclustered Data')\n",
        "sns.scatterplot(x=x['Annual Income (k$)'],y=x['Spending Score (1-100)'])"
      ]
    },
    {
      "cell_type": "code",
      "execution_count": null,
      "id": "53d350ae",
      "metadata": {
        "execution": {
          "iopub.execute_input": "2022-11-14T18:02:02.484844Z",
          "iopub.status.busy": "2022-11-14T18:02:02.483753Z",
          "iopub.status.idle": "2022-11-14T18:02:02.968336Z",
          "shell.execute_reply": "2022-11-14T18:02:02.966656Z"
        },
        "papermill": {
          "duration": 0.499326,
          "end_time": "2022-11-14T18:02:02.971806",
          "exception": false,
          "start_time": "2022-11-14T18:02:02.47248",
          "status": "completed"
        },
        "tags": [],
        "id": "53d350ae"
      },
      "outputs": [],
      "source": [
        "from sklearn.cluster import KMeans, AgglomerativeClustering"
      ]
    },
    {
      "cell_type": "markdown",
      "id": "e0352552",
      "metadata": {
        "papermill": {
          "duration": 0.010116,
          "end_time": "2022-11-14T18:02:02.99249",
          "exception": false,
          "start_time": "2022-11-14T18:02:02.982374",
          "status": "completed"
        },
        "tags": [],
        "id": "e0352552"
      },
      "source": [
        "AgglomerativeClustering is hierarchical Clustering"
      ]
    },
    {
      "cell_type": "code",
      "execution_count": null,
      "id": "5c209cb5",
      "metadata": {
        "execution": {
          "iopub.execute_input": "2022-11-14T18:02:03.018462Z",
          "iopub.status.busy": "2022-11-14T18:02:03.017972Z",
          "iopub.status.idle": "2022-11-14T18:02:03.023403Z",
          "shell.execute_reply": "2022-11-14T18:02:03.022281Z"
        },
        "papermill": {
          "duration": 0.022818,
          "end_time": "2022-11-14T18:02:03.025995",
          "exception": false,
          "start_time": "2022-11-14T18:02:03.003177",
          "status": "completed"
        },
        "tags": [],
        "id": "5c209cb5"
      },
      "outputs": [],
      "source": [
        "km = KMeans(n_clusters=4)"
      ]
    },
    {
      "cell_type": "code",
      "execution_count": null,
      "id": "9d803062",
      "metadata": {
        "execution": {
          "iopub.execute_input": "2022-11-14T18:02:03.04941Z",
          "iopub.status.busy": "2022-11-14T18:02:03.047659Z",
          "iopub.status.idle": "2022-11-14T18:02:03.093183Z",
          "shell.execute_reply": "2022-11-14T18:02:03.092252Z"
        },
        "papermill": {
          "duration": 0.060194,
          "end_time": "2022-11-14T18:02:03.096383",
          "exception": false,
          "start_time": "2022-11-14T18:02:03.036189",
          "status": "completed"
        },
        "tags": [],
        "id": "9d803062",
        "outputId": "9611eff4-2c4e-4c72-a0a4-cbac86185b92"
      },
      "outputs": [
        {
          "data": {
            "text/plain": [
              "array([2, 3, 2, 3, 2, 3, 2, 3, 2, 3, 2, 3, 2, 3, 2, 3, 2, 3, 2, 3, 2, 3,\n",
              "       2, 3, 2, 3, 2, 3, 2, 3, 2, 3, 2, 3, 2, 3, 2, 3, 2, 3, 2, 3, 2, 3,\n",
              "       2, 3, 3, 3, 3, 3, 3, 3, 3, 3, 3, 3, 3, 3, 3, 3, 3, 3, 3, 3, 3, 3,\n",
              "       3, 3, 3, 3, 3, 3, 3, 3, 3, 3, 3, 3, 3, 3, 3, 3, 3, 3, 3, 3, 3, 3,\n",
              "       3, 3, 3, 3, 3, 3, 3, 3, 3, 3, 3, 3, 3, 3, 3, 3, 3, 3, 3, 3, 3, 3,\n",
              "       3, 3, 3, 3, 3, 3, 3, 3, 3, 3, 3, 3, 3, 1, 0, 1, 0, 1, 0, 1, 0, 1,\n",
              "       0, 1, 0, 1, 0, 1, 0, 1, 0, 1, 0, 1, 0, 1, 0, 1, 0, 1, 0, 1, 0, 1,\n",
              "       0, 1, 0, 1, 0, 1, 0, 1, 0, 1, 0, 1, 0, 1, 0, 1, 0, 1, 0, 1, 0, 1,\n",
              "       0, 1, 0, 1, 0, 1, 0, 1, 0, 1, 0, 1, 0, 1, 0, 1, 0, 1, 0, 1, 0, 1,\n",
              "       0, 1])"
            ]
          },
          "execution_count": 31,
          "metadata": {},
          "output_type": "execute_result"
        }
      ],
      "source": [
        "km.fit_predict(x)"
      ]
    },
    {
      "cell_type": "code",
      "execution_count": null,
      "id": "a722710b",
      "metadata": {
        "execution": {
          "iopub.execute_input": "2022-11-14T18:02:03.12126Z",
          "iopub.status.busy": "2022-11-14T18:02:03.120775Z",
          "iopub.status.idle": "2022-11-14T18:02:03.128503Z",
          "shell.execute_reply": "2022-11-14T18:02:03.127265Z"
        },
        "papermill": {
          "duration": 0.023452,
          "end_time": "2022-11-14T18:02:03.132312",
          "exception": false,
          "start_time": "2022-11-14T18:02:03.10886",
          "status": "completed"
        },
        "tags": [],
        "id": "a722710b",
        "outputId": "f02f8778-453e-467a-dc48-f842b249c0e7"
      },
      "outputs": [
        {
          "data": {
            "text/plain": [
              "73679.78903948837"
            ]
          },
          "execution_count": 32,
          "metadata": {},
          "output_type": "execute_result"
        }
      ],
      "source": [
        "#sse\n",
        "km.inertia_"
      ]
    },
    {
      "cell_type": "code",
      "execution_count": null,
      "id": "9b1a953d",
      "metadata": {
        "execution": {
          "iopub.execute_input": "2022-11-14T18:02:03.156059Z",
          "iopub.status.busy": "2022-11-14T18:02:03.155587Z",
          "iopub.status.idle": "2022-11-14T18:02:03.866242Z",
          "shell.execute_reply": "2022-11-14T18:02:03.864907Z"
        },
        "papermill": {
          "duration": 0.72652,
          "end_time": "2022-11-14T18:02:03.869801",
          "exception": false,
          "start_time": "2022-11-14T18:02:03.143281",
          "status": "completed"
        },
        "tags": [],
        "collapsed": true,
        "id": "9b1a953d",
        "outputId": "33a34b88-b9b6-4212-a54e-65e96de8d2f6"
      },
      "outputs": [
        {
          "ename": "AttributeError",
          "evalue": "'NoneType' object has no attribute 'split'",
          "output_type": "error",
          "traceback": [
            "\u001b[1;31m---------------------------------------------------------------------------\u001b[0m",
            "\u001b[1;31mAttributeError\u001b[0m                            Traceback (most recent call last)",
            "\u001b[1;32m~\\AppData\\Local\\Temp\\ipykernel_15472\\4241776006.py\u001b[0m in \u001b[0;36m<module>\u001b[1;34m\u001b[0m\n\u001b[0;32m      2\u001b[0m \u001b[1;32mfor\u001b[0m \u001b[0mk\u001b[0m \u001b[1;32min\u001b[0m \u001b[0mrange\u001b[0m\u001b[1;33m(\u001b[0m\u001b[1;36m1\u001b[0m\u001b[1;33m,\u001b[0m\u001b[1;36m16\u001b[0m\u001b[1;33m)\u001b[0m\u001b[1;33m:\u001b[0m\u001b[1;33m\u001b[0m\u001b[1;33m\u001b[0m\u001b[0m\n\u001b[0;32m      3\u001b[0m     \u001b[0mkm\u001b[0m \u001b[1;33m=\u001b[0m \u001b[0mKMeans\u001b[0m\u001b[1;33m(\u001b[0m\u001b[0mn_clusters\u001b[0m\u001b[1;33m=\u001b[0m\u001b[0mk\u001b[0m\u001b[1;33m)\u001b[0m\u001b[1;33m\u001b[0m\u001b[1;33m\u001b[0m\u001b[0m\n\u001b[1;32m----> 4\u001b[1;33m     \u001b[0mkm\u001b[0m\u001b[1;33m.\u001b[0m\u001b[0mfit_predict\u001b[0m\u001b[1;33m(\u001b[0m\u001b[0mx\u001b[0m\u001b[1;33m)\u001b[0m\u001b[1;33m\u001b[0m\u001b[1;33m\u001b[0m\u001b[0m\n\u001b[0m\u001b[0;32m      5\u001b[0m     \u001b[0msse\u001b[0m\u001b[1;33m.\u001b[0m\u001b[0mappend\u001b[0m\u001b[1;33m(\u001b[0m\u001b[0mkm\u001b[0m\u001b[1;33m.\u001b[0m\u001b[0minertia_\u001b[0m\u001b[1;33m)\u001b[0m\u001b[1;33m\u001b[0m\u001b[1;33m\u001b[0m\u001b[0m\n",
            "\u001b[1;32m~\\anaconda3\\lib\\site-packages\\sklearn\\cluster\\_kmeans.py\u001b[0m in \u001b[0;36mfit_predict\u001b[1;34m(self, X, y, sample_weight)\u001b[0m\n\u001b[0;32m   1253\u001b[0m             \u001b[0mIndex\u001b[0m \u001b[0mof\u001b[0m \u001b[0mthe\u001b[0m \u001b[0mcluster\u001b[0m \u001b[0meach\u001b[0m \u001b[0msample\u001b[0m \u001b[0mbelongs\u001b[0m \u001b[0mto\u001b[0m\u001b[1;33m.\u001b[0m\u001b[1;33m\u001b[0m\u001b[1;33m\u001b[0m\u001b[0m\n\u001b[0;32m   1254\u001b[0m         \"\"\"\n\u001b[1;32m-> 1255\u001b[1;33m         \u001b[1;32mreturn\u001b[0m \u001b[0mself\u001b[0m\u001b[1;33m.\u001b[0m\u001b[0mfit\u001b[0m\u001b[1;33m(\u001b[0m\u001b[0mX\u001b[0m\u001b[1;33m,\u001b[0m \u001b[0msample_weight\u001b[0m\u001b[1;33m=\u001b[0m\u001b[0msample_weight\u001b[0m\u001b[1;33m)\u001b[0m\u001b[1;33m.\u001b[0m\u001b[0mlabels_\u001b[0m\u001b[1;33m\u001b[0m\u001b[1;33m\u001b[0m\u001b[0m\n\u001b[0m\u001b[0;32m   1256\u001b[0m \u001b[1;33m\u001b[0m\u001b[0m\n\u001b[0;32m   1257\u001b[0m     \u001b[1;32mdef\u001b[0m \u001b[0mfit_transform\u001b[0m\u001b[1;33m(\u001b[0m\u001b[0mself\u001b[0m\u001b[1;33m,\u001b[0m \u001b[0mX\u001b[0m\u001b[1;33m,\u001b[0m \u001b[0my\u001b[0m\u001b[1;33m=\u001b[0m\u001b[1;32mNone\u001b[0m\u001b[1;33m,\u001b[0m \u001b[0msample_weight\u001b[0m\u001b[1;33m=\u001b[0m\u001b[1;32mNone\u001b[0m\u001b[1;33m)\u001b[0m\u001b[1;33m:\u001b[0m\u001b[1;33m\u001b[0m\u001b[1;33m\u001b[0m\u001b[0m\n",
            "\u001b[1;32m~\\anaconda3\\lib\\site-packages\\sklearn\\cluster\\_kmeans.py\u001b[0m in \u001b[0;36mfit\u001b[1;34m(self, X, y, sample_weight)\u001b[0m\n\u001b[0;32m   1169\u001b[0m         \u001b[1;32mif\u001b[0m \u001b[0mself\u001b[0m\u001b[1;33m.\u001b[0m\u001b[0m_algorithm\u001b[0m \u001b[1;33m==\u001b[0m \u001b[1;34m\"full\"\u001b[0m\u001b[1;33m:\u001b[0m\u001b[1;33m\u001b[0m\u001b[1;33m\u001b[0m\u001b[0m\n\u001b[0;32m   1170\u001b[0m             \u001b[0mkmeans_single\u001b[0m \u001b[1;33m=\u001b[0m \u001b[0m_kmeans_single_lloyd\u001b[0m\u001b[1;33m\u001b[0m\u001b[1;33m\u001b[0m\u001b[0m\n\u001b[1;32m-> 1171\u001b[1;33m             \u001b[0mself\u001b[0m\u001b[1;33m.\u001b[0m\u001b[0m_check_mkl_vcomp\u001b[0m\u001b[1;33m(\u001b[0m\u001b[0mX\u001b[0m\u001b[1;33m,\u001b[0m \u001b[0mX\u001b[0m\u001b[1;33m.\u001b[0m\u001b[0mshape\u001b[0m\u001b[1;33m[\u001b[0m\u001b[1;36m0\u001b[0m\u001b[1;33m]\u001b[0m\u001b[1;33m)\u001b[0m\u001b[1;33m\u001b[0m\u001b[1;33m\u001b[0m\u001b[0m\n\u001b[0m\u001b[0;32m   1172\u001b[0m         \u001b[1;32melse\u001b[0m\u001b[1;33m:\u001b[0m\u001b[1;33m\u001b[0m\u001b[1;33m\u001b[0m\u001b[0m\n\u001b[0;32m   1173\u001b[0m             \u001b[0mkmeans_single\u001b[0m \u001b[1;33m=\u001b[0m \u001b[0m_kmeans_single_elkan\u001b[0m\u001b[1;33m\u001b[0m\u001b[1;33m\u001b[0m\u001b[0m\n",
            "\u001b[1;32m~\\anaconda3\\lib\\site-packages\\sklearn\\cluster\\_kmeans.py\u001b[0m in \u001b[0;36m_check_mkl_vcomp\u001b[1;34m(self, X, n_samples)\u001b[0m\n\u001b[0;32m   1026\u001b[0m         \u001b[0mactive_threads\u001b[0m \u001b[1;33m=\u001b[0m \u001b[0mint\u001b[0m\u001b[1;33m(\u001b[0m\u001b[0mnp\u001b[0m\u001b[1;33m.\u001b[0m\u001b[0mceil\u001b[0m\u001b[1;33m(\u001b[0m\u001b[0mn_samples\u001b[0m \u001b[1;33m/\u001b[0m \u001b[0mCHUNK_SIZE\u001b[0m\u001b[1;33m)\u001b[0m\u001b[1;33m)\u001b[0m\u001b[1;33m\u001b[0m\u001b[1;33m\u001b[0m\u001b[0m\n\u001b[0;32m   1027\u001b[0m         \u001b[1;32mif\u001b[0m \u001b[0mactive_threads\u001b[0m \u001b[1;33m<\u001b[0m \u001b[0mself\u001b[0m\u001b[1;33m.\u001b[0m\u001b[0m_n_threads\u001b[0m\u001b[1;33m:\u001b[0m\u001b[1;33m\u001b[0m\u001b[1;33m\u001b[0m\u001b[0m\n\u001b[1;32m-> 1028\u001b[1;33m             \u001b[0mmodules\u001b[0m \u001b[1;33m=\u001b[0m \u001b[0mthreadpool_info\u001b[0m\u001b[1;33m(\u001b[0m\u001b[1;33m)\u001b[0m\u001b[1;33m\u001b[0m\u001b[1;33m\u001b[0m\u001b[0m\n\u001b[0m\u001b[0;32m   1029\u001b[0m             \u001b[0mhas_vcomp\u001b[0m \u001b[1;33m=\u001b[0m \u001b[1;34m\"vcomp\"\u001b[0m \u001b[1;32min\u001b[0m \u001b[1;33m[\u001b[0m\u001b[0mmodule\u001b[0m\u001b[1;33m[\u001b[0m\u001b[1;34m\"prefix\"\u001b[0m\u001b[1;33m]\u001b[0m \u001b[1;32mfor\u001b[0m \u001b[0mmodule\u001b[0m \u001b[1;32min\u001b[0m \u001b[0mmodules\u001b[0m\u001b[1;33m]\u001b[0m\u001b[1;33m\u001b[0m\u001b[1;33m\u001b[0m\u001b[0m\n\u001b[0;32m   1030\u001b[0m             has_mkl = (\"mkl\", \"intel\") in [\n",
            "\u001b[1;32m~\\anaconda3\\lib\\site-packages\\sklearn\\utils\\fixes.py\u001b[0m in \u001b[0;36mthreadpool_info\u001b[1;34m()\u001b[0m\n\u001b[0;32m    323\u001b[0m         \u001b[1;32mreturn\u001b[0m \u001b[0mcontroller\u001b[0m\u001b[1;33m.\u001b[0m\u001b[0minfo\u001b[0m\u001b[1;33m(\u001b[0m\u001b[1;33m)\u001b[0m\u001b[1;33m\u001b[0m\u001b[1;33m\u001b[0m\u001b[0m\n\u001b[0;32m    324\u001b[0m     \u001b[1;32melse\u001b[0m\u001b[1;33m:\u001b[0m\u001b[1;33m\u001b[0m\u001b[1;33m\u001b[0m\u001b[0m\n\u001b[1;32m--> 325\u001b[1;33m         \u001b[1;32mreturn\u001b[0m \u001b[0mthreadpoolctl\u001b[0m\u001b[1;33m.\u001b[0m\u001b[0mthreadpool_info\u001b[0m\u001b[1;33m(\u001b[0m\u001b[1;33m)\u001b[0m\u001b[1;33m\u001b[0m\u001b[1;33m\u001b[0m\u001b[0m\n\u001b[0m\u001b[0;32m    326\u001b[0m \u001b[1;33m\u001b[0m\u001b[0m\n\u001b[0;32m    327\u001b[0m \u001b[1;33m\u001b[0m\u001b[0m\n",
            "\u001b[1;32m~\\anaconda3\\lib\\site-packages\\threadpoolctl.py\u001b[0m in \u001b[0;36mthreadpool_info\u001b[1;34m()\u001b[0m\n\u001b[0;32m    122\u001b[0m     \u001b[0mIn\u001b[0m \u001b[0maddition\u001b[0m\u001b[1;33m,\u001b[0m \u001b[0meach\u001b[0m \u001b[0mmodule\u001b[0m \u001b[0mmay\u001b[0m \u001b[0mcontain\u001b[0m \u001b[0minternal_api\u001b[0m \u001b[0mspecific\u001b[0m \u001b[0mentries\u001b[0m\u001b[1;33m.\u001b[0m\u001b[1;33m\u001b[0m\u001b[1;33m\u001b[0m\u001b[0m\n\u001b[0;32m    123\u001b[0m     \"\"\"\n\u001b[1;32m--> 124\u001b[1;33m     \u001b[1;32mreturn\u001b[0m \u001b[0m_ThreadpoolInfo\u001b[0m\u001b[1;33m(\u001b[0m\u001b[0muser_api\u001b[0m\u001b[1;33m=\u001b[0m\u001b[0m_ALL_USER_APIS\u001b[0m\u001b[1;33m)\u001b[0m\u001b[1;33m.\u001b[0m\u001b[0mtodicts\u001b[0m\u001b[1;33m(\u001b[0m\u001b[1;33m)\u001b[0m\u001b[1;33m\u001b[0m\u001b[1;33m\u001b[0m\u001b[0m\n\u001b[0m\u001b[0;32m    125\u001b[0m \u001b[1;33m\u001b[0m\u001b[0m\n\u001b[0;32m    126\u001b[0m \u001b[1;33m\u001b[0m\u001b[0m\n",
            "\u001b[1;32m~\\anaconda3\\lib\\site-packages\\threadpoolctl.py\u001b[0m in \u001b[0;36m__init__\u001b[1;34m(self, user_api, prefixes, modules)\u001b[0m\n\u001b[0;32m    338\u001b[0m \u001b[1;33m\u001b[0m\u001b[0m\n\u001b[0;32m    339\u001b[0m             \u001b[0mself\u001b[0m\u001b[1;33m.\u001b[0m\u001b[0mmodules\u001b[0m \u001b[1;33m=\u001b[0m \u001b[1;33m[\u001b[0m\u001b[1;33m]\u001b[0m\u001b[1;33m\u001b[0m\u001b[1;33m\u001b[0m\u001b[0m\n\u001b[1;32m--> 340\u001b[1;33m             \u001b[0mself\u001b[0m\u001b[1;33m.\u001b[0m\u001b[0m_load_modules\u001b[0m\u001b[1;33m(\u001b[0m\u001b[1;33m)\u001b[0m\u001b[1;33m\u001b[0m\u001b[1;33m\u001b[0m\u001b[0m\n\u001b[0m\u001b[0;32m    341\u001b[0m             \u001b[0mself\u001b[0m\u001b[1;33m.\u001b[0m\u001b[0m_warn_if_incompatible_openmp\u001b[0m\u001b[1;33m(\u001b[0m\u001b[1;33m)\u001b[0m\u001b[1;33m\u001b[0m\u001b[1;33m\u001b[0m\u001b[0m\n\u001b[0;32m    342\u001b[0m         \u001b[1;32melse\u001b[0m\u001b[1;33m:\u001b[0m\u001b[1;33m\u001b[0m\u001b[1;33m\u001b[0m\u001b[0m\n",
            "\u001b[1;32m~\\anaconda3\\lib\\site-packages\\threadpoolctl.py\u001b[0m in \u001b[0;36m_load_modules\u001b[1;34m(self)\u001b[0m\n\u001b[0;32m    371\u001b[0m             \u001b[0mself\u001b[0m\u001b[1;33m.\u001b[0m\u001b[0m_find_modules_with_dyld\u001b[0m\u001b[1;33m(\u001b[0m\u001b[1;33m)\u001b[0m\u001b[1;33m\u001b[0m\u001b[1;33m\u001b[0m\u001b[0m\n\u001b[0;32m    372\u001b[0m         \u001b[1;32melif\u001b[0m \u001b[0msys\u001b[0m\u001b[1;33m.\u001b[0m\u001b[0mplatform\u001b[0m \u001b[1;33m==\u001b[0m \u001b[1;34m\"win32\"\u001b[0m\u001b[1;33m:\u001b[0m\u001b[1;33m\u001b[0m\u001b[1;33m\u001b[0m\u001b[0m\n\u001b[1;32m--> 373\u001b[1;33m             \u001b[0mself\u001b[0m\u001b[1;33m.\u001b[0m\u001b[0m_find_modules_with_enum_process_module_ex\u001b[0m\u001b[1;33m(\u001b[0m\u001b[1;33m)\u001b[0m\u001b[1;33m\u001b[0m\u001b[1;33m\u001b[0m\u001b[0m\n\u001b[0m\u001b[0;32m    374\u001b[0m         \u001b[1;32melse\u001b[0m\u001b[1;33m:\u001b[0m\u001b[1;33m\u001b[0m\u001b[1;33m\u001b[0m\u001b[0m\n\u001b[0;32m    375\u001b[0m             \u001b[0mself\u001b[0m\u001b[1;33m.\u001b[0m\u001b[0m_find_modules_with_dl_iterate_phdr\u001b[0m\u001b[1;33m(\u001b[0m\u001b[1;33m)\u001b[0m\u001b[1;33m\u001b[0m\u001b[1;33m\u001b[0m\u001b[0m\n",
            "\u001b[1;32m~\\anaconda3\\lib\\site-packages\\threadpoolctl.py\u001b[0m in \u001b[0;36m_find_modules_with_enum_process_module_ex\u001b[1;34m(self)\u001b[0m\n\u001b[0;32m    483\u001b[0m \u001b[1;33m\u001b[0m\u001b[0m\n\u001b[0;32m    484\u001b[0m                 \u001b[1;31m# Store the module if it is supported and selected\u001b[0m\u001b[1;33m\u001b[0m\u001b[1;33m\u001b[0m\u001b[0m\n\u001b[1;32m--> 485\u001b[1;33m                 \u001b[0mself\u001b[0m\u001b[1;33m.\u001b[0m\u001b[0m_make_module_from_path\u001b[0m\u001b[1;33m(\u001b[0m\u001b[0mfilepath\u001b[0m\u001b[1;33m)\u001b[0m\u001b[1;33m\u001b[0m\u001b[1;33m\u001b[0m\u001b[0m\n\u001b[0m\u001b[0;32m    486\u001b[0m         \u001b[1;32mfinally\u001b[0m\u001b[1;33m:\u001b[0m\u001b[1;33m\u001b[0m\u001b[1;33m\u001b[0m\u001b[0m\n\u001b[0;32m    487\u001b[0m             \u001b[0mkernel_32\u001b[0m\u001b[1;33m.\u001b[0m\u001b[0mCloseHandle\u001b[0m\u001b[1;33m(\u001b[0m\u001b[0mh_process\u001b[0m\u001b[1;33m)\u001b[0m\u001b[1;33m\u001b[0m\u001b[1;33m\u001b[0m\u001b[0m\n",
            "\u001b[1;32m~\\anaconda3\\lib\\site-packages\\threadpoolctl.py\u001b[0m in \u001b[0;36m_make_module_from_path\u001b[1;34m(self, filepath)\u001b[0m\n\u001b[0;32m    513\u001b[0m             \u001b[1;32mif\u001b[0m \u001b[0mprefix\u001b[0m \u001b[1;32min\u001b[0m \u001b[0mself\u001b[0m\u001b[1;33m.\u001b[0m\u001b[0mprefixes\u001b[0m \u001b[1;32mor\u001b[0m \u001b[0muser_api\u001b[0m \u001b[1;32min\u001b[0m \u001b[0mself\u001b[0m\u001b[1;33m.\u001b[0m\u001b[0muser_api\u001b[0m\u001b[1;33m:\u001b[0m\u001b[1;33m\u001b[0m\u001b[1;33m\u001b[0m\u001b[0m\n\u001b[0;32m    514\u001b[0m                 \u001b[0mmodule_class\u001b[0m \u001b[1;33m=\u001b[0m \u001b[0mglobals\u001b[0m\u001b[1;33m(\u001b[0m\u001b[1;33m)\u001b[0m\u001b[1;33m[\u001b[0m\u001b[0mmodule_class\u001b[0m\u001b[1;33m]\u001b[0m\u001b[1;33m\u001b[0m\u001b[1;33m\u001b[0m\u001b[0m\n\u001b[1;32m--> 515\u001b[1;33m                 \u001b[0mmodule\u001b[0m \u001b[1;33m=\u001b[0m \u001b[0mmodule_class\u001b[0m\u001b[1;33m(\u001b[0m\u001b[0mfilepath\u001b[0m\u001b[1;33m,\u001b[0m \u001b[0mprefix\u001b[0m\u001b[1;33m,\u001b[0m \u001b[0muser_api\u001b[0m\u001b[1;33m,\u001b[0m \u001b[0minternal_api\u001b[0m\u001b[1;33m)\u001b[0m\u001b[1;33m\u001b[0m\u001b[1;33m\u001b[0m\u001b[0m\n\u001b[0m\u001b[0;32m    516\u001b[0m                 \u001b[0mself\u001b[0m\u001b[1;33m.\u001b[0m\u001b[0mmodules\u001b[0m\u001b[1;33m.\u001b[0m\u001b[0mappend\u001b[0m\u001b[1;33m(\u001b[0m\u001b[0mmodule\u001b[0m\u001b[1;33m)\u001b[0m\u001b[1;33m\u001b[0m\u001b[1;33m\u001b[0m\u001b[0m\n\u001b[0;32m    517\u001b[0m \u001b[1;33m\u001b[0m\u001b[0m\n",
            "\u001b[1;32m~\\anaconda3\\lib\\site-packages\\threadpoolctl.py\u001b[0m in \u001b[0;36m__init__\u001b[1;34m(self, filepath, prefix, user_api, internal_api)\u001b[0m\n\u001b[0;32m    604\u001b[0m         \u001b[0mself\u001b[0m\u001b[1;33m.\u001b[0m\u001b[0minternal_api\u001b[0m \u001b[1;33m=\u001b[0m \u001b[0minternal_api\u001b[0m\u001b[1;33m\u001b[0m\u001b[1;33m\u001b[0m\u001b[0m\n\u001b[0;32m    605\u001b[0m         \u001b[0mself\u001b[0m\u001b[1;33m.\u001b[0m\u001b[0m_dynlib\u001b[0m \u001b[1;33m=\u001b[0m \u001b[0mctypes\u001b[0m\u001b[1;33m.\u001b[0m\u001b[0mCDLL\u001b[0m\u001b[1;33m(\u001b[0m\u001b[0mfilepath\u001b[0m\u001b[1;33m,\u001b[0m \u001b[0mmode\u001b[0m\u001b[1;33m=\u001b[0m\u001b[0m_RTLD_NOLOAD\u001b[0m\u001b[1;33m)\u001b[0m\u001b[1;33m\u001b[0m\u001b[1;33m\u001b[0m\u001b[0m\n\u001b[1;32m--> 606\u001b[1;33m         \u001b[0mself\u001b[0m\u001b[1;33m.\u001b[0m\u001b[0mversion\u001b[0m \u001b[1;33m=\u001b[0m \u001b[0mself\u001b[0m\u001b[1;33m.\u001b[0m\u001b[0mget_version\u001b[0m\u001b[1;33m(\u001b[0m\u001b[1;33m)\u001b[0m\u001b[1;33m\u001b[0m\u001b[1;33m\u001b[0m\u001b[0m\n\u001b[0m\u001b[0;32m    607\u001b[0m         \u001b[0mself\u001b[0m\u001b[1;33m.\u001b[0m\u001b[0mnum_threads\u001b[0m \u001b[1;33m=\u001b[0m \u001b[0mself\u001b[0m\u001b[1;33m.\u001b[0m\u001b[0mget_num_threads\u001b[0m\u001b[1;33m(\u001b[0m\u001b[1;33m)\u001b[0m\u001b[1;33m\u001b[0m\u001b[1;33m\u001b[0m\u001b[0m\n\u001b[0;32m    608\u001b[0m         \u001b[0mself\u001b[0m\u001b[1;33m.\u001b[0m\u001b[0m_get_extra_info\u001b[0m\u001b[1;33m(\u001b[0m\u001b[1;33m)\u001b[0m\u001b[1;33m\u001b[0m\u001b[1;33m\u001b[0m\u001b[0m\n",
            "\u001b[1;32m~\\anaconda3\\lib\\site-packages\\threadpoolctl.py\u001b[0m in \u001b[0;36mget_version\u001b[1;34m(self)\u001b[0m\n\u001b[0;32m    644\u001b[0m                              lambda: None)\n\u001b[0;32m    645\u001b[0m         \u001b[0mget_config\u001b[0m\u001b[1;33m.\u001b[0m\u001b[0mrestype\u001b[0m \u001b[1;33m=\u001b[0m \u001b[0mctypes\u001b[0m\u001b[1;33m.\u001b[0m\u001b[0mc_char_p\u001b[0m\u001b[1;33m\u001b[0m\u001b[1;33m\u001b[0m\u001b[0m\n\u001b[1;32m--> 646\u001b[1;33m         \u001b[0mconfig\u001b[0m \u001b[1;33m=\u001b[0m \u001b[0mget_config\u001b[0m\u001b[1;33m(\u001b[0m\u001b[1;33m)\u001b[0m\u001b[1;33m.\u001b[0m\u001b[0msplit\u001b[0m\u001b[1;33m(\u001b[0m\u001b[1;33m)\u001b[0m\u001b[1;33m\u001b[0m\u001b[1;33m\u001b[0m\u001b[0m\n\u001b[0m\u001b[0;32m    647\u001b[0m         \u001b[1;32mif\u001b[0m \u001b[0mconfig\u001b[0m\u001b[1;33m[\u001b[0m\u001b[1;36m0\u001b[0m\u001b[1;33m]\u001b[0m \u001b[1;33m==\u001b[0m \u001b[1;34mb\"OpenBLAS\"\u001b[0m\u001b[1;33m:\u001b[0m\u001b[1;33m\u001b[0m\u001b[1;33m\u001b[0m\u001b[0m\n\u001b[0;32m    648\u001b[0m             \u001b[1;32mreturn\u001b[0m \u001b[0mconfig\u001b[0m\u001b[1;33m[\u001b[0m\u001b[1;36m1\u001b[0m\u001b[1;33m]\u001b[0m\u001b[1;33m.\u001b[0m\u001b[0mdecode\u001b[0m\u001b[1;33m(\u001b[0m\u001b[1;34m\"utf-8\"\u001b[0m\u001b[1;33m)\u001b[0m\u001b[1;33m\u001b[0m\u001b[1;33m\u001b[0m\u001b[0m\n",
            "\u001b[1;31mAttributeError\u001b[0m: 'NoneType' object has no attribute 'split'"
          ]
        }
      ],
      "source": [
        "sse =[]\n",
        "for k in range(1,16):\n",
        "    km = KMeans(n_clusters=k)\n",
        "    km.fit_predict(x)\n",
        "    sse.append(km.inertia_)"
      ]
    },
    {
      "cell_type": "code",
      "execution_count": null,
      "id": "3897469b",
      "metadata": {
        "execution": {
          "iopub.execute_input": "2022-11-14T18:02:03.893784Z",
          "iopub.status.busy": "2022-11-14T18:02:03.893284Z",
          "iopub.status.idle": "2022-11-14T18:02:03.901937Z",
          "shell.execute_reply": "2022-11-14T18:02:03.900798Z"
        },
        "papermill": {
          "duration": 0.022585,
          "end_time": "2022-11-14T18:02:03.90437",
          "exception": false,
          "start_time": "2022-11-14T18:02:03.881785",
          "status": "completed"
        },
        "tags": [],
        "id": "3897469b"
      },
      "outputs": [],
      "source": [
        "sse"
      ]
    },
    {
      "cell_type": "markdown",
      "id": "caa8dde8",
      "metadata": {
        "papermill": {
          "duration": 0.009188,
          "end_time": "2022-11-14T18:02:03.923153",
          "exception": false,
          "start_time": "2022-11-14T18:02:03.913965",
          "status": "completed"
        },
        "tags": [],
        "id": "caa8dde8"
      },
      "source": [
        "Elbow Method"
      ]
    },
    {
      "cell_type": "code",
      "execution_count": null,
      "id": "87a7215f",
      "metadata": {
        "execution": {
          "iopub.execute_input": "2022-11-14T18:02:03.945298Z",
          "iopub.status.busy": "2022-11-14T18:02:03.94396Z",
          "iopub.status.idle": "2022-11-14T18:02:04.18918Z",
          "shell.execute_reply": "2022-11-14T18:02:04.187773Z"
        },
        "papermill": {
          "duration": 0.258915,
          "end_time": "2022-11-14T18:02:04.191827",
          "exception": false,
          "start_time": "2022-11-14T18:02:03.932912",
          "status": "completed"
        },
        "tags": [],
        "id": "87a7215f"
      },
      "outputs": [],
      "source": [
        "sns.lineplot(range(1,16),y = sse)\n",
        "plt.xlabel('Cluster')\n",
        "plt.ylabel('SSE')"
      ]
    },
    {
      "cell_type": "markdown",
      "id": "ee78dd2d",
      "metadata": {
        "papermill": {
          "duration": 0.009644,
          "end_time": "2022-11-14T18:02:04.211952",
          "exception": false,
          "start_time": "2022-11-14T18:02:04.202308",
          "status": "completed"
        },
        "tags": [],
        "id": "ee78dd2d"
      },
      "source": [
        "So at 5th cluster"
      ]
    },
    {
      "cell_type": "code",
      "execution_count": null,
      "id": "565865ab",
      "metadata": {
        "execution": {
          "iopub.execute_input": "2022-11-14T18:02:04.236698Z",
          "iopub.status.busy": "2022-11-14T18:02:04.235078Z",
          "iopub.status.idle": "2022-11-14T18:02:04.240776Z",
          "shell.execute_reply": "2022-11-14T18:02:04.23975Z"
        },
        "papermill": {
          "duration": 0.020695,
          "end_time": "2022-11-14T18:02:04.243251",
          "exception": false,
          "start_time": "2022-11-14T18:02:04.222556",
          "status": "completed"
        },
        "tags": [],
        "id": "565865ab"
      },
      "outputs": [],
      "source": [
        "#Method second or alternative for elbow method\n",
        "from sklearn.metrics import silhouette_score"
      ]
    },
    {
      "cell_type": "code",
      "execution_count": null,
      "id": "b8aeec70",
      "metadata": {
        "execution": {
          "iopub.execute_input": "2022-11-14T18:02:04.268409Z",
          "iopub.status.busy": "2022-11-14T18:02:04.267107Z",
          "iopub.status.idle": "2022-11-14T18:02:06.101333Z",
          "shell.execute_reply": "2022-11-14T18:02:06.100003Z"
        },
        "papermill": {
          "duration": 1.851765,
          "end_time": "2022-11-14T18:02:06.106067",
          "exception": false,
          "start_time": "2022-11-14T18:02:04.254302",
          "status": "completed"
        },
        "tags": [],
        "id": "b8aeec70"
      },
      "outputs": [],
      "source": [
        "silh =[]\n",
        "for k in range(2,16):\n",
        "    km = KMeans(n_clusters=k)\n",
        "    labels = km.fit_predict(x)\n",
        "    score = silhouette_score(x, labels)\n",
        "    silh.append(score)"
      ]
    },
    {
      "cell_type": "code",
      "execution_count": null,
      "id": "cd698a4f",
      "metadata": {
        "execution": {
          "iopub.execute_input": "2022-11-14T18:02:06.169992Z",
          "iopub.status.busy": "2022-11-14T18:02:06.169208Z",
          "iopub.status.idle": "2022-11-14T18:02:06.180467Z",
          "shell.execute_reply": "2022-11-14T18:02:06.179305Z"
        },
        "papermill": {
          "duration": 0.041893,
          "end_time": "2022-11-14T18:02:06.183671",
          "exception": false,
          "start_time": "2022-11-14T18:02:06.141778",
          "status": "completed"
        },
        "tags": [],
        "id": "cd698a4f"
      },
      "outputs": [],
      "source": [
        "silh"
      ]
    },
    {
      "cell_type": "code",
      "execution_count": null,
      "id": "3ba6e795",
      "metadata": {
        "execution": {
          "iopub.execute_input": "2022-11-14T18:02:06.22435Z",
          "iopub.status.busy": "2022-11-14T18:02:06.223855Z",
          "iopub.status.idle": "2022-11-14T18:02:06.441751Z",
          "shell.execute_reply": "2022-11-14T18:02:06.440608Z"
        },
        "papermill": {
          "duration": 0.233573,
          "end_time": "2022-11-14T18:02:06.4444",
          "exception": false,
          "start_time": "2022-11-14T18:02:06.210827",
          "status": "completed"
        },
        "tags": [],
        "id": "3ba6e795"
      },
      "outputs": [],
      "source": [
        "sns.lineplot(range(2,16),y = silh)\n",
        "plt.xlabel('Cluster')\n",
        "plt.ylabel('silh')"
      ]
    },
    {
      "cell_type": "markdown",
      "id": "838c4956",
      "metadata": {
        "papermill": {
          "duration": 0.010976,
          "end_time": "2022-11-14T18:02:06.4661",
          "exception": false,
          "start_time": "2022-11-14T18:02:06.455124",
          "status": "completed"
        },
        "tags": [],
        "id": "838c4956"
      },
      "source": [
        "same at 5th cluster we are getting highest silhouette_score,<br>\n",
        "this is efficient cluster"
      ]
    },
    {
      "cell_type": "code",
      "execution_count": null,
      "id": "bc29c4e6",
      "metadata": {
        "execution": {
          "iopub.execute_input": "2022-11-14T18:02:06.490834Z",
          "iopub.status.busy": "2022-11-14T18:02:06.490332Z",
          "iopub.status.idle": "2022-11-14T18:02:06.690734Z",
          "shell.execute_reply": "2022-11-14T18:02:06.689464Z"
        },
        "papermill": {
          "duration": 0.216055,
          "end_time": "2022-11-14T18:02:06.693722",
          "exception": false,
          "start_time": "2022-11-14T18:02:06.477667",
          "status": "completed"
        },
        "tags": [],
        "id": "bc29c4e6"
      },
      "outputs": [],
      "source": [
        "plt.bar(range(2,16,1),silh)"
      ]
    },
    {
      "cell_type": "code",
      "execution_count": null,
      "id": "edd4664f",
      "metadata": {
        "execution": {
          "iopub.execute_input": "2022-11-14T18:02:06.719591Z",
          "iopub.status.busy": "2022-11-14T18:02:06.718168Z",
          "iopub.status.idle": "2022-11-14T18:02:06.72419Z",
          "shell.execute_reply": "2022-11-14T18:02:06.723264Z"
        },
        "papermill": {
          "duration": 0.021403,
          "end_time": "2022-11-14T18:02:06.726666",
          "exception": false,
          "start_time": "2022-11-14T18:02:06.705263",
          "status": "completed"
        },
        "tags": [],
        "id": "edd4664f"
      },
      "outputs": [],
      "source": [
        "km = KMeans(n_clusters=5,random_state=1)"
      ]
    },
    {
      "cell_type": "code",
      "execution_count": null,
      "id": "0fdedeca",
      "metadata": {
        "execution": {
          "iopub.execute_input": "2022-11-14T18:02:06.751983Z",
          "iopub.status.busy": "2022-11-14T18:02:06.751531Z",
          "iopub.status.idle": "2022-11-14T18:02:06.797047Z",
          "shell.execute_reply": "2022-11-14T18:02:06.795934Z"
        },
        "papermill": {
          "duration": 0.061741,
          "end_time": "2022-11-14T18:02:06.800158",
          "exception": false,
          "start_time": "2022-11-14T18:02:06.738417",
          "status": "completed"
        },
        "tags": [],
        "id": "0fdedeca"
      },
      "outputs": [],
      "source": [
        "labels = km.fit_predict(x)"
      ]
    },
    {
      "cell_type": "code",
      "execution_count": null,
      "id": "74a907f2",
      "metadata": {
        "execution": {
          "iopub.execute_input": "2022-11-14T18:02:06.83061Z",
          "iopub.status.busy": "2022-11-14T18:02:06.829759Z",
          "iopub.status.idle": "2022-11-14T18:02:06.838774Z",
          "shell.execute_reply": "2022-11-14T18:02:06.837668Z"
        },
        "papermill": {
          "duration": 0.025277,
          "end_time": "2022-11-14T18:02:06.841427",
          "exception": false,
          "start_time": "2022-11-14T18:02:06.81615",
          "status": "completed"
        },
        "tags": [],
        "id": "74a907f2"
      },
      "outputs": [],
      "source": [
        "km.labels_"
      ]
    },
    {
      "cell_type": "code",
      "execution_count": null,
      "id": "d321d475",
      "metadata": {
        "execution": {
          "iopub.execute_input": "2022-11-14T18:02:06.868133Z",
          "iopub.status.busy": "2022-11-14T18:02:06.866971Z",
          "iopub.status.idle": "2022-11-14T18:02:06.872635Z",
          "shell.execute_reply": "2022-11-14T18:02:06.871328Z"
        },
        "papermill": {
          "duration": 0.021768,
          "end_time": "2022-11-14T18:02:06.875225",
          "exception": false,
          "start_time": "2022-11-14T18:02:06.853457",
          "status": "completed"
        },
        "tags": [],
        "id": "d321d475"
      },
      "outputs": [],
      "source": [
        "cent = km.cluster_centers_"
      ]
    },
    {
      "cell_type": "code",
      "execution_count": null,
      "id": "d8b8d46a",
      "metadata": {
        "execution": {
          "iopub.execute_input": "2022-11-14T18:02:06.901369Z",
          "iopub.status.busy": "2022-11-14T18:02:06.900874Z",
          "iopub.status.idle": "2022-11-14T18:02:07.189657Z",
          "shell.execute_reply": "2022-11-14T18:02:07.187974Z"
        },
        "papermill": {
          "duration": 0.306572,
          "end_time": "2022-11-14T18:02:07.19389",
          "exception": false,
          "start_time": "2022-11-14T18:02:06.887318",
          "status": "completed"
        },
        "tags": [],
        "id": "d8b8d46a"
      },
      "outputs": [],
      "source": [
        "plt.title('Clustered Data')\n",
        "sns.scatterplot(x=x['Annual Income (k$)'],y=x['Spending Score (1-100)'],c=labels )\n",
        "sns.scatterplot(cent[:,0],cent[:,1], s=200, color='red')"
      ]
    },
    {
      "cell_type": "code",
      "execution_count": null,
      "id": "e66f179b",
      "metadata": {
        "execution": {
          "iopub.execute_input": "2022-11-14T18:02:07.223477Z",
          "iopub.status.busy": "2022-11-14T18:02:07.222799Z",
          "iopub.status.idle": "2022-11-14T18:02:07.240184Z",
          "shell.execute_reply": "2022-11-14T18:02:07.238004Z"
        },
        "papermill": {
          "duration": 0.035237,
          "end_time": "2022-11-14T18:02:07.243179",
          "exception": false,
          "start_time": "2022-11-14T18:02:07.207942",
          "status": "completed"
        },
        "tags": [],
        "id": "e66f179b"
      },
      "outputs": [],
      "source": [
        "df[labels==0]"
      ]
    },
    {
      "cell_type": "code",
      "execution_count": null,
      "id": "7b8a487c",
      "metadata": {
        "execution": {
          "iopub.execute_input": "2022-11-14T18:02:07.273025Z",
          "iopub.status.busy": "2022-11-14T18:02:07.272596Z",
          "iopub.status.idle": "2022-11-14T18:02:07.277263Z",
          "shell.execute_reply": "2022-11-14T18:02:07.276277Z"
        },
        "papermill": {
          "duration": 0.022702,
          "end_time": "2022-11-14T18:02:07.279698",
          "exception": false,
          "start_time": "2022-11-14T18:02:07.256996",
          "status": "completed"
        },
        "tags": [],
        "id": "7b8a487c"
      },
      "outputs": [],
      "source": [
        "agl = AgglomerativeClustering(n_clusters=5)"
      ]
    },
    {
      "cell_type": "code",
      "execution_count": null,
      "id": "5026b1c8",
      "metadata": {
        "execution": {
          "iopub.execute_input": "2022-11-14T18:02:07.30948Z",
          "iopub.status.busy": "2022-11-14T18:02:07.309046Z",
          "iopub.status.idle": "2022-11-14T18:02:07.318161Z",
          "shell.execute_reply": "2022-11-14T18:02:07.316706Z"
        },
        "papermill": {
          "duration": 0.027434,
          "end_time": "2022-11-14T18:02:07.321385",
          "exception": false,
          "start_time": "2022-11-14T18:02:07.293951",
          "status": "completed"
        },
        "tags": [],
        "id": "5026b1c8"
      },
      "outputs": [],
      "source": [
        "alabels = agl.fit_predict(x)"
      ]
    },
    {
      "cell_type": "code",
      "execution_count": null,
      "id": "1f6c012a",
      "metadata": {
        "execution": {
          "iopub.execute_input": "2022-11-14T18:02:07.350505Z",
          "iopub.status.busy": "2022-11-14T18:02:07.350026Z",
          "iopub.status.idle": "2022-11-14T18:02:07.359084Z",
          "shell.execute_reply": "2022-11-14T18:02:07.357553Z"
        },
        "papermill": {
          "duration": 0.027273,
          "end_time": "2022-11-14T18:02:07.362047",
          "exception": false,
          "start_time": "2022-11-14T18:02:07.334774",
          "status": "completed"
        },
        "tags": [],
        "id": "1f6c012a"
      },
      "outputs": [],
      "source": [
        "alabels"
      ]
    },
    {
      "cell_type": "code",
      "execution_count": null,
      "id": "321afc29",
      "metadata": {
        "execution": {
          "iopub.execute_input": "2022-11-14T18:02:07.391427Z",
          "iopub.status.busy": "2022-11-14T18:02:07.390982Z",
          "iopub.status.idle": "2022-11-14T18:02:07.901349Z",
          "shell.execute_reply": "2022-11-14T18:02:07.900002Z"
        },
        "papermill": {
          "duration": 0.528358,
          "end_time": "2022-11-14T18:02:07.904349",
          "exception": false,
          "start_time": "2022-11-14T18:02:07.375991",
          "status": "completed"
        },
        "tags": [],
        "id": "321afc29"
      },
      "outputs": [],
      "source": [
        "plt.figure(figsize=(16,9))\n",
        "plt.subplot(1,2,1)\n",
        "plt.title('Agglomerative')\n",
        "sns.scatterplot(x=x['Annual Income (k$)'],y=x['Spending Score (1-100)'], c= alabels)\n",
        "\n",
        "plt.subplot(1,2,2)\n",
        "plt.title('KMEANS')\n",
        "sns.scatterplot(x=x['Annual Income (k$)'],y=x['Spending Score (1-100)'],c=labels )\n",
        "sns.scatterplot(cent[:,0],cent[:,1], s=200, color='red')"
      ]
    }
  ],
  "metadata": {
    "kernelspec": {
      "display_name": "Python 3 (ipykernel)",
      "language": "python",
      "name": "python3"
    },
    "language_info": {
      "codemirror_mode": {
        "name": "ipython",
        "version": 3
      },
      "file_extension": ".py",
      "mimetype": "text/x-python",
      "name": "python",
      "nbconvert_exporter": "python",
      "pygments_lexer": "ipython3",
      "version": "3.9.13"
    },
    "papermill": {
      "default_parameters": {},
      "duration": 18.178348,
      "end_time": "2022-11-14T18:02:08.945617",
      "environment_variables": {},
      "exception": null,
      "input_path": "__notebook__.ipynb",
      "output_path": "__notebook__.ipynb",
      "parameters": {},
      "start_time": "2022-11-14T18:01:50.767269",
      "version": "2.3.4"
    },
    "colab": {
      "provenance": [],
      "include_colab_link": true
    }
  },
  "nbformat": 4,
  "nbformat_minor": 5
}