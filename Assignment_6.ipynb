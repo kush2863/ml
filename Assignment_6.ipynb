{
  "cells": [
    {
      "cell_type": "markdown",
      "metadata": {
        "id": "view-in-github",
        "colab_type": "text"
      },
      "source": [
        "<a href=\"https://colab.research.google.com/github/kush2863/ml/blob/main/Assignment_6.ipynb\" target=\"_parent\"><img src=\"https://colab.research.google.com/assets/colab-badge.svg\" alt=\"Open In Colab\"/></a>"
      ]
    },
    {
      "cell_type": "code",
      "execution_count": null,
      "id": "cc897de7",
      "metadata": {
        "execution": {
          "iopub.execute_input": "2022-11-14T18:05:35.570425Z",
          "iopub.status.busy": "2022-11-14T18:05:35.569658Z",
          "iopub.status.idle": "2022-11-14T18:05:35.586585Z",
          "shell.execute_reply": "2022-11-14T18:05:35.585539Z"
        },
        "papermill": {
          "duration": 0.025665,
          "end_time": "2022-11-14T18:05:35.589107",
          "exception": false,
          "start_time": "2022-11-14T18:05:35.563442",
          "status": "completed"
        },
        "tags": [],
        "id": "cc897de7"
      },
      "outputs": [],
      "source": [
        "# This Python 3 environment comes with many helpful analytics libraries installed\n",
        "# It is defined by the kaggle/python Docker image: https://github.com/kaggle/docker-python\n",
        "# For example, here's several helpful packages to load\n",
        "\n",
        "import numpy as np # linear algebra\n",
        "import pandas as pd # data processing, CSV file I/O (e.g. pd.read_csv)\n",
        "\n",
        "# Input data files are available in the read-only \"../input/\" directory\n",
        "# For example, running this (by clicking run or pressing Shift+Enter) will list all files under the input directory\n",
        "\n",
        "import os\n",
        "for dirname, _, filenames in os.walk('/kaggle/input'):\n",
        "    for filename in filenames:\n",
        "        print(os.path.join(dirname, filename))\n",
        "\n",
        "# You can write up to 20GB to the current directory (/kaggle/working/) that gets preserved as output when you create a version using \"Save & Run All\"\n",
        "# You can also write temporary files to /kaggle/temp/, but they won't be saved outside of the current session"
      ]
    },
    {
      "cell_type": "code",
      "execution_count": null,
      "id": "0260efc0",
      "metadata": {
        "execution": {
          "iopub.execute_input": "2022-11-14T18:05:35.601407Z",
          "iopub.status.busy": "2022-11-14T18:05:35.600686Z",
          "iopub.status.idle": "2022-11-14T18:05:48.439633Z",
          "shell.execute_reply": "2022-11-14T18:05:48.438023Z"
        },
        "papermill": {
          "duration": 12.848259,
          "end_time": "2022-11-14T18:05:48.442597",
          "exception": false,
          "start_time": "2022-11-14T18:05:35.594338",
          "status": "completed"
        },
        "tags": [],
        "collapsed": true,
        "id": "0260efc0",
        "outputId": "b70385aa-34dd-419c-d069-39c71ee4171f"
      },
      "outputs": [
        {
          "name": "stdout",
          "output_type": "stream",
          "text": [
            "Requirement already satisfied: mlxtend in c:\\users\\comp\\anaconda3\\lib\\site-packages (0.23.1)\n",
            "Requirement already satisfied: matplotlib>=3.0.0 in c:\\users\\comp\\anaconda3\\lib\\site-packages (from mlxtend) (3.5.2)\n",
            "Requirement already satisfied: pandas>=0.24.2 in c:\\users\\comp\\anaconda3\\lib\\site-packages (from mlxtend) (1.4.4)\n",
            "Requirement already satisfied: scikit-learn>=1.0.2 in c:\\users\\comp\\anaconda3\\lib\\site-packages (from mlxtend) (1.0.2)\n",
            "Requirement already satisfied: numpy>=1.16.2 in c:\\users\\comp\\anaconda3\\lib\\site-packages (from mlxtend) (1.24.4)\n",
            "Requirement already satisfied: joblib>=0.13.2 in c:\\users\\comp\\anaconda3\\lib\\site-packages (from mlxtend) (1.1.0)\n",
            "Requirement already satisfied: scipy>=1.2.1 in c:\\users\\comp\\anaconda3\\lib\\site-packages (from mlxtend) (1.9.1)\n",
            "Requirement already satisfied: pillow>=6.2.0 in c:\\users\\comp\\anaconda3\\lib\\site-packages (from matplotlib>=3.0.0->mlxtend) (9.2.0)\n",
            "Requirement already satisfied: packaging>=20.0 in c:\\users\\comp\\anaconda3\\lib\\site-packages (from matplotlib>=3.0.0->mlxtend) (21.3)\n",
            "Requirement already satisfied: pyparsing>=2.2.1 in c:\\users\\comp\\anaconda3\\lib\\site-packages (from matplotlib>=3.0.0->mlxtend) (3.0.9)\n",
            "Requirement already satisfied: python-dateutil>=2.7 in c:\\users\\comp\\anaconda3\\lib\\site-packages (from matplotlib>=3.0.0->mlxtend) (2.8.2)\n",
            "Requirement already satisfied: kiwisolver>=1.0.1 in c:\\users\\comp\\anaconda3\\lib\\site-packages (from matplotlib>=3.0.0->mlxtend) (1.4.2)\n",
            "Requirement already satisfied: fonttools>=4.22.0 in c:\\users\\comp\\anaconda3\\lib\\site-packages (from matplotlib>=3.0.0->mlxtend) (4.25.0)\n",
            "Requirement already satisfied: cycler>=0.10 in c:\\users\\comp\\anaconda3\\lib\\site-packages (from matplotlib>=3.0.0->mlxtend) (0.11.0)\n",
            "Requirement already satisfied: pytz>=2020.1 in c:\\users\\comp\\anaconda3\\lib\\site-packages (from pandas>=0.24.2->mlxtend) (2022.1)\n",
            "Requirement already satisfied: threadpoolctl>=2.0.0 in c:\\users\\comp\\anaconda3\\lib\\site-packages (from scikit-learn>=1.0.2->mlxtend) (2.2.0)\n",
            "Requirement already satisfied: six>=1.5 in c:\\users\\comp\\anaconda3\\lib\\site-packages (from python-dateutil>=2.7->matplotlib>=3.0.0->mlxtend) (1.16.0)\n"
          ]
        }
      ],
      "source": [
        "!pip install mlxtend"
      ]
    },
    {
      "cell_type": "code",
      "execution_count": null,
      "id": "d8a38e80",
      "metadata": {
        "execution": {
          "iopub.execute_input": "2022-11-14T18:05:48.455904Z",
          "iopub.status.busy": "2022-11-14T18:05:48.455174Z",
          "iopub.status.idle": "2022-11-14T18:05:49.502847Z",
          "shell.execute_reply": "2022-11-14T18:05:49.501636Z"
        },
        "papermill": {
          "duration": 1.057482,
          "end_time": "2022-11-14T18:05:49.505732",
          "exception": false,
          "start_time": "2022-11-14T18:05:48.44825",
          "status": "completed"
        },
        "tags": [],
        "id": "d8a38e80",
        "outputId": "c3b2cc53-e116-4021-f635-389324fc4e2b"
      },
      "outputs": [
        {
          "ename": "ImportError",
          "evalue": "DLL load failed while importing lapack_lite: The specified module could not be found.",
          "output_type": "error",
          "traceback": [
            "\u001b[1;31m---------------------------------------------------------------------------\u001b[0m",
            "\u001b[1;31mImportError\u001b[0m                               Traceback (most recent call last)",
            "\u001b[1;32m~\\AppData\\Local\\Temp\\ipykernel_15800\\1489943166.py\u001b[0m in \u001b[0;36m<module>\u001b[1;34m\u001b[0m\n\u001b[0;32m      1\u001b[0m \u001b[1;32mimport\u001b[0m \u001b[0mcsv\u001b[0m\u001b[1;33m\u001b[0m\u001b[1;33m\u001b[0m\u001b[0m\n\u001b[1;32m----> 2\u001b[1;33m \u001b[1;32mfrom\u001b[0m \u001b[0mmlxtend\u001b[0m\u001b[1;33m.\u001b[0m\u001b[0mpreprocessing\u001b[0m \u001b[1;32mimport\u001b[0m \u001b[0mTransactionEncoder\u001b[0m\u001b[1;33m\u001b[0m\u001b[1;33m\u001b[0m\u001b[0m\n\u001b[0m\u001b[0;32m      3\u001b[0m \u001b[1;32mfrom\u001b[0m \u001b[0mmlxtend\u001b[0m\u001b[1;33m.\u001b[0m\u001b[0mfrequent_patterns\u001b[0m \u001b[1;32mimport\u001b[0m \u001b[0mapriori\u001b[0m\u001b[1;33m,\u001b[0m \u001b[0massociation_rules\u001b[0m\u001b[1;33m\u001b[0m\u001b[1;33m\u001b[0m\u001b[0m\n",
            "\u001b[1;32m~\\anaconda3\\lib\\site-packages\\mlxtend\\preprocessing\\__init__.py\u001b[0m in \u001b[0;36m<module>\u001b[1;34m\u001b[0m\n\u001b[0;32m      5\u001b[0m \u001b[1;31m# License: BSD 3 clause\u001b[0m\u001b[1;33m\u001b[0m\u001b[1;33m\u001b[0m\u001b[0m\n\u001b[0;32m      6\u001b[0m \u001b[1;33m\u001b[0m\u001b[0m\n\u001b[1;32m----> 7\u001b[1;33m \u001b[1;32mfrom\u001b[0m \u001b[1;33m.\u001b[0m\u001b[0mcopy_transformer\u001b[0m \u001b[1;32mimport\u001b[0m \u001b[0mCopyTransformer\u001b[0m\u001b[1;33m\u001b[0m\u001b[1;33m\u001b[0m\u001b[0m\n\u001b[0m\u001b[0;32m      8\u001b[0m \u001b[1;32mfrom\u001b[0m \u001b[1;33m.\u001b[0m\u001b[0mdense_transformer\u001b[0m \u001b[1;32mimport\u001b[0m \u001b[0mDenseTransformer\u001b[0m\u001b[1;33m\u001b[0m\u001b[1;33m\u001b[0m\u001b[0m\n\u001b[0;32m      9\u001b[0m \u001b[1;32mfrom\u001b[0m \u001b[1;33m.\u001b[0m\u001b[0mmean_centering\u001b[0m \u001b[1;32mimport\u001b[0m \u001b[0mMeanCenterer\u001b[0m\u001b[1;33m\u001b[0m\u001b[1;33m\u001b[0m\u001b[0m\n",
            "\u001b[1;32m~\\anaconda3\\lib\\site-packages\\mlxtend\\preprocessing\\copy_transformer.py\u001b[0m in \u001b[0;36m<module>\u001b[1;34m\u001b[0m\n\u001b[0;32m      9\u001b[0m \u001b[1;32mimport\u001b[0m \u001b[0mnumpy\u001b[0m \u001b[1;32mas\u001b[0m \u001b[0mnp\u001b[0m\u001b[1;33m\u001b[0m\u001b[1;33m\u001b[0m\u001b[0m\n\u001b[0;32m     10\u001b[0m \u001b[1;32mfrom\u001b[0m \u001b[0mscipy\u001b[0m\u001b[1;33m.\u001b[0m\u001b[0msparse\u001b[0m \u001b[1;32mimport\u001b[0m \u001b[0missparse\u001b[0m\u001b[1;33m\u001b[0m\u001b[1;33m\u001b[0m\u001b[0m\n\u001b[1;32m---> 11\u001b[1;33m \u001b[1;32mfrom\u001b[0m \u001b[0msklearn\u001b[0m\u001b[1;33m.\u001b[0m\u001b[0mbase\u001b[0m \u001b[1;32mimport\u001b[0m \u001b[0mBaseEstimator\u001b[0m\u001b[1;33m\u001b[0m\u001b[1;33m\u001b[0m\u001b[0m\n\u001b[0m\u001b[0;32m     12\u001b[0m \u001b[1;33m\u001b[0m\u001b[0m\n\u001b[0;32m     13\u001b[0m \u001b[1;33m\u001b[0m\u001b[0m\n",
            "\u001b[1;32m~\\anaconda3\\lib\\site-packages\\sklearn\\__init__.py\u001b[0m in \u001b[0;36m<module>\u001b[1;34m\u001b[0m\n\u001b[0;32m     80\u001b[0m     \u001b[1;32mfrom\u001b[0m \u001b[1;33m.\u001b[0m \u001b[1;32mimport\u001b[0m \u001b[0m_distributor_init\u001b[0m  \u001b[1;31m# noqa: F401\u001b[0m\u001b[1;33m\u001b[0m\u001b[1;33m\u001b[0m\u001b[0m\n\u001b[0;32m     81\u001b[0m     \u001b[1;32mfrom\u001b[0m \u001b[1;33m.\u001b[0m \u001b[1;32mimport\u001b[0m \u001b[0m__check_build\u001b[0m  \u001b[1;31m# noqa: F401\u001b[0m\u001b[1;33m\u001b[0m\u001b[1;33m\u001b[0m\u001b[0m\n\u001b[1;32m---> 82\u001b[1;33m     \u001b[1;32mfrom\u001b[0m \u001b[1;33m.\u001b[0m\u001b[0mbase\u001b[0m \u001b[1;32mimport\u001b[0m \u001b[0mclone\u001b[0m\u001b[1;33m\u001b[0m\u001b[1;33m\u001b[0m\u001b[0m\n\u001b[0m\u001b[0;32m     83\u001b[0m     \u001b[1;32mfrom\u001b[0m \u001b[1;33m.\u001b[0m\u001b[0mutils\u001b[0m\u001b[1;33m.\u001b[0m\u001b[0m_show_versions\u001b[0m \u001b[1;32mimport\u001b[0m \u001b[0mshow_versions\u001b[0m\u001b[1;33m\u001b[0m\u001b[1;33m\u001b[0m\u001b[0m\n\u001b[0;32m     84\u001b[0m \u001b[1;33m\u001b[0m\u001b[0m\n",
            "\u001b[1;32m~\\anaconda3\\lib\\site-packages\\sklearn\\base.py\u001b[0m in \u001b[0;36m<module>\u001b[1;34m\u001b[0m\n\u001b[0;32m     15\u001b[0m \u001b[1;32mfrom\u001b[0m \u001b[1;33m.\u001b[0m \u001b[1;32mimport\u001b[0m \u001b[0m__version__\u001b[0m\u001b[1;33m\u001b[0m\u001b[1;33m\u001b[0m\u001b[0m\n\u001b[0;32m     16\u001b[0m \u001b[1;32mfrom\u001b[0m \u001b[1;33m.\u001b[0m\u001b[0m_config\u001b[0m \u001b[1;32mimport\u001b[0m \u001b[0mget_config\u001b[0m\u001b[1;33m\u001b[0m\u001b[1;33m\u001b[0m\u001b[0m\n\u001b[1;32m---> 17\u001b[1;33m \u001b[1;32mfrom\u001b[0m \u001b[1;33m.\u001b[0m\u001b[0mutils\u001b[0m \u001b[1;32mimport\u001b[0m \u001b[0m_IS_32BIT\u001b[0m\u001b[1;33m\u001b[0m\u001b[1;33m\u001b[0m\u001b[0m\n\u001b[0m\u001b[0;32m     18\u001b[0m from .utils._tags import (\n\u001b[0;32m     19\u001b[0m     \u001b[0m_DEFAULT_TAGS\u001b[0m\u001b[1;33m,\u001b[0m\u001b[1;33m\u001b[0m\u001b[1;33m\u001b[0m\u001b[0m\n",
            "\u001b[1;32m~\\anaconda3\\lib\\site-packages\\sklearn\\utils\\__init__.py\u001b[0m in \u001b[0;36m<module>\u001b[1;34m\u001b[0m\n\u001b[0;32m     26\u001b[0m \u001b[1;32mfrom\u001b[0m \u001b[1;33m.\u001b[0m\u001b[1;33m.\u001b[0m\u001b[0mexceptions\u001b[0m \u001b[1;32mimport\u001b[0m \u001b[0mDataConversionWarning\u001b[0m\u001b[1;33m\u001b[0m\u001b[1;33m\u001b[0m\u001b[0m\n\u001b[0;32m     27\u001b[0m \u001b[1;32mfrom\u001b[0m \u001b[1;33m.\u001b[0m\u001b[0mdeprecation\u001b[0m \u001b[1;32mimport\u001b[0m \u001b[0mdeprecated\u001b[0m\u001b[1;33m\u001b[0m\u001b[1;33m\u001b[0m\u001b[0m\n\u001b[1;32m---> 28\u001b[1;33m \u001b[1;32mfrom\u001b[0m \u001b[1;33m.\u001b[0m\u001b[0mfixes\u001b[0m \u001b[1;32mimport\u001b[0m \u001b[0mnp_version\u001b[0m\u001b[1;33m,\u001b[0m \u001b[0mparse_version\u001b[0m\u001b[1;33m\u001b[0m\u001b[1;33m\u001b[0m\u001b[0m\n\u001b[0m\u001b[0;32m     29\u001b[0m \u001b[1;32mfrom\u001b[0m \u001b[1;33m.\u001b[0m\u001b[0m_estimator_html_repr\u001b[0m \u001b[1;32mimport\u001b[0m \u001b[0mestimator_html_repr\u001b[0m\u001b[1;33m\u001b[0m\u001b[1;33m\u001b[0m\u001b[0m\n\u001b[0;32m     30\u001b[0m from .validation import (\n",
            "\u001b[1;32m~\\anaconda3\\lib\\site-packages\\sklearn\\utils\\fixes.py\u001b[0m in \u001b[0;36m<module>\u001b[1;34m\u001b[0m\n\u001b[0;32m     18\u001b[0m \u001b[1;32mimport\u001b[0m \u001b[0mscipy\u001b[0m\u001b[1;33m.\u001b[0m\u001b[0msparse\u001b[0m \u001b[1;32mas\u001b[0m \u001b[0msp\u001b[0m\u001b[1;33m\u001b[0m\u001b[1;33m\u001b[0m\u001b[0m\n\u001b[0;32m     19\u001b[0m \u001b[1;32mimport\u001b[0m \u001b[0mscipy\u001b[0m\u001b[1;33m\u001b[0m\u001b[1;33m\u001b[0m\u001b[0m\n\u001b[1;32m---> 20\u001b[1;33m \u001b[1;32mimport\u001b[0m \u001b[0mscipy\u001b[0m\u001b[1;33m.\u001b[0m\u001b[0mstats\u001b[0m\u001b[1;33m\u001b[0m\u001b[1;33m\u001b[0m\u001b[0m\n\u001b[0m\u001b[0;32m     21\u001b[0m \u001b[1;32mfrom\u001b[0m \u001b[0mscipy\u001b[0m\u001b[1;33m.\u001b[0m\u001b[0msparse\u001b[0m\u001b[1;33m.\u001b[0m\u001b[0mlinalg\u001b[0m \u001b[1;32mimport\u001b[0m \u001b[0mlsqr\u001b[0m \u001b[1;32mas\u001b[0m \u001b[0msparse_lsqr\u001b[0m  \u001b[1;31m# noqa\u001b[0m\u001b[1;33m\u001b[0m\u001b[1;33m\u001b[0m\u001b[0m\n\u001b[0;32m     22\u001b[0m \u001b[1;32mimport\u001b[0m \u001b[0mthreadpoolctl\u001b[0m\u001b[1;33m\u001b[0m\u001b[1;33m\u001b[0m\u001b[0m\n",
            "\u001b[1;32m~\\anaconda3\\lib\\site-packages\\scipy\\stats\\__init__.py\u001b[0m in \u001b[0;36m<module>\u001b[1;34m\u001b[0m\n\u001b[0;32m    465\u001b[0m from ._warnings_errors import (ConstantInputWarning, NearConstantInputWarning,\n\u001b[0;32m    466\u001b[0m                                DegenerateDataWarning, FitError)\n\u001b[1;32m--> 467\u001b[1;33m \u001b[1;32mfrom\u001b[0m \u001b[1;33m.\u001b[0m\u001b[0m_stats_py\u001b[0m \u001b[1;32mimport\u001b[0m \u001b[1;33m*\u001b[0m\u001b[1;33m\u001b[0m\u001b[1;33m\u001b[0m\u001b[0m\n\u001b[0m\u001b[0;32m    468\u001b[0m \u001b[1;32mfrom\u001b[0m \u001b[1;33m.\u001b[0m\u001b[0m_variation\u001b[0m \u001b[1;32mimport\u001b[0m \u001b[0mvariation\u001b[0m\u001b[1;33m\u001b[0m\u001b[1;33m\u001b[0m\u001b[0m\n\u001b[0;32m    469\u001b[0m \u001b[1;32mfrom\u001b[0m \u001b[1;33m.\u001b[0m\u001b[0mdistributions\u001b[0m \u001b[1;32mimport\u001b[0m \u001b[1;33m*\u001b[0m\u001b[1;33m\u001b[0m\u001b[1;33m\u001b[0m\u001b[0m\n",
            "\u001b[1;32m~\\anaconda3\\lib\\site-packages\\scipy\\stats\\_stats_py.py\u001b[0m in \u001b[0;36m<module>\u001b[1;34m\u001b[0m\n\u001b[0;32m     35\u001b[0m \u001b[1;32mfrom\u001b[0m \u001b[0mnumpy\u001b[0m \u001b[1;32mimport\u001b[0m \u001b[0marray\u001b[0m\u001b[1;33m,\u001b[0m \u001b[0masarray\u001b[0m\u001b[1;33m,\u001b[0m \u001b[0mma\u001b[0m\u001b[1;33m\u001b[0m\u001b[1;33m\u001b[0m\u001b[0m\n\u001b[0;32m     36\u001b[0m \u001b[1;32mfrom\u001b[0m \u001b[0mnumpy\u001b[0m\u001b[1;33m.\u001b[0m\u001b[0mlib\u001b[0m \u001b[1;32mimport\u001b[0m \u001b[0mNumpyVersion\u001b[0m\u001b[1;33m\u001b[0m\u001b[1;33m\u001b[0m\u001b[0m\n\u001b[1;32m---> 37\u001b[1;33m \u001b[1;32mfrom\u001b[0m \u001b[0mnumpy\u001b[0m\u001b[1;33m.\u001b[0m\u001b[0mtesting\u001b[0m \u001b[1;32mimport\u001b[0m \u001b[0msuppress_warnings\u001b[0m\u001b[1;33m\u001b[0m\u001b[1;33m\u001b[0m\u001b[0m\n\u001b[0m\u001b[0;32m     38\u001b[0m \u001b[1;33m\u001b[0m\u001b[0m\n\u001b[0;32m     39\u001b[0m \u001b[1;32mfrom\u001b[0m \u001b[0mscipy\u001b[0m\u001b[1;33m.\u001b[0m\u001b[0mspatial\u001b[0m\u001b[1;33m.\u001b[0m\u001b[0mdistance\u001b[0m \u001b[1;32mimport\u001b[0m \u001b[0mcdist\u001b[0m\u001b[1;33m\u001b[0m\u001b[1;33m\u001b[0m\u001b[0m\n",
            "\u001b[1;32m~\\anaconda3\\lib\\site-packages\\numpy\\testing\\__init__.py\u001b[0m in \u001b[0;36m<module>\u001b[1;34m\u001b[0m\n\u001b[0;32m      9\u001b[0m \u001b[1;33m\u001b[0m\u001b[0m\n\u001b[0;32m     10\u001b[0m \u001b[1;32mfrom\u001b[0m \u001b[1;33m.\u001b[0m \u001b[1;32mimport\u001b[0m \u001b[0m_private\u001b[0m\u001b[1;33m\u001b[0m\u001b[1;33m\u001b[0m\u001b[0m\n\u001b[1;32m---> 11\u001b[1;33m \u001b[1;32mfrom\u001b[0m \u001b[1;33m.\u001b[0m\u001b[0m_private\u001b[0m\u001b[1;33m.\u001b[0m\u001b[0mutils\u001b[0m \u001b[1;32mimport\u001b[0m \u001b[1;33m*\u001b[0m\u001b[1;33m\u001b[0m\u001b[1;33m\u001b[0m\u001b[0m\n\u001b[0m\u001b[0;32m     12\u001b[0m \u001b[1;32mfrom\u001b[0m \u001b[1;33m.\u001b[0m\u001b[0m_private\u001b[0m\u001b[1;33m.\u001b[0m\u001b[0mutils\u001b[0m \u001b[1;32mimport\u001b[0m \u001b[1;33m(\u001b[0m\u001b[0m_assert_valid_refcount\u001b[0m\u001b[1;33m,\u001b[0m \u001b[0m_gen_alignment_data\u001b[0m\u001b[1;33m)\u001b[0m\u001b[1;33m\u001b[0m\u001b[1;33m\u001b[0m\u001b[0m\n\u001b[0;32m     13\u001b[0m \u001b[1;32mfrom\u001b[0m \u001b[1;33m.\u001b[0m\u001b[0m_private\u001b[0m \u001b[1;32mimport\u001b[0m \u001b[0mextbuild\u001b[0m\u001b[1;33m,\u001b[0m \u001b[0mdecorators\u001b[0m \u001b[1;32mas\u001b[0m \u001b[0mdec\u001b[0m\u001b[1;33m\u001b[0m\u001b[1;33m\u001b[0m\u001b[0m\n",
            "\u001b[1;32m~\\anaconda3\\lib\\site-packages\\numpy\\testing\\_private\\utils.py\u001b[0m in \u001b[0;36m<module>\u001b[1;34m\u001b[0m\n\u001b[0;32m     21\u001b[0m from numpy.core import(\n\u001b[0;32m     22\u001b[0m      intp, float32, empty, arange, array_repr, ndarray, isnat, array)\n\u001b[1;32m---> 23\u001b[1;33m \u001b[1;32mimport\u001b[0m \u001b[0mnumpy\u001b[0m\u001b[1;33m.\u001b[0m\u001b[0mlinalg\u001b[0m\u001b[1;33m.\u001b[0m\u001b[0mlapack_lite\u001b[0m\u001b[1;33m\u001b[0m\u001b[1;33m\u001b[0m\u001b[0m\n\u001b[0m\u001b[0;32m     24\u001b[0m \u001b[1;33m\u001b[0m\u001b[0m\n\u001b[0;32m     25\u001b[0m \u001b[1;32mfrom\u001b[0m \u001b[0mio\u001b[0m \u001b[1;32mimport\u001b[0m \u001b[0mStringIO\u001b[0m\u001b[1;33m\u001b[0m\u001b[1;33m\u001b[0m\u001b[0m\n",
            "\u001b[1;31mImportError\u001b[0m: DLL load failed while importing lapack_lite: The specified module could not be found."
          ]
        }
      ],
      "source": [
        "import csv\n",
        "from mlxtend.preprocessing import TransactionEncoder\n",
        "from mlxtend.frequent_patterns import apriori, association_rules"
      ]
    },
    {
      "cell_type": "code",
      "execution_count": null,
      "id": "21cdb070",
      "metadata": {
        "execution": {
          "iopub.execute_input": "2022-11-14T18:05:49.518945Z",
          "iopub.status.busy": "2022-11-14T18:05:49.518524Z",
          "iopub.status.idle": "2022-11-14T18:05:49.544181Z",
          "shell.execute_reply": "2022-11-14T18:05:49.542709Z"
        },
        "papermill": {
          "duration": 0.035997,
          "end_time": "2022-11-14T18:05:49.547196",
          "exception": false,
          "start_time": "2022-11-14T18:05:49.511199",
          "status": "completed"
        },
        "tags": [],
        "id": "21cdb070"
      },
      "outputs": [],
      "source": [
        "data = []\n",
        "with open('../input/market-basket-optimization/Market_Basket_Optimisation.csv') as file:\n",
        "    reader = csv.reader(file, delimiter=',')\n",
        "    for row in reader:\n",
        "        data +=[row]"
      ]
    },
    {
      "cell_type": "code",
      "execution_count": null,
      "id": "2760ca7d",
      "metadata": {
        "execution": {
          "iopub.execute_input": "2022-11-14T18:05:49.560555Z",
          "iopub.status.busy": "2022-11-14T18:05:49.560101Z",
          "iopub.status.idle": "2022-11-14T18:05:49.569925Z",
          "shell.execute_reply": "2022-11-14T18:05:49.568715Z"
        },
        "papermill": {
          "duration": 0.019999,
          "end_time": "2022-11-14T18:05:49.572701",
          "exception": false,
          "start_time": "2022-11-14T18:05:49.552702",
          "status": "completed"
        },
        "tags": [],
        "id": "2760ca7d"
      },
      "outputs": [],
      "source": [
        "data[1:10] #list of list"
      ]
    },
    {
      "cell_type": "code",
      "execution_count": null,
      "id": "9f54b6d8",
      "metadata": {
        "execution": {
          "iopub.execute_input": "2022-11-14T18:05:49.586145Z",
          "iopub.status.busy": "2022-11-14T18:05:49.585342Z",
          "iopub.status.idle": "2022-11-14T18:05:49.592624Z",
          "shell.execute_reply": "2022-11-14T18:05:49.591411Z"
        },
        "papermill": {
          "duration": 0.016881,
          "end_time": "2022-11-14T18:05:49.59493",
          "exception": false,
          "start_time": "2022-11-14T18:05:49.578049",
          "status": "completed"
        },
        "tags": [],
        "id": "9f54b6d8"
      },
      "outputs": [],
      "source": [
        "len(data)"
      ]
    },
    {
      "cell_type": "code",
      "execution_count": null,
      "id": "9ea93930",
      "metadata": {
        "execution": {
          "iopub.execute_input": "2022-11-14T18:05:49.608921Z",
          "iopub.status.busy": "2022-11-14T18:05:49.608121Z",
          "iopub.status.idle": "2022-11-14T18:05:49.629143Z",
          "shell.execute_reply": "2022-11-14T18:05:49.628123Z"
        },
        "papermill": {
          "duration": 0.031349,
          "end_time": "2022-11-14T18:05:49.63188",
          "exception": false,
          "start_time": "2022-11-14T18:05:49.600531",
          "status": "completed"
        },
        "tags": [],
        "id": "9ea93930"
      },
      "outputs": [],
      "source": [
        "te = TransactionEncoder()\n",
        "x = te.fit_transform(data)"
      ]
    },
    {
      "cell_type": "code",
      "execution_count": null,
      "id": "f6531c93",
      "metadata": {
        "execution": {
          "iopub.execute_input": "2022-11-14T18:05:49.645612Z",
          "iopub.status.busy": "2022-11-14T18:05:49.645176Z",
          "iopub.status.idle": "2022-11-14T18:05:49.652804Z",
          "shell.execute_reply": "2022-11-14T18:05:49.651662Z"
        },
        "papermill": {
          "duration": 0.017719,
          "end_time": "2022-11-14T18:05:49.655227",
          "exception": false,
          "start_time": "2022-11-14T18:05:49.637508",
          "status": "completed"
        },
        "tags": [],
        "id": "f6531c93"
      },
      "outputs": [],
      "source": [
        "x"
      ]
    },
    {
      "cell_type": "code",
      "execution_count": null,
      "id": "0bce381d",
      "metadata": {
        "execution": {
          "iopub.execute_input": "2022-11-14T18:05:49.668637Z",
          "iopub.status.busy": "2022-11-14T18:05:49.668231Z",
          "iopub.status.idle": "2022-11-14T18:05:49.677504Z",
          "shell.execute_reply": "2022-11-14T18:05:49.676448Z"
        },
        "papermill": {
          "duration": 0.018923,
          "end_time": "2022-11-14T18:05:49.679812",
          "exception": false,
          "start_time": "2022-11-14T18:05:49.660889",
          "status": "completed"
        },
        "tags": [],
        "id": "0bce381d"
      },
      "outputs": [],
      "source": [
        "te.columns_"
      ]
    },
    {
      "cell_type": "code",
      "execution_count": null,
      "id": "9e10b1c0",
      "metadata": {
        "execution": {
          "iopub.execute_input": "2022-11-14T18:05:49.694018Z",
          "iopub.status.busy": "2022-11-14T18:05:49.693585Z",
          "iopub.status.idle": "2022-11-14T18:05:49.701739Z",
          "shell.execute_reply": "2022-11-14T18:05:49.700627Z"
        },
        "papermill": {
          "duration": 0.018651,
          "end_time": "2022-11-14T18:05:49.704377",
          "exception": false,
          "start_time": "2022-11-14T18:05:49.685726",
          "status": "completed"
        },
        "tags": [],
        "id": "9e10b1c0"
      },
      "outputs": [],
      "source": [
        "df = pd.DataFrame(x, columns=te.columns_)"
      ]
    },
    {
      "cell_type": "code",
      "execution_count": null,
      "id": "cb62ea4d",
      "metadata": {
        "execution": {
          "iopub.execute_input": "2022-11-14T18:05:49.719127Z",
          "iopub.status.busy": "2022-11-14T18:05:49.718709Z",
          "iopub.status.idle": "2022-11-14T18:05:49.757859Z",
          "shell.execute_reply": "2022-11-14T18:05:49.756765Z"
        },
        "papermill": {
          "duration": 0.048912,
          "end_time": "2022-11-14T18:05:49.760179",
          "exception": false,
          "start_time": "2022-11-14T18:05:49.711267",
          "status": "completed"
        },
        "tags": [],
        "id": "cb62ea4d"
      },
      "outputs": [],
      "source": [
        "df"
      ]
    },
    {
      "cell_type": "code",
      "execution_count": null,
      "id": "25e5421e",
      "metadata": {
        "execution": {
          "iopub.execute_input": "2022-11-14T18:05:49.775545Z",
          "iopub.status.busy": "2022-11-14T18:05:49.774982Z",
          "iopub.status.idle": "2022-11-14T18:05:50.037837Z",
          "shell.execute_reply": "2022-11-14T18:05:50.036395Z"
        },
        "papermill": {
          "duration": 0.273925,
          "end_time": "2022-11-14T18:05:50.040836",
          "exception": false,
          "start_time": "2022-11-14T18:05:49.766911",
          "status": "completed"
        },
        "scrolled": true,
        "tags": [],
        "id": "25e5421e"
      },
      "outputs": [],
      "source": [
        "# Finding frequent itemsets\n",
        "freq_itemset = apriori(df, min_support=0.01, use_colnames=True)"
      ]
    },
    {
      "cell_type": "markdown",
      "id": "06a1be33",
      "metadata": {
        "papermill": {
          "duration": 0.007232,
          "end_time": "2022-11-14T18:05:50.054789",
          "exception": false,
          "start_time": "2022-11-14T18:05:50.047557",
          "status": "completed"
        },
        "tags": [],
        "id": "06a1be33"
      },
      "source": [
        "0.01 means 1% of data size(7501) is 75. so single item should come atleast 75 times then take those items in freq_itemset"
      ]
    },
    {
      "cell_type": "code",
      "execution_count": null,
      "id": "da7a6b63",
      "metadata": {
        "execution": {
          "iopub.execute_input": "2022-11-14T18:05:50.069475Z",
          "iopub.status.busy": "2022-11-14T18:05:50.069049Z",
          "iopub.status.idle": "2022-11-14T18:05:50.086652Z",
          "shell.execute_reply": "2022-11-14T18:05:50.085297Z"
        },
        "papermill": {
          "duration": 0.028146,
          "end_time": "2022-11-14T18:05:50.089295",
          "exception": false,
          "start_time": "2022-11-14T18:05:50.061149",
          "status": "completed"
        },
        "tags": [],
        "id": "da7a6b63"
      },
      "outputs": [],
      "source": [
        "freq_itemset"
      ]
    },
    {
      "cell_type": "code",
      "execution_count": null,
      "id": "6ca691f1",
      "metadata": {
        "execution": {
          "iopub.execute_input": "2022-11-14T18:05:50.104795Z",
          "iopub.status.busy": "2022-11-14T18:05:50.104403Z",
          "iopub.status.idle": "2022-11-14T18:05:50.116602Z",
          "shell.execute_reply": "2022-11-14T18:05:50.115579Z"
        },
        "papermill": {
          "duration": 0.022905,
          "end_time": "2022-11-14T18:05:50.119012",
          "exception": false,
          "start_time": "2022-11-14T18:05:50.096107",
          "status": "completed"
        },
        "tags": [],
        "id": "6ca691f1"
      },
      "outputs": [],
      "source": [
        "#Find the rules\n",
        "rules = association_rules(freq_itemset, metric='confidence', min_threshold=0.10)"
      ]
    },
    {
      "cell_type": "code",
      "execution_count": null,
      "id": "8eb85928",
      "metadata": {
        "execution": {
          "iopub.execute_input": "2022-11-14T18:05:50.135713Z",
          "iopub.status.busy": "2022-11-14T18:05:50.135309Z",
          "iopub.status.idle": "2022-11-14T18:05:50.163271Z",
          "shell.execute_reply": "2022-11-14T18:05:50.162098Z"
        },
        "papermill": {
          "duration": 0.039138,
          "end_time": "2022-11-14T18:05:50.165764",
          "exception": false,
          "start_time": "2022-11-14T18:05:50.126626",
          "status": "completed"
        },
        "tags": [],
        "id": "8eb85928"
      },
      "outputs": [],
      "source": [
        "rules = rules[['antecedents','consequents','support','confidence']]\n",
        "rules"
      ]
    },
    {
      "cell_type": "code",
      "execution_count": null,
      "id": "fdc68d88",
      "metadata": {
        "execution": {
          "iopub.execute_input": "2022-11-14T18:05:50.181142Z",
          "iopub.status.busy": "2022-11-14T18:05:50.180755Z",
          "iopub.status.idle": "2022-11-14T18:05:50.191831Z",
          "shell.execute_reply": "2022-11-14T18:05:50.190753Z"
        },
        "papermill": {
          "duration": 0.021706,
          "end_time": "2022-11-14T18:05:50.194344",
          "exception": false,
          "start_time": "2022-11-14T18:05:50.172638",
          "status": "completed"
        },
        "tags": [],
        "id": "fdc68d88"
      },
      "outputs": [],
      "source": [
        "rules[rules['antecedents'] == {'cake'}]['consequents']"
      ]
    }
  ],
  "metadata": {
    "kernelspec": {
      "display_name": "Python 3 (ipykernel)",
      "language": "python",
      "name": "python3"
    },
    "language_info": {
      "codemirror_mode": {
        "name": "ipython",
        "version": 3
      },
      "file_extension": ".py",
      "mimetype": "text/x-python",
      "name": "python",
      "nbconvert_exporter": "python",
      "pygments_lexer": "ipython3",
      "version": "3.9.13"
    },
    "papermill": {
      "default_parameters": {},
      "duration": 24.3957,
      "end_time": "2022-11-14T18:05:50.923304",
      "environment_variables": {},
      "exception": null,
      "input_path": "__notebook__.ipynb",
      "output_path": "__notebook__.ipynb",
      "parameters": {},
      "start_time": "2022-11-14T18:05:26.527604",
      "version": "2.3.4"
    },
    "colab": {
      "provenance": [],
      "include_colab_link": true
    }
  },
  "nbformat": 4,
  "nbformat_minor": 5
}