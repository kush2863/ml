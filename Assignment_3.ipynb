{
  "cells": [
    {
      "cell_type": "markdown",
      "metadata": {
        "id": "view-in-github",
        "colab_type": "text"
      },
      "source": [
        "<a href=\"https://colab.research.google.com/github/kush2863/ml/blob/main/Assignment_3.ipynb\" target=\"_parent\"><img src=\"https://colab.research.google.com/assets/colab-badge.svg\" alt=\"Open In Colab\"/></a>"
      ]
    },
    {
      "cell_type": "code",
      "execution_count": null,
      "id": "722411df",
      "metadata": {
        "execution": {
          "iopub.execute_input": "2022-11-12T14:46:07.445144Z",
          "iopub.status.busy": "2022-11-12T14:46:07.444556Z",
          "iopub.status.idle": "2022-11-12T14:46:08.249141Z",
          "shell.execute_reply": "2022-11-12T14:46:08.247415Z",
          "shell.execute_reply.started": "2022-11-12T14:46:07.445020Z"
        },
        "papermill": {
          "duration": 1.111756,
          "end_time": "2022-11-08T18:16:23.650326",
          "exception": false,
          "start_time": "2022-11-08T18:16:22.53857",
          "status": "completed"
        },
        "tags": [],
        "id": "722411df",
        "outputId": "ff89d59d-7af9-40e0-a300-d928cc1a3ee6"
      },
      "outputs": [
        {
          "name": "stderr",
          "output_type": "stream",
          "text": [
            "C:\\Users\\Comp\\anaconda3\\lib\\site-packages\\scipy\\__init__.py:155: UserWarning: A NumPy version >=1.18.5 and <1.25.0 is required for this version of SciPy (detected version 1.26.4\n",
            "  warnings.warn(f\"A NumPy version >={np_minversion} and <{np_maxversion}\"\n"
          ]
        }
      ],
      "source": [
        "import numpy as np\n",
        "import pandas as pd\n",
        "import seaborn as sns\n",
        "import matplotlib.pyplot as plt"
      ]
    },
    {
      "cell_type": "code",
      "execution_count": null,
      "id": "7bb36171",
      "metadata": {
        "execution": {
          "iopub.execute_input": "2022-11-12T14:46:08.252446Z",
          "iopub.status.busy": "2022-11-12T14:46:08.251862Z",
          "iopub.status.idle": "2022-11-12T14:46:08.281981Z",
          "shell.execute_reply": "2022-11-12T14:46:08.280405Z",
          "shell.execute_reply.started": "2022-11-12T14:46:08.252389Z"
        },
        "papermill": {
          "duration": 0.035301,
          "end_time": "2022-11-08T18:16:23.69355",
          "exception": false,
          "start_time": "2022-11-08T18:16:23.658249",
          "status": "completed"
        },
        "tags": [],
        "id": "7bb36171"
      },
      "outputs": [],
      "source": [
        "df = pd.read_csv('E:\\LP1\\\\3\\\\Admission_Predict_Ver1.1.csv')"
      ]
    },
    {
      "cell_type": "code",
      "execution_count": null,
      "id": "233b5432",
      "metadata": {
        "execution": {
          "iopub.execute_input": "2022-11-12T14:46:08.284442Z",
          "iopub.status.busy": "2022-11-12T14:46:08.283567Z",
          "iopub.status.idle": "2022-11-12T14:46:08.315499Z",
          "shell.execute_reply": "2022-11-12T14:46:08.313953Z",
          "shell.execute_reply.started": "2022-11-12T14:46:08.284372Z"
        },
        "papermill": {
          "duration": 0.039835,
          "end_time": "2022-11-08T18:16:23.741244",
          "exception": false,
          "start_time": "2022-11-08T18:16:23.701409",
          "status": "completed"
        },
        "tags": [],
        "id": "233b5432",
        "outputId": "1c1ce42e-088e-4f32-e92b-36f010a7df38"
      },
      "outputs": [
        {
          "data": {
            "text/html": [
              "<div>\n",
              "<style scoped>\n",
              "    .dataframe tbody tr th:only-of-type {\n",
              "        vertical-align: middle;\n",
              "    }\n",
              "\n",
              "    .dataframe tbody tr th {\n",
              "        vertical-align: top;\n",
              "    }\n",
              "\n",
              "    .dataframe thead th {\n",
              "        text-align: right;\n",
              "    }\n",
              "</style>\n",
              "<table border=\"1\" class=\"dataframe\">\n",
              "  <thead>\n",
              "    <tr style=\"text-align: right;\">\n",
              "      <th></th>\n",
              "      <th>Serial No.</th>\n",
              "      <th>GRE Score</th>\n",
              "      <th>TOEFL Score</th>\n",
              "      <th>University Rating</th>\n",
              "      <th>SOP</th>\n",
              "      <th>LOR</th>\n",
              "      <th>CGPA</th>\n",
              "      <th>Research</th>\n",
              "      <th>Chance of Admit</th>\n",
              "    </tr>\n",
              "  </thead>\n",
              "  <tbody>\n",
              "    <tr>\n",
              "      <th>0</th>\n",
              "      <td>1</td>\n",
              "      <td>337</td>\n",
              "      <td>118</td>\n",
              "      <td>4</td>\n",
              "      <td>4.5</td>\n",
              "      <td>4.5</td>\n",
              "      <td>9.65</td>\n",
              "      <td>1</td>\n",
              "      <td>0.92</td>\n",
              "    </tr>\n",
              "    <tr>\n",
              "      <th>1</th>\n",
              "      <td>2</td>\n",
              "      <td>324</td>\n",
              "      <td>107</td>\n",
              "      <td>4</td>\n",
              "      <td>4.0</td>\n",
              "      <td>4.5</td>\n",
              "      <td>8.87</td>\n",
              "      <td>1</td>\n",
              "      <td>0.76</td>\n",
              "    </tr>\n",
              "    <tr>\n",
              "      <th>2</th>\n",
              "      <td>3</td>\n",
              "      <td>316</td>\n",
              "      <td>104</td>\n",
              "      <td>3</td>\n",
              "      <td>3.0</td>\n",
              "      <td>3.5</td>\n",
              "      <td>8.00</td>\n",
              "      <td>1</td>\n",
              "      <td>0.72</td>\n",
              "    </tr>\n",
              "    <tr>\n",
              "      <th>3</th>\n",
              "      <td>4</td>\n",
              "      <td>322</td>\n",
              "      <td>110</td>\n",
              "      <td>3</td>\n",
              "      <td>3.5</td>\n",
              "      <td>2.5</td>\n",
              "      <td>8.67</td>\n",
              "      <td>1</td>\n",
              "      <td>0.80</td>\n",
              "    </tr>\n",
              "    <tr>\n",
              "      <th>4</th>\n",
              "      <td>5</td>\n",
              "      <td>314</td>\n",
              "      <td>103</td>\n",
              "      <td>2</td>\n",
              "      <td>2.0</td>\n",
              "      <td>3.0</td>\n",
              "      <td>8.21</td>\n",
              "      <td>0</td>\n",
              "      <td>0.65</td>\n",
              "    </tr>\n",
              "  </tbody>\n",
              "</table>\n",
              "</div>"
            ],
            "text/plain": [
              "   Serial No.  GRE Score  TOEFL Score  University Rating  SOP  LOR   CGPA  \\\n",
              "0           1        337          118                  4  4.5   4.5  9.65   \n",
              "1           2        324          107                  4  4.0   4.5  8.87   \n",
              "2           3        316          104                  3  3.0   3.5  8.00   \n",
              "3           4        322          110                  3  3.5   2.5  8.67   \n",
              "4           5        314          103                  2  2.0   3.0  8.21   \n",
              "\n",
              "   Research  Chance of Admit   \n",
              "0         1              0.92  \n",
              "1         1              0.76  \n",
              "2         1              0.72  \n",
              "3         1              0.80  \n",
              "4         0              0.65  "
            ]
          },
          "execution_count": 3,
          "metadata": {},
          "output_type": "execute_result"
        }
      ],
      "source": [
        "df.head()"
      ]
    },
    {
      "cell_type": "code",
      "execution_count": null,
      "id": "61a11773",
      "metadata": {
        "execution": {
          "iopub.execute_input": "2022-11-12T14:46:08.318377Z",
          "iopub.status.busy": "2022-11-12T14:46:08.317028Z",
          "iopub.status.idle": "2022-11-12T14:46:08.327840Z",
          "shell.execute_reply": "2022-11-12T14:46:08.326426Z",
          "shell.execute_reply.started": "2022-11-12T14:46:08.318213Z"
        },
        "papermill": {
          "duration": 0.018156,
          "end_time": "2022-11-08T18:16:23.767501",
          "exception": false,
          "start_time": "2022-11-08T18:16:23.749345",
          "status": "completed"
        },
        "tags": [],
        "id": "61a11773",
        "outputId": "1c7c849c-f21d-42d6-c819-e8d28f189a0c"
      },
      "outputs": [
        {
          "data": {
            "text/plain": [
              "(500, 9)"
            ]
          },
          "execution_count": 4,
          "metadata": {},
          "output_type": "execute_result"
        }
      ],
      "source": [
        "df.shape"
      ]
    },
    {
      "cell_type": "markdown",
      "id": "85d45e16",
      "metadata": {
        "papermill": {
          "duration": 0.009362,
          "end_time": "2022-11-08T18:16:23.784845",
          "exception": false,
          "start_time": "2022-11-08T18:16:23.775483",
          "status": "completed"
        },
        "tags": [],
        "id": "85d45e16"
      },
      "source": [
        "Drop \" Serial No.\" no needed for classification"
      ]
    },
    {
      "cell_type": "code",
      "execution_count": null,
      "id": "6ee4255e",
      "metadata": {
        "execution": {
          "iopub.execute_input": "2022-11-12T14:46:08.333070Z",
          "iopub.status.busy": "2022-11-12T14:46:08.331612Z",
          "iopub.status.idle": "2022-11-12T14:46:08.347656Z",
          "shell.execute_reply": "2022-11-12T14:46:08.346334Z",
          "shell.execute_reply.started": "2022-11-12T14:46:08.332939Z"
        },
        "papermill": {
          "duration": 0.023149,
          "end_time": "2022-11-08T18:16:23.816026",
          "exception": false,
          "start_time": "2022-11-08T18:16:23.792877",
          "status": "completed"
        },
        "tags": [],
        "id": "6ee4255e"
      },
      "outputs": [],
      "source": [
        "df = df.drop('Serial No.',axis=1)"
      ]
    },
    {
      "cell_type": "code",
      "execution_count": null,
      "id": "7dee23a5",
      "metadata": {
        "execution": {
          "iopub.execute_input": "2022-11-12T14:46:08.350808Z",
          "iopub.status.busy": "2022-11-12T14:46:08.349527Z",
          "iopub.status.idle": "2022-11-12T14:46:08.363282Z",
          "shell.execute_reply": "2022-11-12T14:46:08.361759Z",
          "shell.execute_reply.started": "2022-11-12T14:46:08.350751Z"
        },
        "papermill": {
          "duration": 0.019047,
          "end_time": "2022-11-08T18:16:23.84322",
          "exception": false,
          "start_time": "2022-11-08T18:16:23.824173",
          "status": "completed"
        },
        "tags": [],
        "id": "7dee23a5",
        "outputId": "da7aeb32-4982-474b-debc-d0c387f64c4f"
      },
      "outputs": [
        {
          "data": {
            "text/plain": [
              "(500, 8)"
            ]
          },
          "execution_count": 6,
          "metadata": {},
          "output_type": "execute_result"
        }
      ],
      "source": [
        "df.shape"
      ]
    },
    {
      "cell_type": "code",
      "execution_count": null,
      "id": "861d688d",
      "metadata": {
        "execution": {
          "iopub.execute_input": "2022-11-12T14:46:08.366310Z",
          "iopub.status.busy": "2022-11-12T14:46:08.365585Z",
          "iopub.status.idle": "2022-11-12T14:46:08.385801Z",
          "shell.execute_reply": "2022-11-12T14:46:08.384556Z",
          "shell.execute_reply.started": "2022-11-12T14:46:08.366260Z"
        },
        "id": "861d688d",
        "outputId": "fb0fa2ea-393b-4c99-db59-f6bdc7b6cbd3"
      },
      "outputs": [
        {
          "data": {
            "text/html": [
              "<div>\n",
              "<style scoped>\n",
              "    .dataframe tbody tr th:only-of-type {\n",
              "        vertical-align: middle;\n",
              "    }\n",
              "\n",
              "    .dataframe tbody tr th {\n",
              "        vertical-align: top;\n",
              "    }\n",
              "\n",
              "    .dataframe thead th {\n",
              "        text-align: right;\n",
              "    }\n",
              "</style>\n",
              "<table border=\"1\" class=\"dataframe\">\n",
              "  <thead>\n",
              "    <tr style=\"text-align: right;\">\n",
              "      <th></th>\n",
              "      <th>GRE Score</th>\n",
              "      <th>TOEFL Score</th>\n",
              "      <th>University Rating</th>\n",
              "      <th>SOP</th>\n",
              "      <th>LOR</th>\n",
              "      <th>CGPA</th>\n",
              "      <th>Research</th>\n",
              "      <th>Chance of Admit</th>\n",
              "    </tr>\n",
              "  </thead>\n",
              "  <tbody>\n",
              "    <tr>\n",
              "      <th>0</th>\n",
              "      <td>337</td>\n",
              "      <td>118</td>\n",
              "      <td>4</td>\n",
              "      <td>4.5</td>\n",
              "      <td>4.5</td>\n",
              "      <td>9.65</td>\n",
              "      <td>1</td>\n",
              "      <td>0.92</td>\n",
              "    </tr>\n",
              "    <tr>\n",
              "      <th>1</th>\n",
              "      <td>324</td>\n",
              "      <td>107</td>\n",
              "      <td>4</td>\n",
              "      <td>4.0</td>\n",
              "      <td>4.5</td>\n",
              "      <td>8.87</td>\n",
              "      <td>1</td>\n",
              "      <td>0.76</td>\n",
              "    </tr>\n",
              "    <tr>\n",
              "      <th>2</th>\n",
              "      <td>316</td>\n",
              "      <td>104</td>\n",
              "      <td>3</td>\n",
              "      <td>3.0</td>\n",
              "      <td>3.5</td>\n",
              "      <td>8.00</td>\n",
              "      <td>1</td>\n",
              "      <td>0.72</td>\n",
              "    </tr>\n",
              "    <tr>\n",
              "      <th>3</th>\n",
              "      <td>322</td>\n",
              "      <td>110</td>\n",
              "      <td>3</td>\n",
              "      <td>3.5</td>\n",
              "      <td>2.5</td>\n",
              "      <td>8.67</td>\n",
              "      <td>1</td>\n",
              "      <td>0.80</td>\n",
              "    </tr>\n",
              "    <tr>\n",
              "      <th>4</th>\n",
              "      <td>314</td>\n",
              "      <td>103</td>\n",
              "      <td>2</td>\n",
              "      <td>2.0</td>\n",
              "      <td>3.0</td>\n",
              "      <td>8.21</td>\n",
              "      <td>0</td>\n",
              "      <td>0.65</td>\n",
              "    </tr>\n",
              "  </tbody>\n",
              "</table>\n",
              "</div>"
            ],
            "text/plain": [
              "   GRE Score  TOEFL Score  University Rating  SOP  LOR   CGPA  Research  \\\n",
              "0        337          118                  4  4.5   4.5  9.65         1   \n",
              "1        324          107                  4  4.0   4.5  8.87         1   \n",
              "2        316          104                  3  3.0   3.5  8.00         1   \n",
              "3        322          110                  3  3.5   2.5  8.67         1   \n",
              "4        314          103                  2  2.0   3.0  8.21         0   \n",
              "\n",
              "   Chance of Admit   \n",
              "0              0.92  \n",
              "1              0.76  \n",
              "2              0.72  \n",
              "3              0.80  \n",
              "4              0.65  "
            ]
          },
          "execution_count": 7,
          "metadata": {},
          "output_type": "execute_result"
        }
      ],
      "source": [
        "df.head()"
      ]
    },
    {
      "cell_type": "code",
      "execution_count": null,
      "id": "c3df397c",
      "metadata": {
        "execution": {
          "iopub.execute_input": "2022-11-12T14:46:08.388507Z",
          "iopub.status.busy": "2022-11-12T14:46:08.387718Z",
          "iopub.status.idle": "2022-11-12T14:46:08.415089Z",
          "shell.execute_reply": "2022-11-12T14:46:08.413757Z",
          "shell.execute_reply.started": "2022-11-12T14:46:08.388453Z"
        },
        "id": "c3df397c",
        "outputId": "8fe56efd-94d5-4a0f-a8b0-1958c4980ceb"
      },
      "outputs": [
        {
          "data": {
            "text/html": [
              "<div>\n",
              "<style scoped>\n",
              "    .dataframe tbody tr th:only-of-type {\n",
              "        vertical-align: middle;\n",
              "    }\n",
              "\n",
              "    .dataframe tbody tr th {\n",
              "        vertical-align: top;\n",
              "    }\n",
              "\n",
              "    .dataframe thead th {\n",
              "        text-align: right;\n",
              "    }\n",
              "</style>\n",
              "<table border=\"1\" class=\"dataframe\">\n",
              "  <thead>\n",
              "    <tr style=\"text-align: right;\">\n",
              "      <th></th>\n",
              "      <th>GRE Score</th>\n",
              "      <th>TOEFL Score</th>\n",
              "      <th>University Rating</th>\n",
              "      <th>SOP</th>\n",
              "      <th>LOR</th>\n",
              "      <th>CGPA</th>\n",
              "      <th>Research</th>\n",
              "      <th>Chance of Admit</th>\n",
              "    </tr>\n",
              "  </thead>\n",
              "  <tbody>\n",
              "    <tr>\n",
              "      <th>0</th>\n",
              "      <td>337</td>\n",
              "      <td>118</td>\n",
              "      <td>4</td>\n",
              "      <td>4.5</td>\n",
              "      <td>4.5</td>\n",
              "      <td>9.65</td>\n",
              "      <td>1</td>\n",
              "      <td>1</td>\n",
              "    </tr>\n",
              "    <tr>\n",
              "      <th>1</th>\n",
              "      <td>324</td>\n",
              "      <td>107</td>\n",
              "      <td>4</td>\n",
              "      <td>4.0</td>\n",
              "      <td>4.5</td>\n",
              "      <td>8.87</td>\n",
              "      <td>1</td>\n",
              "      <td>1</td>\n",
              "    </tr>\n",
              "    <tr>\n",
              "      <th>2</th>\n",
              "      <td>316</td>\n",
              "      <td>104</td>\n",
              "      <td>3</td>\n",
              "      <td>3.0</td>\n",
              "      <td>3.5</td>\n",
              "      <td>8.00</td>\n",
              "      <td>1</td>\n",
              "      <td>0</td>\n",
              "    </tr>\n",
              "    <tr>\n",
              "      <th>3</th>\n",
              "      <td>322</td>\n",
              "      <td>110</td>\n",
              "      <td>3</td>\n",
              "      <td>3.5</td>\n",
              "      <td>2.5</td>\n",
              "      <td>8.67</td>\n",
              "      <td>1</td>\n",
              "      <td>1</td>\n",
              "    </tr>\n",
              "    <tr>\n",
              "      <th>4</th>\n",
              "      <td>314</td>\n",
              "      <td>103</td>\n",
              "      <td>2</td>\n",
              "      <td>2.0</td>\n",
              "      <td>3.0</td>\n",
              "      <td>8.21</td>\n",
              "      <td>0</td>\n",
              "      <td>0</td>\n",
              "    </tr>\n",
              "  </tbody>\n",
              "</table>\n",
              "</div>"
            ],
            "text/plain": [
              "   GRE Score  TOEFL Score  University Rating  SOP  LOR   CGPA  Research  \\\n",
              "0        337          118                  4  4.5   4.5  9.65         1   \n",
              "1        324          107                  4  4.0   4.5  8.87         1   \n",
              "2        316          104                  3  3.0   3.5  8.00         1   \n",
              "3        322          110                  3  3.5   2.5  8.67         1   \n",
              "4        314          103                  2  2.0   3.0  8.21         0   \n",
              "\n",
              "   Chance of Admit   \n",
              "0                 1  \n",
              "1                 1  \n",
              "2                 0  \n",
              "3                 1  \n",
              "4                 0  "
            ]
          },
          "execution_count": 8,
          "metadata": {},
          "output_type": "execute_result"
        }
      ],
      "source": [
        "df['Chance of Admit '] = [1 if each > 0.75 else 0 for each in df['Chance of Admit ']]\n",
        "df.head()"
      ]
    },
    {
      "cell_type": "code",
      "execution_count": null,
      "id": "edaedbd4",
      "metadata": {
        "execution": {
          "iopub.execute_input": "2022-11-12T14:46:08.418251Z",
          "iopub.status.busy": "2022-11-12T14:46:08.417760Z",
          "iopub.status.idle": "2022-11-12T14:46:08.428105Z",
          "shell.execute_reply": "2022-11-12T14:46:08.426721Z",
          "shell.execute_reply.started": "2022-11-12T14:46:08.418204Z"
        },
        "papermill": {
          "duration": 0.020223,
          "end_time": "2022-11-08T18:16:24.151998",
          "exception": false,
          "start_time": "2022-11-08T18:16:24.131775",
          "status": "completed"
        },
        "tags": [],
        "id": "edaedbd4"
      },
      "outputs": [],
      "source": [
        "x = df[['GRE Score', 'TOEFL Score', 'University Rating', 'SOP', 'LOR ', 'CGPA',\n",
        "       'Research']]\n",
        "\n",
        "y = df['Chance of Admit ']"
      ]
    },
    {
      "cell_type": "code",
      "execution_count": null,
      "id": "72671000",
      "metadata": {
        "execution": {
          "iopub.execute_input": "2022-11-12T14:46:08.430776Z",
          "iopub.status.busy": "2022-11-12T14:46:08.429775Z",
          "iopub.status.idle": "2022-11-12T14:46:08.588686Z",
          "shell.execute_reply": "2022-11-12T14:46:08.587635Z",
          "shell.execute_reply.started": "2022-11-12T14:46:08.430722Z"
        },
        "papermill": {
          "duration": 0.076686,
          "end_time": "2022-11-08T18:16:24.501072",
          "exception": false,
          "start_time": "2022-11-08T18:16:24.424386",
          "status": "completed"
        },
        "tags": [],
        "id": "72671000"
      },
      "outputs": [],
      "source": [
        "from sklearn.model_selection import train_test_split"
      ]
    },
    {
      "cell_type": "code",
      "execution_count": null,
      "id": "a8904d13",
      "metadata": {
        "execution": {
          "iopub.execute_input": "2022-11-12T14:46:08.591757Z",
          "iopub.status.busy": "2022-11-12T14:46:08.590772Z",
          "iopub.status.idle": "2022-11-12T14:46:08.601736Z",
          "shell.execute_reply": "2022-11-12T14:46:08.599827Z",
          "shell.execute_reply.started": "2022-11-12T14:46:08.591707Z"
        },
        "papermill": {
          "duration": 0.022011,
          "end_time": "2022-11-08T18:16:24.532883",
          "exception": false,
          "start_time": "2022-11-08T18:16:24.510872",
          "status": "completed"
        },
        "tags": [],
        "id": "a8904d13"
      },
      "outputs": [],
      "source": [
        "x_train, x_test, y_train, y_test = train_test_split(x,y,test_size=0.25,random_state=1)"
      ]
    },
    {
      "cell_type": "code",
      "execution_count": null,
      "id": "c285c16f",
      "metadata": {
        "execution": {
          "iopub.execute_input": "2022-11-12T14:46:08.604969Z",
          "iopub.status.busy": "2022-11-12T14:46:08.603944Z",
          "iopub.status.idle": "2022-11-12T14:46:08.621424Z",
          "shell.execute_reply": "2022-11-12T14:46:08.620040Z",
          "shell.execute_reply.started": "2022-11-12T14:46:08.604911Z"
        },
        "papermill": {
          "duration": 0.021357,
          "end_time": "2022-11-08T18:16:24.563606",
          "exception": false,
          "start_time": "2022-11-08T18:16:24.542249",
          "status": "completed"
        },
        "tags": [],
        "id": "c285c16f",
        "outputId": "2835031a-03d7-45d0-89ae-55b51ecbba72"
      },
      "outputs": [
        {
          "name": "stdout",
          "output_type": "stream",
          "text": [
            "Size of splitted data\n",
            "x_train (375, 7)\n",
            "y_train (375,)\n",
            "y_train (125, 7)\n",
            "y_test (125,)\n"
          ]
        }
      ],
      "source": [
        "print(f\"Size of splitted data\")\n",
        "print(f\"x_train {x_train.shape}\")\n",
        "print(f\"y_train {y_train.shape}\")\n",
        "print(f\"y_train {x_test.shape}\")\n",
        "print(f\"y_test {y_test.shape}\")"
      ]
    },
    {
      "cell_type": "code",
      "execution_count": null,
      "id": "42a6e9c2",
      "metadata": {
        "execution": {
          "iopub.execute_input": "2022-11-12T14:46:08.624080Z",
          "iopub.status.busy": "2022-11-12T14:46:08.622936Z",
          "iopub.status.idle": "2022-11-12T14:46:08.922505Z",
          "shell.execute_reply": "2022-11-12T14:46:08.921117Z",
          "shell.execute_reply.started": "2022-11-12T14:46:08.624032Z"
        },
        "papermill": {
          "duration": 0.233533,
          "end_time": "2022-11-08T18:16:24.80618",
          "exception": false,
          "start_time": "2022-11-08T18:16:24.572647",
          "status": "completed"
        },
        "tags": [],
        "id": "42a6e9c2"
      },
      "outputs": [],
      "source": [
        "from sklearn.tree import DecisionTreeRegressor\n",
        "from sklearn.ensemble import RandomForestRegressor\n",
        "from sklearn.linear_model import LogisticRegression"
      ]
    },
    {
      "cell_type": "code",
      "execution_count": null,
      "id": "5eb0fdbc",
      "metadata": {
        "execution": {
          "iopub.execute_input": "2022-11-12T14:46:08.926894Z",
          "iopub.status.busy": "2022-11-12T14:46:08.926472Z",
          "iopub.status.idle": "2022-11-12T14:46:08.935968Z",
          "shell.execute_reply": "2022-11-12T14:46:08.933236Z",
          "shell.execute_reply.started": "2022-11-12T14:46:08.926859Z"
        },
        "papermill": {
          "duration": 0.018971,
          "end_time": "2022-11-08T18:16:24.834875",
          "exception": false,
          "start_time": "2022-11-08T18:16:24.815904",
          "status": "completed"
        },
        "tags": [],
        "id": "5eb0fdbc"
      },
      "outputs": [],
      "source": [
        "model_dt = DecisionTreeRegressor(random_state=1)\n",
        "model_rf = RandomForestRegressor(random_state=1)\n",
        "model_lr = LogisticRegression(random_state=1,solver='lbfgs',max_iter=1000)"
      ]
    },
    {
      "cell_type": "code",
      "execution_count": null,
      "id": "9890de56",
      "metadata": {
        "execution": {
          "iopub.execute_input": "2022-11-12T14:46:08.938153Z",
          "iopub.status.busy": "2022-11-12T14:46:08.937672Z",
          "iopub.status.idle": "2022-11-12T14:46:08.958389Z",
          "shell.execute_reply": "2022-11-12T14:46:08.957032Z",
          "shell.execute_reply.started": "2022-11-12T14:46:08.938104Z"
        },
        "papermill": {
          "duration": 0.028185,
          "end_time": "2022-11-08T18:16:24.872176",
          "exception": false,
          "start_time": "2022-11-08T18:16:24.843991",
          "status": "completed"
        },
        "tags": [],
        "id": "9890de56",
        "outputId": "fe0f7e6b-ee4e-4ab0-b055-9c3980a7b95d"
      },
      "outputs": [
        {
          "data": {
            "text/plain": [
              "DecisionTreeRegressor(random_state=1)"
            ]
          },
          "execution_count": 15,
          "metadata": {},
          "output_type": "execute_result"
        }
      ],
      "source": [
        "model_dt.fit(x_train,y_train)"
      ]
    },
    {
      "cell_type": "code",
      "execution_count": null,
      "id": "b30b245e",
      "metadata": {
        "execution": {
          "iopub.execute_input": "2022-11-12T14:46:08.960658Z",
          "iopub.status.busy": "2022-11-12T14:46:08.960242Z",
          "iopub.status.idle": "2022-11-12T14:46:09.148197Z",
          "shell.execute_reply": "2022-11-12T14:46:09.147180Z",
          "shell.execute_reply.started": "2022-11-12T14:46:08.960622Z"
        },
        "papermill": {
          "duration": 0.18488,
          "end_time": "2022-11-08T18:16:25.06687",
          "exception": false,
          "start_time": "2022-11-08T18:16:24.88199",
          "status": "completed"
        },
        "tags": [],
        "id": "b30b245e",
        "outputId": "baf514d2-ac22-491d-d6e1-c5c67a041ad6"
      },
      "outputs": [
        {
          "data": {
            "text/plain": [
              "RandomForestRegressor(random_state=1)"
            ]
          },
          "execution_count": 16,
          "metadata": {},
          "output_type": "execute_result"
        }
      ],
      "source": [
        "model_rf.fit(x_train,y_train)"
      ]
    },
    {
      "cell_type": "code",
      "execution_count": null,
      "id": "101ce987",
      "metadata": {
        "execution": {
          "iopub.execute_input": "2022-11-12T14:46:09.150988Z",
          "iopub.status.busy": "2022-11-12T14:46:09.150217Z",
          "iopub.status.idle": "2022-11-12T14:46:09.218028Z",
          "shell.execute_reply": "2022-11-12T14:46:09.216813Z",
          "shell.execute_reply.started": "2022-11-12T14:46:09.150945Z"
        },
        "papermill": {
          "duration": 0.083217,
          "end_time": "2022-11-08T18:16:25.160884",
          "exception": false,
          "start_time": "2022-11-08T18:16:25.077667",
          "status": "completed"
        },
        "tags": [],
        "id": "101ce987",
        "outputId": "e7cb1a46-6946-4e11-9ebc-069453f76c58"
      },
      "outputs": [
        {
          "data": {
            "text/plain": [
              "LogisticRegression(max_iter=1000, random_state=1)"
            ]
          },
          "execution_count": 17,
          "metadata": {},
          "output_type": "execute_result"
        }
      ],
      "source": [
        "model_lr.fit(x_train,y_train)"
      ]
    },
    {
      "cell_type": "code",
      "execution_count": null,
      "id": "f790058d",
      "metadata": {
        "execution": {
          "iopub.execute_input": "2022-11-12T14:46:09.220983Z",
          "iopub.status.busy": "2022-11-12T14:46:09.219863Z",
          "iopub.status.idle": "2022-11-12T14:46:09.254174Z",
          "shell.execute_reply": "2022-11-12T14:46:09.252743Z",
          "shell.execute_reply.started": "2022-11-12T14:46:09.220944Z"
        },
        "papermill": {
          "duration": 0.035999,
          "end_time": "2022-11-08T18:16:25.206487",
          "exception": false,
          "start_time": "2022-11-08T18:16:25.170488",
          "status": "completed"
        },
        "tags": [],
        "id": "f790058d"
      },
      "outputs": [],
      "source": [
        "y_pred_dt = model_dt.predict(x_test) #int\n",
        "y_pred_rf = model_rf.predict(x_test) #float\n",
        "y_pred_lr = model_lr.predict(x_test) #"
      ]
    },
    {
      "cell_type": "code",
      "execution_count": null,
      "id": "e53016c0",
      "metadata": {
        "execution": {
          "iopub.execute_input": "2022-11-12T14:46:09.256034Z",
          "iopub.status.busy": "2022-11-12T14:46:09.255670Z",
          "iopub.status.idle": "2022-11-12T14:46:09.262665Z",
          "shell.execute_reply": "2022-11-12T14:46:09.261416Z",
          "shell.execute_reply.started": "2022-11-12T14:46:09.256001Z"
        },
        "papermill": {
          "duration": 0.019225,
          "end_time": "2022-11-08T18:16:25.235638",
          "exception": false,
          "start_time": "2022-11-08T18:16:25.216413",
          "status": "completed"
        },
        "tags": [],
        "id": "e53016c0"
      },
      "outputs": [],
      "source": [
        "y_pred_rf = [1 if each > 0.75 else 0 for each in y_pred_rf]"
      ]
    },
    {
      "cell_type": "code",
      "execution_count": null,
      "id": "ceae3d04",
      "metadata": {
        "execution": {
          "iopub.execute_input": "2022-11-12T14:46:09.265257Z",
          "iopub.status.busy": "2022-11-12T14:46:09.264523Z",
          "iopub.status.idle": "2022-11-12T14:46:09.274590Z",
          "shell.execute_reply": "2022-11-12T14:46:09.273410Z",
          "shell.execute_reply.started": "2022-11-12T14:46:09.265208Z"
        },
        "papermill": {
          "duration": 0.019545,
          "end_time": "2022-11-08T18:16:25.295669",
          "exception": false,
          "start_time": "2022-11-08T18:16:25.276124",
          "status": "completed"
        },
        "tags": [],
        "id": "ceae3d04"
      },
      "outputs": [],
      "source": [
        "from sklearn.metrics import ConfusionMatrixDisplay, accuracy_score\n",
        "from sklearn.metrics import classification_report"
      ]
    },
    {
      "cell_type": "markdown",
      "id": "e90a0a3a",
      "metadata": {
        "papermill": {
          "duration": 0.009526,
          "end_time": "2022-11-08T18:16:25.315121",
          "exception": false,
          "start_time": "2022-11-08T18:16:25.305595",
          "status": "completed"
        },
        "tags": [],
        "id": "e90a0a3a"
      },
      "source": [
        "# Decision Tree"
      ]
    },
    {
      "cell_type": "code",
      "execution_count": null,
      "id": "8ca2f93a",
      "metadata": {
        "execution": {
          "iopub.execute_input": "2022-11-12T14:46:09.276994Z",
          "iopub.status.busy": "2022-11-12T14:46:09.276223Z",
          "iopub.status.idle": "2022-11-12T14:46:09.574376Z",
          "shell.execute_reply": "2022-11-12T14:46:09.573077Z",
          "shell.execute_reply.started": "2022-11-12T14:46:09.276948Z"
        },
        "papermill": {
          "duration": 0.200694,
          "end_time": "2022-11-08T18:16:25.526073",
          "exception": false,
          "start_time": "2022-11-08T18:16:25.325379",
          "status": "completed"
        },
        "tags": [],
        "id": "8ca2f93a",
        "outputId": "18da8546-9147-4d90-9f96-474f695fe6ad"
      },
      "outputs": [
        {
          "data": {
            "image/png": "[encoded data removed]",
            "text/plain": [
              "<Figure size 640x480 with 2 Axes>"
            ]
          },
          "metadata": {},
          "output_type": "display_data"
        },
        {
          "name": "stdout",
          "output_type": "stream",
          "text": [
            " Accuracy is 0.864\n",
            "              precision    recall  f1-score   support\n",
            "\n",
            "           0       0.89      0.88      0.88        74\n",
            "           1       0.83      0.84      0.83        51\n",
            "\n",
            "    accuracy                           0.86       125\n",
            "   macro avg       0.86      0.86      0.86       125\n",
            "weighted avg       0.86      0.86      0.86       125\n",
            "\n"
          ]
        }
      ],
      "source": [
        "ConfusionMatrixDisplay.from_predictions(y_test,y_pred_dt)\n",
        "plt.title('Decision Tree')\n",
        "plt.show()\n",
        "print(f\" Accuracy is {accuracy_score(y_test,y_pred_dt)}\")\n",
        "print(classification_report(y_test,y_pred_dt))"
      ]
    },
    {
      "cell_type": "markdown",
      "id": "a711d902",
      "metadata": {
        "papermill": {
          "duration": 0.011052,
          "end_time": "2022-11-08T18:16:25.547365",
          "exception": false,
          "start_time": "2022-11-08T18:16:25.536313",
          "status": "completed"
        },
        "tags": [],
        "id": "a711d902"
      },
      "source": [
        "# Logistic Regression"
      ]
    },
    {
      "cell_type": "code",
      "execution_count": null,
      "id": "7063adc8",
      "metadata": {
        "execution": {
          "iopub.execute_input": "2022-11-12T14:46:09.576902Z",
          "iopub.status.busy": "2022-11-12T14:46:09.576117Z",
          "iopub.status.idle": "2022-11-12T14:46:09.834472Z",
          "shell.execute_reply": "2022-11-12T14:46:09.832919Z",
          "shell.execute_reply.started": "2022-11-12T14:46:09.576856Z"
        },
        "papermill": {
          "duration": 0.223638,
          "end_time": "2022-11-08T18:16:25.786124",
          "exception": false,
          "start_time": "2022-11-08T18:16:25.562486",
          "status": "completed"
        },
        "tags": [],
        "id": "7063adc8",
        "outputId": "73d4cc5d-0075-4d9d-8389-c864ae0d9819"
      },
      "outputs": [
        {
          "data": {
            "image/png": "[encoded data removed]",
            "text/plain": [
              "<Figure size 640x480 with 2 Axes>"
            ]
          },
          "metadata": {},
          "output_type": "display_data"
        },
        {
          "name": "stdout",
          "output_type": "stream",
          "text": [
            " Accuracy is 0.896\n",
            "              precision    recall  f1-score   support\n",
            "\n",
            "           0       0.92      0.91      0.91        74\n",
            "           1       0.87      0.88      0.87        51\n",
            "\n",
            "    accuracy                           0.90       125\n",
            "   macro avg       0.89      0.89      0.89       125\n",
            "weighted avg       0.90      0.90      0.90       125\n",
            "\n"
          ]
        }
      ],
      "source": [
        "ConfusionMatrixDisplay.from_predictions(y_test,y_pred_lr)\n",
        "plt.title('Logistic Regression')\n",
        "plt.show()\n",
        "print(f\" Accuracy is {accuracy_score(y_test,y_pred_lr)}\")\n",
        "print(classification_report(y_test,y_pred_lr))"
      ]
    },
    {
      "cell_type": "markdown",
      "id": "efa226bf",
      "metadata": {
        "papermill": {
          "duration": 0.011648,
          "end_time": "2022-11-08T18:16:25.809244",
          "exception": false,
          "start_time": "2022-11-08T18:16:25.797596",
          "status": "completed"
        },
        "tags": [],
        "id": "efa226bf"
      },
      "source": [
        "# Random Forest"
      ]
    },
    {
      "cell_type": "code",
      "execution_count": null,
      "id": "6418b6da",
      "metadata": {
        "execution": {
          "iopub.execute_input": "2022-11-12T14:46:09.836840Z",
          "iopub.status.busy": "2022-11-12T14:46:09.836277Z",
          "iopub.status.idle": "2022-11-12T14:46:10.101961Z",
          "shell.execute_reply": "2022-11-12T14:46:10.100642Z",
          "shell.execute_reply.started": "2022-11-12T14:46:09.836797Z"
        },
        "papermill": {
          "duration": 0.196671,
          "end_time": "2022-11-08T18:16:26.017646",
          "exception": false,
          "start_time": "2022-11-08T18:16:25.820975",
          "status": "completed"
        },
        "tags": [],
        "id": "6418b6da",
        "outputId": "69b19e35-f197-45a7-d44f-722536474f17"
      },
      "outputs": [
        {
          "data": {
            "image/png": "[encoded data removed]",
            "text/plain": [
              "<Figure size 640x480 with 2 Axes>"
            ]
          },
          "metadata": {},
          "output_type": "display_data"
        },
        {
          "name": "stdout",
          "output_type": "stream",
          "text": [
            " Accuracy is 0.856\n",
            "              precision    recall  f1-score   support\n",
            "\n",
            "           0       0.83      0.95      0.89        74\n",
            "           1       0.90      0.73      0.80        51\n",
            "\n",
            "    accuracy                           0.86       125\n",
            "   macro avg       0.87      0.84      0.85       125\n",
            "weighted avg       0.86      0.86      0.85       125\n",
            "\n"
          ]
        }
      ],
      "source": [
        "ConfusionMatrixDisplay.from_predictions(y_test,y_pred_rf,xticks_rotation='vertical')\n",
        "plt.title('Random Forest')\n",
        "plt.show()\n",
        "print(f\" Accuracy is {accuracy_score(y_test,y_pred_rf)}\")\n",
        "print(classification_report(y_test,y_pred_rf))"
      ]
    },
    {
      "cell_type": "code",
      "execution_count": null,
      "id": "45cfe33e",
      "metadata": {
        "papermill": {
          "duration": 0.010036,
          "end_time": "2022-11-08T18:16:26.038145",
          "exception": false,
          "start_time": "2022-11-08T18:16:26.028109",
          "status": "completed"
        },
        "tags": [],
        "id": "45cfe33e"
      },
      "outputs": [],
      "source": []
    }
  ],
  "metadata": {
    "kernelspec": {
      "display_name": "Python 3 (ipykernel)",
      "language": "python",
      "name": "python3"
    },
    "language_info": {
      "codemirror_mode": {
        "name": "ipython",
        "version": 3
      },
      "file_extension": ".py",
      "mimetype": "text/x-python",
      "name": "python",
      "nbconvert_exporter": "python",
      "pygments_lexer": "ipython3",
      "version": "3.9.13"
    },
    "papermill": {
      "default_parameters": {},
      "duration": 13.227095,
      "end_time": "2022-11-08T18:16:26.871462",
      "environment_variables": {},
      "exception": null,
      "input_path": "__notebook__.ipynb",
      "output_path": "__notebook__.ipynb",
      "parameters": {},
      "start_time": "2022-11-08T18:16:13.644367",
      "version": "2.3.4"
    },
    "colab": {
      "provenance": [],
      "include_colab_link": true
    }
  },
  "nbformat": 4,
  "nbformat_minor": 5
}