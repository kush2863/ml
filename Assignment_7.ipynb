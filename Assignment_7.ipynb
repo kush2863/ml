{
  "cells": [
    {
      "cell_type": "markdown",
      "metadata": {
        "id": "view-in-github",
        "colab_type": "text"
      },
      "source": [
        "<a href=\"https://colab.research.google.com/github/kush2863/ml/blob/main/Assignment_7.ipynb\" target=\"_parent\"><img src=\"https://colab.research.google.com/assets/colab-badge.svg\" alt=\"Open In Colab\"/></a>"
      ]
    },
    {
      "cell_type": "code",
      "execution_count": null,
      "id": "609d2bb1",
      "metadata": {
        "execution": {
          "iopub.execute_input": "2022-11-12T19:23:19.835302Z",
          "iopub.status.busy": "2022-11-12T19:23:19.834314Z",
          "iopub.status.idle": "2022-11-12T19:23:19.841459Z",
          "shell.execute_reply": "2022-11-12T19:23:19.840283Z"
        },
        "papermill": {
          "duration": 0.020207,
          "end_time": "2022-11-12T19:23:19.844413",
          "exception": false,
          "start_time": "2022-11-12T19:23:19.824206",
          "status": "completed"
        },
        "tags": [],
        "id": "609d2bb1",
        "outputId": "0efd99f1-cc7c-41ed-9fc5-3d145f75cf1f"
      },
      "outputs": [
        {
          "name": "stdout",
          "output_type": "stream",
          "text": [
            "Requirement already satisfied: keras in c:\\users\\comp\\anaconda3\\lib\\site-packages (3.4.0)\n",
            "Collecting keras\n",
            "  Downloading keras-3.4.1-py3-none-any.whl (1.1 MB)\n",
            "     ---------------------------------------- 1.1/1.1 MB 1.3 MB/s eta 0:00:00\n",
            "Requirement already satisfied: tensorflow in c:\\users\\comp\\anaconda3\\lib\\site-packages (2.16.1)\n",
            "Collecting tensorflow\n",
            "  Downloading tensorflow-2.16.2-cp39-cp39-win_amd64.whl (2.1 kB)\n",
            "Requirement already satisfied: optree in c:\\users\\comp\\anaconda3\\lib\\site-packages (from keras) (0.11.0)\n",
            "Requirement already satisfied: rich in c:\\users\\comp\\anaconda3\\lib\\site-packages (from keras) (13.7.1)\n",
            "Requirement already satisfied: absl-py in c:\\users\\comp\\anaconda3\\lib\\site-packages (from keras) (2.1.0)\n",
            "Requirement already satisfied: ml-dtypes in c:\\users\\comp\\anaconda3\\lib\\site-packages (from keras) (0.3.2)\n",
            "Requirement already satisfied: namex in c:\\users\\comp\\anaconda3\\lib\\site-packages (from keras) (0.0.8)\n",
            "Requirement already satisfied: packaging in c:\\users\\comp\\anaconda3\\lib\\site-packages (from keras) (21.3)\n",
            "Requirement already satisfied: h5py in c:\\users\\comp\\anaconda3\\lib\\site-packages (from keras) (3.11.0)\n",
            "Requirement already satisfied: numpy in c:\\users\\comp\\anaconda3\\lib\\site-packages (from keras) (1.24.4)\n",
            "Collecting tensorflow-intel==2.16.2\n",
            "  Downloading tensorflow_intel-2.16.2-cp39-cp39-win_amd64.whl (376.9 MB)\n",
            "     ------------------------------------ 376.9/376.9 MB 692.3 kB/s eta 0:00:00\n",
            "Requirement already satisfied: tensorflow-io-gcs-filesystem>=0.23.1 in c:\\users\\comp\\anaconda3\\lib\\site-packages (from tensorflow-intel==2.16.2->tensorflow) (0.31.0)\n",
            "Requirement already satisfied: gast!=0.5.0,!=0.5.1,!=0.5.2,>=0.2.1 in c:\\users\\comp\\anaconda3\\lib\\site-packages (from tensorflow-intel==2.16.2->tensorflow) (0.5.5)\n",
            "Requirement already satisfied: astunparse>=1.6.0 in c:\\users\\comp\\anaconda3\\lib\\site-packages (from tensorflow-intel==2.16.2->tensorflow) (1.6.3)\n",
            "Requirement already satisfied: libclang>=13.0.0 in c:\\users\\comp\\anaconda3\\lib\\site-packages (from tensorflow-intel==2.16.2->tensorflow) (18.1.1)\n",
            "Requirement already satisfied: termcolor>=1.1.0 in c:\\users\\comp\\anaconda3\\lib\\site-packages (from tensorflow-intel==2.16.2->tensorflow) (2.4.0)\n",
            "Requirement already satisfied: grpcio<2.0,>=1.24.3 in c:\\users\\comp\\anaconda3\\lib\\site-packages (from tensorflow-intel==2.16.2->tensorflow) (1.64.1)\n",
            "Requirement already satisfied: typing-extensions>=3.6.6 in c:\\users\\comp\\anaconda3\\lib\\site-packages (from tensorflow-intel==2.16.2->tensorflow) (4.3.0)\n",
            "Requirement already satisfied: requests<3,>=2.21.0 in c:\\users\\comp\\anaconda3\\lib\\site-packages (from tensorflow-intel==2.16.2->tensorflow) (2.28.1)\n",
            "Requirement already satisfied: protobuf!=4.21.0,!=4.21.1,!=4.21.2,!=4.21.3,!=4.21.4,!=4.21.5,<5.0.0dev,>=3.20.3 in c:\\users\\comp\\anaconda3\\lib\\site-packages (from tensorflow-intel==2.16.2->tensorflow) (4.25.3)\n",
            "Requirement already satisfied: opt-einsum>=2.3.2 in c:\\users\\comp\\anaconda3\\lib\\site-packages (from tensorflow-intel==2.16.2->tensorflow) (3.3.0)\n",
            "Requirement already satisfied: six>=1.12.0 in c:\\users\\comp\\anaconda3\\lib\\site-packages (from tensorflow-intel==2.16.2->tensorflow) (1.16.0)\n",
            "Requirement already satisfied: setuptools in c:\\users\\comp\\anaconda3\\lib\\site-packages (from tensorflow-intel==2.16.2->tensorflow) (63.4.1)\n",
            "Requirement already satisfied: google-pasta>=0.1.1 in c:\\users\\comp\\anaconda3\\lib\\site-packages (from tensorflow-intel==2.16.2->tensorflow) (0.2.0)\n",
            "Requirement already satisfied: wrapt>=1.11.0 in c:\\users\\comp\\anaconda3\\lib\\site-packages (from tensorflow-intel==2.16.2->tensorflow) (1.14.1)\n",
            "Requirement already satisfied: flatbuffers>=23.5.26 in c:\\users\\comp\\anaconda3\\lib\\site-packages (from tensorflow-intel==2.16.2->tensorflow) (24.3.25)\n",
            "Requirement already satisfied: tensorboard<2.17,>=2.16 in c:\\users\\comp\\anaconda3\\lib\\site-packages (from tensorflow-intel==2.16.2->tensorflow) (2.16.2)\n",
            "Requirement already satisfied: pyparsing!=3.0.5,>=2.0.2 in c:\\users\\comp\\anaconda3\\lib\\site-packages (from packaging->keras) (3.0.9)\n",
            "Requirement already satisfied: pygments<3.0.0,>=2.13.0 in c:\\users\\comp\\anaconda3\\lib\\site-packages (from rich->keras) (2.18.0)\n",
            "Requirement already satisfied: markdown-it-py>=2.2.0 in c:\\users\\comp\\anaconda3\\lib\\site-packages (from rich->keras) (3.0.0)\n",
            "Requirement already satisfied: wheel<1.0,>=0.23.0 in c:\\users\\comp\\anaconda3\\lib\\site-packages (from astunparse>=1.6.0->tensorflow-intel==2.16.2->tensorflow) (0.37.1)\n",
            "Requirement already satisfied: mdurl~=0.1 in c:\\users\\comp\\anaconda3\\lib\\site-packages (from markdown-it-py>=2.2.0->rich->keras) (0.1.2)\n",
            "Requirement already satisfied: idna<4,>=2.5 in c:\\users\\comp\\anaconda3\\lib\\site-packages (from requests<3,>=2.21.0->tensorflow-intel==2.16.2->tensorflow) (3.3)\n",
            "Requirement already satisfied: certifi>=2017.4.17 in c:\\users\\comp\\anaconda3\\lib\\site-packages (from requests<3,>=2.21.0->tensorflow-intel==2.16.2->tensorflow) (2022.9.14)\n",
            "Requirement already satisfied: charset-normalizer<3,>=2 in c:\\users\\comp\\anaconda3\\lib\\site-packages (from requests<3,>=2.21.0->tensorflow-intel==2.16.2->tensorflow) (2.0.4)\n",
            "Requirement already satisfied: urllib3<1.27,>=1.21.1 in c:\\users\\comp\\anaconda3\\lib\\site-packages (from requests<3,>=2.21.0->tensorflow-intel==2.16.2->tensorflow) (1.26.11)\n",
            "Requirement already satisfied: markdown>=2.6.8 in c:\\users\\comp\\anaconda3\\lib\\site-packages (from tensorboard<2.17,>=2.16->tensorflow-intel==2.16.2->tensorflow) (3.3.4)\n",
            "Requirement already satisfied: tensorboard-data-server<0.8.0,>=0.7.0 in c:\\users\\comp\\anaconda3\\lib\\site-packages (from tensorboard<2.17,>=2.16->tensorflow-intel==2.16.2->tensorflow) (0.7.2)\n",
            "Requirement already satisfied: werkzeug>=1.0.1 in c:\\users\\comp\\anaconda3\\lib\\site-packages (from tensorboard<2.17,>=2.16->tensorflow-intel==2.16.2->tensorflow) (2.0.3)\n",
            "Installing collected packages: keras, tensorflow-intel, tensorflow\n",
            "  Attempting uninstall: keras\n",
            "    Found existing installation: keras 3.4.0\n",
            "    Uninstalling keras-3.4.0:\n",
            "      Successfully uninstalled keras-3.4.0\n",
            "  Attempting uninstall: tensorflow-intel\n",
            "    Found existing installation: tensorflow-intel 2.16.1\n",
            "    Uninstalling tensorflow-intel-2.16.1:\n",
            "      Successfully uninstalled tensorflow-intel-2.16.1\n",
            "  Attempting uninstall: tensorflow\n",
            "    Found existing installation: tensorflow 2.16.1\n",
            "    Uninstalling tensorflow-2.16.1:\n",
            "      Successfully uninstalled tensorflow-2.16.1\n",
            "Successfully installed keras-3.4.1 tensorflow-2.16.2 tensorflow-intel-2.16.2\n"
          ]
        }
      ],
      "source": [
        "!pip install keras tensorflow -U"
      ]
    },
    {
      "cell_type": "code",
      "execution_count": null,
      "id": "9a9784eb",
      "metadata": {
        "execution": {
          "iopub.execute_input": "2022-11-12T19:23:19.860484Z",
          "iopub.status.busy": "2022-11-12T19:23:19.859738Z",
          "iopub.status.idle": "2022-11-12T19:23:27.499291Z",
          "shell.execute_reply": "2022-11-12T19:23:27.497975Z"
        },
        "papermill": {
          "duration": 7.651297,
          "end_time": "2022-11-12T19:23:27.502587",
          "exception": false,
          "start_time": "2022-11-12T19:23:19.85129",
          "status": "completed"
        },
        "tags": [],
        "id": "9a9784eb"
      },
      "outputs": [],
      "source": [
        "import math\n",
        "import numpy as np\n",
        "import pandas as pd\n",
        "import tensorflow as tf\n",
        "import matplotlib.pyplot as plt\n",
        "from tensorflow.keras import Model\n",
        "from tensorflow.keras import Sequential\n",
        "from tensorflow.keras.optimizers import Adam\n",
        "from sklearn.preprocessing import StandardScaler\n",
        "from tensorflow.keras.layers import Dense, Dropout\n",
        "from sklearn.model_selection import train_test_split\n",
        "from tensorflow.keras.losses import MeanSquaredLogarithmicError"
      ]
    },
    {
      "cell_type": "code",
      "execution_count": null,
      "id": "d2935b10",
      "metadata": {
        "execution": {
          "iopub.execute_input": "2022-11-12T19:23:27.519798Z",
          "iopub.status.busy": "2022-11-12T19:23:27.518176Z",
          "iopub.status.idle": "2022-11-12T19:23:27.895166Z",
          "shell.execute_reply": "2022-11-12T19:23:27.893856Z"
        },
        "papermill": {
          "duration": 0.388366,
          "end_time": "2022-11-12T19:23:27.89808",
          "exception": false,
          "start_time": "2022-11-12T19:23:27.509714",
          "status": "completed"
        },
        "tags": [],
        "id": "d2935b10"
      },
      "outputs": [],
      "source": [
        "df = np.loadtxt('https://raw.githubusercontent.com/jbrownlee/Datasets/master/pima-indians-diabetes.data.csv', delimiter=',')"
      ]
    },
    {
      "cell_type": "code",
      "execution_count": null,
      "id": "15dcd7a7",
      "metadata": {
        "execution": {
          "iopub.execute_input": "2022-11-12T19:23:27.913936Z",
          "iopub.status.busy": "2022-11-12T19:23:27.913174Z",
          "iopub.status.idle": "2022-11-12T19:23:27.923115Z",
          "shell.execute_reply": "2022-11-12T19:23:27.921921Z"
        },
        "papermill": {
          "duration": 0.020734,
          "end_time": "2022-11-12T19:23:27.925627",
          "exception": false,
          "start_time": "2022-11-12T19:23:27.904893",
          "status": "completed"
        },
        "tags": [],
        "id": "15dcd7a7",
        "outputId": "436bddfd-97fd-4190-e1bc-132bfdcf3ebd"
      },
      "outputs": [
        {
          "data": {
            "text/plain": [
              "array([[  6.   , 148.   ,  72.   , ...,   0.627,  50.   ,   1.   ],\n",
              "       [  1.   ,  85.   ,  66.   , ...,   0.351,  31.   ,   0.   ],\n",
              "       [  8.   , 183.   ,  64.   , ...,   0.672,  32.   ,   1.   ],\n",
              "       ...,\n",
              "       [  5.   , 121.   ,  72.   , ...,   0.245,  30.   ,   0.   ],\n",
              "       [  1.   , 126.   ,  60.   , ...,   0.349,  47.   ,   1.   ],\n",
              "       [  1.   ,  93.   ,  70.   , ...,   0.315,  23.   ,   0.   ]])"
            ]
          },
          "execution_count": 4,
          "metadata": {},
          "output_type": "execute_result"
        }
      ],
      "source": [
        "df"
      ]
    },
    {
      "cell_type": "code",
      "execution_count": null,
      "id": "a5a69a3d",
      "metadata": {
        "execution": {
          "iopub.execute_input": "2022-11-12T19:23:27.941409Z",
          "iopub.status.busy": "2022-11-12T19:23:27.94103Z",
          "iopub.status.idle": "2022-11-12T19:23:27.947776Z",
          "shell.execute_reply": "2022-11-12T19:23:27.946667Z"
        },
        "papermill": {
          "duration": 0.01712,
          "end_time": "2022-11-12T19:23:27.949965",
          "exception": false,
          "start_time": "2022-11-12T19:23:27.932845",
          "status": "completed"
        },
        "tags": [],
        "id": "a5a69a3d",
        "outputId": "0663c01c-9368-456b-a1cb-efc157281532"
      },
      "outputs": [
        {
          "data": {
            "text/plain": [
              "(768, 9)"
            ]
          },
          "execution_count": 5,
          "metadata": {},
          "output_type": "execute_result"
        }
      ],
      "source": [
        "df.shape"
      ]
    },
    {
      "cell_type": "code",
      "execution_count": null,
      "id": "6b7fa3ff",
      "metadata": {
        "execution": {
          "iopub.execute_input": "2022-11-12T19:23:27.965839Z",
          "iopub.status.busy": "2022-11-12T19:23:27.965368Z",
          "iopub.status.idle": "2022-11-12T19:23:27.971539Z",
          "shell.execute_reply": "2022-11-12T19:23:27.970319Z"
        },
        "papermill": {
          "duration": 0.017249,
          "end_time": "2022-11-12T19:23:27.974337",
          "exception": false,
          "start_time": "2022-11-12T19:23:27.957088",
          "status": "completed"
        },
        "tags": [],
        "id": "6b7fa3ff"
      },
      "outputs": [],
      "source": [
        "x = df[:,:8]\n",
        "y = df[:,8]"
      ]
    },
    {
      "cell_type": "code",
      "execution_count": null,
      "id": "fa5ad326",
      "metadata": {
        "execution": {
          "iopub.execute_input": "2022-11-12T19:23:27.991866Z",
          "iopub.status.busy": "2022-11-12T19:23:27.991405Z",
          "iopub.status.idle": "2022-11-12T19:23:28.002747Z",
          "shell.execute_reply": "2022-11-12T19:23:28.001358Z"
        },
        "papermill": {
          "duration": 0.022515,
          "end_time": "2022-11-12T19:23:28.005566",
          "exception": false,
          "start_time": "2022-11-12T19:23:27.983051",
          "status": "completed"
        },
        "tags": [],
        "id": "fa5ad326"
      },
      "outputs": [],
      "source": [
        "from sklearn.model_selection import train_test_split\n",
        "X_train, X_temp, y_train, y_temp = train_test_split(x, y, test_size=0.2, random_state=42)\n",
        "\n",
        "X_test, X_val, y_test, y_val = train_test_split(X_temp, y_temp, test_size=0.5, random_state=42)"
      ]
    },
    {
      "cell_type": "code",
      "execution_count": null,
      "id": "4dc9ec81",
      "metadata": {
        "execution": {
          "iopub.execute_input": "2022-11-12T19:23:28.022415Z",
          "iopub.status.busy": "2022-11-12T19:23:28.021993Z",
          "iopub.status.idle": "2022-11-12T19:23:28.028739Z",
          "shell.execute_reply": "2022-11-12T19:23:28.027517Z"
        },
        "papermill": {
          "duration": 0.018342,
          "end_time": "2022-11-12T19:23:28.031252",
          "exception": false,
          "start_time": "2022-11-12T19:23:28.01291",
          "status": "completed"
        },
        "tags": [],
        "id": "4dc9ec81",
        "outputId": "7edc6e4b-b579-4b7b-adad-6e62f9c20847"
      },
      "outputs": [
        {
          "name": "stdout",
          "output_type": "stream",
          "text": [
            "x train shape(614, 8)\n",
            "y train shape(614,)\n",
            "x test shape(77, 8)\n",
            "y test shape(77,)\n",
            "x val shape(77, 8)\n",
            "y val shape(77,)\n"
          ]
        }
      ],
      "source": [
        "print(f\"x train shape{X_train.shape}\")\n",
        "print(f\"y train shape{y_train.shape}\")\n",
        "print(f\"x test shape{X_test.shape}\")\n",
        "print(f\"y test shape{y_test.shape}\")\n",
        "print(f\"x val shape{X_val.shape}\")\n",
        "print(f\"y val shape{y_val.shape}\")"
      ]
    },
    {
      "cell_type": "code",
      "execution_count": null,
      "id": "158acaef",
      "metadata": {
        "execution": {
          "iopub.execute_input": "2022-11-12T19:23:28.047837Z",
          "iopub.status.busy": "2022-11-12T19:23:28.047408Z",
          "iopub.status.idle": "2022-11-12T19:23:28.054512Z",
          "shell.execute_reply": "2022-11-12T19:23:28.053497Z"
        },
        "papermill": {
          "duration": 0.018303,
          "end_time": "2022-11-12T19:23:28.05689",
          "exception": false,
          "start_time": "2022-11-12T19:23:28.038587",
          "status": "completed"
        },
        "tags": [],
        "id": "158acaef"
      },
      "outputs": [],
      "source": [
        "from sklearn.preprocessing import StandardScaler\n",
        "scaler = StandardScaler()\n",
        "X_train = scaler.fit_transform(X_train)\n",
        "X_test = scaler.transform(X_test)\n",
        "X_val = scaler.transform(X_val)"
      ]
    },
    {
      "cell_type": "code",
      "execution_count": null,
      "id": "1bbf24f1",
      "metadata": {
        "execution": {
          "iopub.execute_input": "2022-11-12T19:23:28.073044Z",
          "iopub.status.busy": "2022-11-12T19:23:28.07262Z",
          "iopub.status.idle": "2022-11-12T19:23:28.080845Z",
          "shell.execute_reply": "2022-11-12T19:23:28.07961Z"
        },
        "papermill": {
          "duration": 0.019165,
          "end_time": "2022-11-12T19:23:28.083282",
          "exception": false,
          "start_time": "2022-11-12T19:23:28.064117",
          "status": "completed"
        },
        "tags": [],
        "id": "1bbf24f1",
        "outputId": "351086b3-f0bd-4360-9997-cd328186a65d"
      },
      "outputs": [
        {
          "data": {
            "text/plain": [
              "Counter({1.0: 268, 0.0: 500})"
            ]
          },
          "execution_count": 10,
          "metadata": {},
          "output_type": "execute_result"
        }
      ],
      "source": [
        "from collections import Counter\n",
        "Counter(y)"
      ]
    },
    {
      "cell_type": "code",
      "execution_count": null,
      "id": "5c94bc61",
      "metadata": {
        "execution": {
          "iopub.execute_input": "2022-11-12T19:23:28.100315Z",
          "iopub.status.busy": "2022-11-12T19:23:28.099916Z",
          "iopub.status.idle": "2022-11-12T19:23:28.282473Z",
          "shell.execute_reply": "2022-11-12T19:23:28.281289Z"
        },
        "papermill": {
          "duration": 0.194263,
          "end_time": "2022-11-12T19:23:28.285212",
          "exception": false,
          "start_time": "2022-11-12T19:23:28.090949",
          "status": "completed"
        },
        "tags": [],
        "id": "5c94bc61"
      },
      "outputs": [],
      "source": [
        "import seaborn as sns"
      ]
    },
    {
      "cell_type": "code",
      "execution_count": null,
      "id": "8264d7be",
      "metadata": {
        "execution": {
          "iopub.execute_input": "2022-11-12T19:23:28.302086Z",
          "iopub.status.busy": "2022-11-12T19:23:28.301687Z",
          "iopub.status.idle": "2022-11-12T19:23:28.306296Z",
          "shell.execute_reply": "2022-11-12T19:23:28.305046Z"
        },
        "papermill": {
          "duration": 0.016238,
          "end_time": "2022-11-12T19:23:28.308978",
          "exception": false,
          "start_time": "2022-11-12T19:23:28.29274",
          "status": "completed"
        },
        "tags": [],
        "id": "8264d7be"
      },
      "outputs": [],
      "source": [
        "# sns.countplot(y)"
      ]
    },
    {
      "cell_type": "code",
      "execution_count": null,
      "id": "952c7743",
      "metadata": {
        "execution": {
          "iopub.execute_input": "2022-11-12T19:23:28.325596Z",
          "iopub.status.busy": "2022-11-12T19:23:28.325172Z",
          "iopub.status.idle": "2022-11-12T19:23:28.330701Z",
          "shell.execute_reply": "2022-11-12T19:23:28.329515Z"
        },
        "papermill": {
          "duration": 0.017043,
          "end_time": "2022-11-12T19:23:28.333356",
          "exception": false,
          "start_time": "2022-11-12T19:23:28.316313",
          "status": "completed"
        },
        "tags": [],
        "id": "952c7743"
      },
      "outputs": [],
      "source": [
        "from tensorflow.keras.models import Sequential"
      ]
    },
    {
      "cell_type": "code",
      "execution_count": null,
      "id": "c4e9210b",
      "metadata": {
        "execution": {
          "iopub.execute_input": "2022-11-12T19:23:28.350711Z",
          "iopub.status.busy": "2022-11-12T19:23:28.350289Z",
          "iopub.status.idle": "2022-11-12T19:23:28.497754Z",
          "shell.execute_reply": "2022-11-12T19:23:28.496519Z"
        },
        "papermill": {
          "duration": 0.159372,
          "end_time": "2022-11-12T19:23:28.500373",
          "exception": false,
          "start_time": "2022-11-12T19:23:28.341001",
          "status": "completed"
        },
        "tags": [],
        "id": "c4e9210b",
        "outputId": "a44b2a64-6966-41f2-f558-4bb8ea2ba806"
      },
      "outputs": [
        {
          "ename": "ValueError",
          "evalue": "Cannot convert '8' to a shape.",
          "output_type": "error",
          "traceback": [
            "\u001b[1;31m---------------------------------------------------------------------------\u001b[0m",
            "\u001b[1;31mValueError\u001b[0m                                Traceback (most recent call last)",
            "\u001b[1;32m~\\AppData\\Local\\Temp\\ipykernel_13808\\1080306102.py\u001b[0m in \u001b[0;36m<module>\u001b[1;34m\u001b[0m\n\u001b[0;32m      1\u001b[0m model = Sequential([\n\u001b[0;32m      2\u001b[0m \u001b[1;33m\u001b[0m\u001b[0m\n\u001b[1;32m----> 3\u001b[1;33m \u001b[0mtf\u001b[0m\u001b[1;33m.\u001b[0m\u001b[0mkeras\u001b[0m\u001b[1;33m.\u001b[0m\u001b[0mlayers\u001b[0m\u001b[1;33m.\u001b[0m\u001b[0mInputLayer\u001b[0m\u001b[1;33m(\u001b[0m\u001b[1;36m8\u001b[0m\u001b[1;33m,\u001b[0m\u001b[1;33m)\u001b[0m\u001b[1;33m,\u001b[0m\u001b[1;33m\u001b[0m\u001b[1;33m\u001b[0m\u001b[0m\n\u001b[0m\u001b[0;32m      4\u001b[0m \u001b[0mDense\u001b[0m\u001b[1;33m(\u001b[0m\u001b[1;36m50\u001b[0m\u001b[1;33m,\u001b[0m\u001b[0mactivation\u001b[0m\u001b[1;33m=\u001b[0m\u001b[1;34m'relu'\u001b[0m\u001b[1;33m)\u001b[0m\u001b[1;33m,\u001b[0m\u001b[1;33m\u001b[0m\u001b[1;33m\u001b[0m\u001b[0m\n\u001b[0;32m      5\u001b[0m \u001b[1;33m\u001b[0m\u001b[0m\n",
            "\u001b[1;32m~\\anaconda3\\lib\\site-packages\\keras\\src\\layers\\core\\input_layer.py\u001b[0m in \u001b[0;36m__init__\u001b[1;34m(self, shape, batch_size, dtype, sparse, batch_shape, input_tensor, optional, name, **kwargs)\u001b[0m\n\u001b[0;32m     45\u001b[0m \u001b[1;33m\u001b[0m\u001b[0m\n\u001b[0;32m     46\u001b[0m         \u001b[1;32mif\u001b[0m \u001b[0mshape\u001b[0m \u001b[1;32mis\u001b[0m \u001b[1;32mnot\u001b[0m \u001b[1;32mNone\u001b[0m\u001b[1;33m:\u001b[0m\u001b[1;33m\u001b[0m\u001b[1;33m\u001b[0m\u001b[0m\n\u001b[1;32m---> 47\u001b[1;33m             \u001b[0mshape\u001b[0m \u001b[1;33m=\u001b[0m \u001b[0mbackend\u001b[0m\u001b[1;33m.\u001b[0m\u001b[0mstandardize_shape\u001b[0m\u001b[1;33m(\u001b[0m\u001b[0mshape\u001b[0m\u001b[1;33m)\u001b[0m\u001b[1;33m\u001b[0m\u001b[1;33m\u001b[0m\u001b[0m\n\u001b[0m\u001b[0;32m     48\u001b[0m             \u001b[0mbatch_shape\u001b[0m \u001b[1;33m=\u001b[0m \u001b[1;33m(\u001b[0m\u001b[0mbatch_size\u001b[0m\u001b[1;33m,\u001b[0m\u001b[1;33m)\u001b[0m \u001b[1;33m+\u001b[0m \u001b[0mshape\u001b[0m\u001b[1;33m\u001b[0m\u001b[1;33m\u001b[0m\u001b[0m\n\u001b[0;32m     49\u001b[0m         \u001b[0mself\u001b[0m\u001b[1;33m.\u001b[0m\u001b[0mbatch_shape\u001b[0m \u001b[1;33m=\u001b[0m \u001b[0mtuple\u001b[0m\u001b[1;33m(\u001b[0m\u001b[0mbatch_shape\u001b[0m\u001b[1;33m)\u001b[0m\u001b[1;33m\u001b[0m\u001b[1;33m\u001b[0m\u001b[0m\n",
            "\u001b[1;32m~\\anaconda3\\lib\\site-packages\\keras\\src\\backend\\common\\variables.py\u001b[0m in \u001b[0;36mstandardize_shape\u001b[1;34m(shape)\u001b[0m\n\u001b[0;32m    528\u001b[0m             \u001b[1;32mraise\u001b[0m \u001b[0mValueError\u001b[0m\u001b[1;33m(\u001b[0m\u001b[1;34m\"Undefined shapes are not supported.\"\u001b[0m\u001b[1;33m)\u001b[0m\u001b[1;33m\u001b[0m\u001b[1;33m\u001b[0m\u001b[0m\n\u001b[0;32m    529\u001b[0m         \u001b[1;32mif\u001b[0m \u001b[1;32mnot\u001b[0m \u001b[0mhasattr\u001b[0m\u001b[1;33m(\u001b[0m\u001b[0mshape\u001b[0m\u001b[1;33m,\u001b[0m \u001b[1;34m\"__iter__\"\u001b[0m\u001b[1;33m)\u001b[0m\u001b[1;33m:\u001b[0m\u001b[1;33m\u001b[0m\u001b[1;33m\u001b[0m\u001b[0m\n\u001b[1;32m--> 530\u001b[1;33m             \u001b[1;32mraise\u001b[0m \u001b[0mValueError\u001b[0m\u001b[1;33m(\u001b[0m\u001b[1;34mf\"Cannot convert '{shape}' to a shape.\"\u001b[0m\u001b[1;33m)\u001b[0m\u001b[1;33m\u001b[0m\u001b[1;33m\u001b[0m\u001b[0m\n\u001b[0m\u001b[0;32m    531\u001b[0m         \u001b[1;32mif\u001b[0m \u001b[0mconfig\u001b[0m\u001b[1;33m.\u001b[0m\u001b[0mbackend\u001b[0m\u001b[1;33m(\u001b[0m\u001b[1;33m)\u001b[0m \u001b[1;33m==\u001b[0m \u001b[1;34m\"tensorflow\"\u001b[0m\u001b[1;33m:\u001b[0m\u001b[1;33m\u001b[0m\u001b[1;33m\u001b[0m\u001b[0m\n\u001b[0;32m    532\u001b[0m             \u001b[1;32mif\u001b[0m \u001b[0misinstance\u001b[0m\u001b[1;33m(\u001b[0m\u001b[0mshape\u001b[0m\u001b[1;33m,\u001b[0m \u001b[0mtf\u001b[0m\u001b[1;33m.\u001b[0m\u001b[0mTensorShape\u001b[0m\u001b[1;33m)\u001b[0m\u001b[1;33m:\u001b[0m\u001b[1;33m\u001b[0m\u001b[1;33m\u001b[0m\u001b[0m\n",
            "\u001b[1;31mValueError\u001b[0m: Cannot convert '8' to a shape."
          ]
        }
      ],
      "source": [
        "model = Sequential([\n",
        "\n",
        "tf.keras.layers.InputLayer(8,),\n",
        "Dense(50,activation='relu'),\n",
        "\n",
        "Dense(50,activation='relu'),\n",
        "Dense(50,activation='relu'),\n",
        "Dense(50,activation='relu'),\n",
        "\n",
        "Dense(1,activation='sigmoid')\n",
        "])\n"
      ]
    },
    {
      "cell_type": "code",
      "execution_count": null,
      "id": "467b87fa",
      "metadata": {
        "execution": {
          "iopub.execute_input": "2022-11-12T19:23:28.516949Z",
          "iopub.status.busy": "2022-11-12T19:23:28.516551Z",
          "iopub.status.idle": "2022-11-12T19:23:28.522955Z",
          "shell.execute_reply": "2022-11-12T19:23:28.521767Z"
        },
        "papermill": {
          "duration": 0.018213,
          "end_time": "2022-11-12T19:23:28.526043",
          "exception": false,
          "start_time": "2022-11-12T19:23:28.50783",
          "status": "completed"
        },
        "tags": [],
        "id": "467b87fa"
      },
      "outputs": [],
      "source": [
        "model.summary()"
      ]
    },
    {
      "cell_type": "code",
      "execution_count": null,
      "id": "bdf0ed8b",
      "metadata": {
        "execution": {
          "iopub.execute_input": "2022-11-12T19:23:28.54275Z",
          "iopub.status.busy": "2022-11-12T19:23:28.542325Z",
          "iopub.status.idle": "2022-11-12T19:23:28.55788Z",
          "shell.execute_reply": "2022-11-12T19:23:28.556925Z"
        },
        "papermill": {
          "duration": 0.027099,
          "end_time": "2022-11-12T19:23:28.560515",
          "exception": false,
          "start_time": "2022-11-12T19:23:28.533416",
          "status": "completed"
        },
        "tags": [],
        "id": "bdf0ed8b"
      },
      "outputs": [],
      "source": [
        "opt = tf.keras.optimizers.Adam(learning_rate=0.0001)\n",
        "model.compile(loss='binary_crossentropy', optimizer=opt, metrics=['accuracy'])"
      ]
    },
    {
      "cell_type": "code",
      "execution_count": null,
      "id": "02967cdb",
      "metadata": {
        "execution": {
          "iopub.execute_input": "2022-11-12T19:23:28.57765Z",
          "iopub.status.busy": "2022-11-12T19:23:28.576565Z",
          "iopub.status.idle": "2022-11-12T19:23:56.236412Z",
          "shell.execute_reply": "2022-11-12T19:23:56.235184Z"
        },
        "papermill": {
          "duration": 27.671257,
          "end_time": "2022-11-12T19:23:56.239208",
          "exception": false,
          "start_time": "2022-11-12T19:23:28.567951",
          "status": "completed"
        },
        "tags": [],
        "id": "02967cdb"
      },
      "outputs": [],
      "source": [
        "history = model.fit(x=x,y=y,epochs=300, batch_size=50,validation_data=(X_val,y_val))"
      ]
    },
    {
      "cell_type": "code",
      "execution_count": null,
      "id": "5db75ad0",
      "metadata": {
        "execution": {
          "iopub.execute_input": "2022-11-12T19:23:56.332068Z",
          "iopub.status.busy": "2022-11-12T19:23:56.331681Z",
          "iopub.status.idle": "2022-11-12T19:23:56.665893Z",
          "shell.execute_reply": "2022-11-12T19:23:56.664987Z"
        },
        "papermill": {
          "duration": 0.382105,
          "end_time": "2022-11-12T19:23:56.668239",
          "exception": false,
          "start_time": "2022-11-12T19:23:56.286134",
          "status": "completed"
        },
        "tags": [],
        "id": "5db75ad0"
      },
      "outputs": [],
      "source": [
        "losses = pd.DataFrame(model.history.history)\n",
        "losses.plot()"
      ]
    },
    {
      "cell_type": "code",
      "execution_count": null,
      "id": "95e5f2a0",
      "metadata": {
        "execution": {
          "iopub.execute_input": "2022-11-12T19:23:56.759902Z",
          "iopub.status.busy": "2022-11-12T19:23:56.758612Z",
          "iopub.status.idle": "2022-11-12T19:23:57.016897Z",
          "shell.execute_reply": "2022-11-12T19:23:57.015472Z"
        },
        "papermill": {
          "duration": 0.307024,
          "end_time": "2022-11-12T19:23:57.019804",
          "exception": false,
          "start_time": "2022-11-12T19:23:56.71278",
          "status": "completed"
        },
        "tags": [],
        "id": "95e5f2a0"
      },
      "outputs": [],
      "source": [
        "model.evaluate(x,y)"
      ]
    },
    {
      "cell_type": "code",
      "execution_count": null,
      "id": "bd2f7489",
      "metadata": {
        "execution": {
          "iopub.execute_input": "2022-11-12T19:23:57.116522Z",
          "iopub.status.busy": "2022-11-12T19:23:57.114179Z",
          "iopub.status.idle": "2022-11-12T19:23:57.277721Z",
          "shell.execute_reply": "2022-11-12T19:23:57.276359Z"
        },
        "papermill": {
          "duration": 0.214614,
          "end_time": "2022-11-12T19:23:57.280868",
          "exception": false,
          "start_time": "2022-11-12T19:23:57.066254",
          "status": "completed"
        },
        "tags": [],
        "id": "bd2f7489"
      },
      "outputs": [],
      "source": [
        "y_pred = model.predict(X_test)"
      ]
    },
    {
      "cell_type": "code",
      "execution_count": null,
      "id": "1b9d3fa3",
      "metadata": {
        "execution": {
          "iopub.execute_input": "2022-11-12T19:23:57.374774Z",
          "iopub.status.busy": "2022-11-12T19:23:57.373489Z",
          "iopub.status.idle": "2022-11-12T19:23:57.382674Z",
          "shell.execute_reply": "2022-11-12T19:23:57.381656Z"
        },
        "papermill": {
          "duration": 0.057857,
          "end_time": "2022-11-12T19:23:57.385026",
          "exception": false,
          "start_time": "2022-11-12T19:23:57.327169",
          "status": "completed"
        },
        "tags": [],
        "id": "1b9d3fa3"
      },
      "outputs": [],
      "source": [
        "y_pred"
      ]
    },
    {
      "cell_type": "code",
      "execution_count": null,
      "id": "66b56be0",
      "metadata": {
        "execution": {
          "iopub.execute_input": "2022-11-12T19:23:57.479795Z",
          "iopub.status.busy": "2022-11-12T19:23:57.477796Z",
          "iopub.status.idle": "2022-11-12T19:23:57.48357Z",
          "shell.execute_reply": "2022-11-12T19:23:57.482776Z"
        },
        "papermill": {
          "duration": 0.055891,
          "end_time": "2022-11-12T19:23:57.485988",
          "exception": false,
          "start_time": "2022-11-12T19:23:57.430097",
          "status": "completed"
        },
        "tags": [],
        "id": "66b56be0"
      },
      "outputs": [],
      "source": [
        "# !pip install ann_visualizer"
      ]
    },
    {
      "cell_type": "code",
      "execution_count": null,
      "id": "f938cc14",
      "metadata": {
        "execution": {
          "iopub.execute_input": "2022-11-12T19:23:57.578636Z",
          "iopub.status.busy": "2022-11-12T19:23:57.577827Z",
          "iopub.status.idle": "2022-11-12T19:23:57.583026Z",
          "shell.execute_reply": "2022-11-12T19:23:57.581906Z"
        },
        "papermill": {
          "duration": 0.054781,
          "end_time": "2022-11-12T19:23:57.585666",
          "exception": false,
          "start_time": "2022-11-12T19:23:57.530885",
          "status": "completed"
        },
        "tags": [],
        "id": "f938cc14"
      },
      "outputs": [],
      "source": [
        "# !pip install graphviz"
      ]
    },
    {
      "cell_type": "code",
      "execution_count": null,
      "id": "27e88a77",
      "metadata": {
        "execution": {
          "iopub.execute_input": "2022-11-12T19:23:57.680126Z",
          "iopub.status.busy": "2022-11-12T19:23:57.679078Z",
          "iopub.status.idle": "2022-11-12T19:23:57.684394Z",
          "shell.execute_reply": "2022-11-12T19:23:57.683516Z"
        },
        "papermill": {
          "duration": 0.055563,
          "end_time": "2022-11-12T19:23:57.686794",
          "exception": false,
          "start_time": "2022-11-12T19:23:57.631231",
          "status": "completed"
        },
        "tags": [],
        "id": "27e88a77"
      },
      "outputs": [],
      "source": [
        "# from ann_visualizer.visualize import ann_viz\n",
        "\n",
        "# ann_viz(model, title=\"\")"
      ]
    },
    {
      "cell_type": "code",
      "execution_count": null,
      "id": "f002ce76",
      "metadata": {
        "execution": {
          "iopub.execute_input": "2022-11-12T19:23:57.781843Z",
          "iopub.status.busy": "2022-11-12T19:23:57.780481Z",
          "iopub.status.idle": "2022-11-12T19:23:57.786017Z",
          "shell.execute_reply": "2022-11-12T19:23:57.785141Z"
        },
        "papermill": {
          "duration": 0.0556,
          "end_time": "2022-11-12T19:23:57.78848",
          "exception": false,
          "start_time": "2022-11-12T19:23:57.73288",
          "status": "completed"
        },
        "tags": [],
        "id": "f002ce76"
      },
      "outputs": [],
      "source": [
        "# !pip3 install keras\n",
        "# !pip3 install ann_visualizer\n",
        "# !pip install graphviz"
      ]
    },
    {
      "cell_type": "code",
      "execution_count": null,
      "id": "94af479d",
      "metadata": {
        "execution": {
          "iopub.execute_input": "2022-11-12T19:23:57.882819Z",
          "iopub.status.busy": "2022-11-12T19:23:57.882375Z",
          "iopub.status.idle": "2022-11-12T19:23:57.887825Z",
          "shell.execute_reply": "2022-11-12T19:23:57.886421Z"
        },
        "papermill": {
          "duration": 0.056046,
          "end_time": "2022-11-12T19:23:57.8903",
          "exception": false,
          "start_time": "2022-11-12T19:23:57.834254",
          "status": "completed"
        },
        "tags": [],
        "id": "94af479d"
      },
      "outputs": [],
      "source": [
        "# from ann_visualizer.visualize import ann_viz;\n",
        "\n",
        "# ann_viz(model, title=\"My first neural network\")"
      ]
    },
    {
      "cell_type": "code",
      "execution_count": null,
      "id": "428c3688",
      "metadata": {
        "execution": {
          "iopub.execute_input": "2022-11-12T19:23:57.985334Z",
          "iopub.status.busy": "2022-11-12T19:23:57.984928Z",
          "iopub.status.idle": "2022-11-12T19:23:57.989642Z",
          "shell.execute_reply": "2022-11-12T19:23:57.988332Z"
        },
        "papermill": {
          "duration": 0.055982,
          "end_time": "2022-11-12T19:23:57.992139",
          "exception": false,
          "start_time": "2022-11-12T19:23:57.936157",
          "status": "completed"
        },
        "tags": [],
        "id": "428c3688"
      },
      "outputs": [],
      "source": [
        "# python3 index.py"
      ]
    },
    {
      "cell_type": "code",
      "execution_count": null,
      "id": "2faebf18",
      "metadata": {
        "papermill": {
          "duration": 0.04633,
          "end_time": "2022-11-12T19:23:58.084475",
          "exception": false,
          "start_time": "2022-11-12T19:23:58.038145",
          "status": "completed"
        },
        "tags": [],
        "id": "2faebf18"
      },
      "outputs": [],
      "source": []
    }
  ],
  "metadata": {
    "kernelspec": {
      "display_name": "Python 3 (ipykernel)",
      "language": "python",
      "name": "python3"
    },
    "language_info": {
      "codemirror_mode": {
        "name": "ipython",
        "version": 3
      },
      "file_extension": ".py",
      "mimetype": "text/x-python",
      "name": "python",
      "nbconvert_exporter": "python",
      "pygments_lexer": "ipython3",
      "version": "3.9.13"
    },
    "papermill": {
      "default_parameters": {},
      "duration": 50.227216,
      "end_time": "2022-11-12T19:24:01.303729",
      "environment_variables": {},
      "exception": null,
      "input_path": "__notebook__.ipynb",
      "output_path": "__notebook__.ipynb",
      "parameters": {},
      "start_time": "2022-11-12T19:23:11.076513",
      "version": "2.3.4"
    },
    "colab": {
      "provenance": [],
      "include_colab_link": true
    }
  },
  "nbformat": 4,
  "nbformat_minor": 5
}