{
  "cells": [
    {
      "cell_type": "markdown",
      "metadata": {
        "id": "view-in-github",
        "colab_type": "text"
      },
      "source": [
        "<a href=\"https://colab.research.google.com/github/kush2863/ml/blob/main/Assignment_1.ipynb\" target=\"_parent\"><img src=\"https://colab.research.google.com/assets/colab-badge.svg\" alt=\"Open In Colab\"/></a>"
      ]
    },
    {
      "cell_type": "code",
      "execution_count": null,
      "metadata": {
        "execution": {
          "iopub.execute_input": "2022-11-12T13:27:21.69254Z",
          "iopub.status.busy": "2022-11-12T13:27:21.691691Z",
          "iopub.status.idle": "2022-11-12T13:27:22.818872Z",
          "shell.execute_reply": "2022-11-12T13:27:22.817459Z",
          "shell.execute_reply.started": "2022-11-12T13:27:21.692354Z"
        },
        "id": "Z-ePiRCsO70Z"
      },
      "outputs": [],
      "source": [
        "from sklearn.model_selection import train_test_split\n",
        "from sklearn.linear_model import LinearRegression\n",
        "import matplotlib.pyplot as plt\n",
        "import numpy as np # linear algebra\n",
        "import pandas as pd # data processing, CSV file I/O (e.g. pd.read_csv)\n",
        "import seaborn as sns"
      ]
    },
    {
      "cell_type": "code",
      "execution_count": null,
      "metadata": {
        "execution": {
          "iopub.execute_input": "2022-11-12T13:27:22.823072Z",
          "iopub.status.busy": "2022-11-12T13:27:22.822333Z",
          "iopub.status.idle": "2022-11-12T13:27:22.838939Z",
          "shell.execute_reply": "2022-11-12T13:27:22.837379Z",
          "shell.execute_reply.started": "2022-11-12T13:27:22.823018Z"
        },
        "id": "8of1Kj2GO70c"
      },
      "outputs": [],
      "source": [
        "pwd"
      ]
    },
    {
      "cell_type": "code",
      "execution_count": null,
      "metadata": {
        "execution": {
          "iopub.execute_input": "2022-11-12T13:27:22.842978Z",
          "iopub.status.busy": "2022-11-12T13:27:22.841949Z",
          "iopub.status.idle": "2022-11-12T13:27:22.881116Z",
          "shell.execute_reply": "2022-11-12T13:27:22.879503Z",
          "shell.execute_reply.started": "2022-11-12T13:27:22.842905Z"
        },
        "id": "eSG5U0z6O70d"
      },
      "outputs": [],
      "source": [
        "df = pd.read_csv('G:\\LP1\\\\1\\\\Heart.csv')"
      ]
    },
    {
      "cell_type": "code",
      "execution_count": null,
      "metadata": {
        "execution": {
          "iopub.execute_input": "2022-11-12T13:27:22.886852Z",
          "iopub.status.busy": "2022-11-12T13:27:22.88588Z",
          "iopub.status.idle": "2022-11-12T13:27:22.91601Z",
          "shell.execute_reply": "2022-11-12T13:27:22.914625Z",
          "shell.execute_reply.started": "2022-11-12T13:27:22.886806Z"
        },
        "id": "AdtEGC7kO70d"
      },
      "outputs": [],
      "source": [
        "df.head()"
      ]
    },
    {
      "cell_type": "markdown",
      "metadata": {
        "id": "4vRFKgoyO70d"
      },
      "source": [
        "# a) Find Shape of Data"
      ]
    },
    {
      "cell_type": "code",
      "execution_count": null,
      "metadata": {
        "execution": {
          "iopub.execute_input": "2022-11-12T13:27:22.92146Z",
          "iopub.status.busy": "2022-11-12T13:27:22.919979Z",
          "iopub.status.idle": "2022-11-12T13:27:22.930111Z",
          "shell.execute_reply": "2022-11-12T13:27:22.928705Z",
          "shell.execute_reply.started": "2022-11-12T13:27:22.921395Z"
        },
        "id": "VHmcbz-7O70f"
      },
      "outputs": [],
      "source": [
        "df.shape #303, 15"
      ]
    },
    {
      "cell_type": "markdown",
      "metadata": {
        "id": "lIXbtsBkO70f"
      },
      "source": [
        "# b) Find Missing Values\n"
      ]
    },
    {
      "cell_type": "code",
      "execution_count": null,
      "metadata": {
        "execution": {
          "iopub.execute_input": "2022-11-12T13:27:22.9336Z",
          "iopub.status.busy": "2022-11-12T13:27:22.931876Z",
          "iopub.status.idle": "2022-11-12T13:27:22.951178Z",
          "shell.execute_reply": "2022-11-12T13:27:22.949806Z",
          "shell.execute_reply.started": "2022-11-12T13:27:22.933538Z"
        },
        "id": "wMA2BD6AO70f"
      },
      "outputs": [],
      "source": [
        "df.isnull().sum()"
      ]
    },
    {
      "cell_type": "code",
      "execution_count": null,
      "metadata": {
        "execution": {
          "iopub.execute_input": "2022-11-12T13:27:22.954697Z",
          "iopub.status.busy": "2022-11-12T13:27:22.953065Z",
          "iopub.status.idle": "2022-11-12T13:27:22.971165Z",
          "shell.execute_reply": "2022-11-12T13:27:22.969744Z",
          "shell.execute_reply.started": "2022-11-12T13:27:22.954618Z"
        },
        "id": "2cZba-q0O70f"
      },
      "outputs": [],
      "source": [
        "df.count()"
      ]
    },
    {
      "cell_type": "markdown",
      "metadata": {
        "id": "PQjD94ezO70g"
      },
      "source": [
        "# c) Find data type of each column\n"
      ]
    },
    {
      "cell_type": "code",
      "execution_count": null,
      "metadata": {
        "execution": {
          "iopub.execute_input": "2022-11-12T13:27:22.974918Z",
          "iopub.status.busy": "2022-11-12T13:27:22.973471Z",
          "iopub.status.idle": "2022-11-12T13:27:23.006135Z",
          "shell.execute_reply": "2022-11-12T13:27:23.004612Z",
          "shell.execute_reply.started": "2022-11-12T13:27:22.974809Z"
        },
        "id": "MkirTHW6O70g"
      },
      "outputs": [],
      "source": [
        "df.info()"
      ]
    },
    {
      "cell_type": "code",
      "execution_count": null,
      "metadata": {
        "execution": {
          "iopub.execute_input": "2022-11-12T13:27:23.009321Z",
          "iopub.status.busy": "2022-11-12T13:27:23.008361Z",
          "iopub.status.idle": "2022-11-12T13:27:23.023841Z",
          "shell.execute_reply": "2022-11-12T13:27:23.02236Z",
          "shell.execute_reply.started": "2022-11-12T13:27:23.009259Z"
        },
        "id": "S22f8BbUO70g"
      },
      "outputs": [],
      "source": [
        "df.dtypes"
      ]
    },
    {
      "cell_type": "markdown",
      "metadata": {
        "id": "HNQ_OXZsO70g"
      },
      "source": [
        "# d) Finding out Zero's\n"
      ]
    },
    {
      "cell_type": "code",
      "execution_count": null,
      "metadata": {
        "execution": {
          "iopub.execute_input": "2022-11-12T13:27:23.026164Z",
          "iopub.status.busy": "2022-11-12T13:27:23.025566Z",
          "iopub.status.idle": "2022-11-12T13:27:23.068213Z",
          "shell.execute_reply": "2022-11-12T13:27:23.066479Z",
          "shell.execute_reply.started": "2022-11-12T13:27:23.026123Z"
        },
        "id": "x9zwrKwhO70g"
      },
      "outputs": [],
      "source": [
        "df==0"
      ]
    },
    {
      "cell_type": "code",
      "execution_count": null,
      "metadata": {
        "execution": {
          "iopub.execute_input": "2022-11-12T13:27:23.071617Z",
          "iopub.status.busy": "2022-11-12T13:27:23.071081Z",
          "iopub.status.idle": "2022-11-12T13:27:23.120181Z",
          "shell.execute_reply": "2022-11-12T13:27:23.118875Z",
          "shell.execute_reply.started": "2022-11-12T13:27:23.071575Z"
        },
        "id": "iOy-iEekO70h"
      },
      "outputs": [],
      "source": [
        "df[df==0]"
      ]
    },
    {
      "cell_type": "code",
      "execution_count": null,
      "metadata": {
        "execution": {
          "iopub.execute_input": "2022-11-12T13:27:23.122415Z",
          "iopub.status.busy": "2022-11-12T13:27:23.121987Z",
          "iopub.status.idle": "2022-11-12T13:27:23.135456Z",
          "shell.execute_reply": "2022-11-12T13:27:23.134069Z",
          "shell.execute_reply.started": "2022-11-12T13:27:23.122377Z"
        },
        "id": "CT44ptwBO70h"
      },
      "outputs": [],
      "source": [
        "(df == 0).sum()"
      ]
    },
    {
      "cell_type": "markdown",
      "metadata": {
        "id": "0ZZ4N6RlO70h"
      },
      "source": [
        "# e) Find Mean age of patients\n"
      ]
    },
    {
      "cell_type": "code",
      "execution_count": null,
      "metadata": {
        "execution": {
          "iopub.execute_input": "2022-11-12T13:27:23.138133Z",
          "iopub.status.busy": "2022-11-12T13:27:23.13747Z",
          "iopub.status.idle": "2022-11-12T13:27:23.15121Z",
          "shell.execute_reply": "2022-11-12T13:27:23.149743Z",
          "shell.execute_reply.started": "2022-11-12T13:27:23.13809Z"
        },
        "id": "LsCkIhTVO70h"
      },
      "outputs": [],
      "source": [
        "np.mean(df['Age'])"
      ]
    },
    {
      "cell_type": "code",
      "execution_count": null,
      "metadata": {
        "execution": {
          "iopub.execute_input": "2022-11-12T13:27:23.159851Z",
          "iopub.status.busy": "2022-11-12T13:27:23.159168Z",
          "iopub.status.idle": "2022-11-12T13:27:23.16889Z",
          "shell.execute_reply": "2022-11-12T13:27:23.16755Z",
          "shell.execute_reply.started": "2022-11-12T13:27:23.159807Z"
        },
        "id": "byr3ILf6O70h"
      },
      "outputs": [],
      "source": [
        "df.Age.mean()"
      ]
    },
    {
      "cell_type": "markdown",
      "metadata": {
        "id": "hrKrQqCHO70i"
      },
      "source": [
        "# f) Now extract only Age, Sex, ChestPain, RestBP, Chol. Randomly divide dataset in training (75%) and testing (25%)."
      ]
    },
    {
      "cell_type": "code",
      "execution_count": null,
      "metadata": {
        "execution": {
          "iopub.execute_input": "2022-11-12T13:27:23.171791Z",
          "iopub.status.busy": "2022-11-12T13:27:23.171126Z",
          "iopub.status.idle": "2022-11-12T13:27:23.186059Z",
          "shell.execute_reply": "2022-11-12T13:27:23.184842Z",
          "shell.execute_reply.started": "2022-11-12T13:27:23.171737Z"
        },
        "id": "DzuQ_1NhO70i"
      },
      "outputs": [],
      "source": [
        "df.columns"
      ]
    },
    {
      "cell_type": "code",
      "execution_count": null,
      "metadata": {
        "execution": {
          "iopub.execute_input": "2022-11-12T13:27:23.189996Z",
          "iopub.status.busy": "2022-11-12T13:27:23.188589Z",
          "iopub.status.idle": "2022-11-12T13:27:23.199066Z",
          "shell.execute_reply": "2022-11-12T13:27:23.197752Z",
          "shell.execute_reply.started": "2022-11-12T13:27:23.189909Z"
        },
        "id": "NFZgBl2nO70i"
      },
      "outputs": [],
      "source": [
        "data = df[['Age', 'Sex', 'ChestPain', 'RestBP', 'Chol']]\n",
        "data"
      ]
    },
    {
      "cell_type": "code",
      "execution_count": null,
      "metadata": {
        "execution": {
          "iopub.execute_input": "2022-11-12T13:27:23.202557Z",
          "iopub.status.busy": "2022-11-12T13:27:23.201342Z",
          "iopub.status.idle": "2022-11-12T13:27:23.212161Z",
          "shell.execute_reply": "2022-11-12T13:27:23.210799Z",
          "shell.execute_reply.started": "2022-11-12T13:27:23.202241Z"
        },
        "id": "tx_pRTX_O70i"
      },
      "outputs": [],
      "source": [
        "#Cross validation"
      ]
    },
    {
      "cell_type": "code",
      "execution_count": null,
      "metadata": {
        "execution": {
          "iopub.execute_input": "2022-11-12T13:27:23.215355Z",
          "iopub.status.busy": "2022-11-12T13:27:23.214362Z",
          "iopub.status.idle": "2022-11-12T13:27:23.227532Z",
          "shell.execute_reply": "2022-11-12T13:27:23.225588Z",
          "shell.execute_reply.started": "2022-11-12T13:27:23.215296Z"
        },
        "id": "fXtWj3QcO70i"
      },
      "outputs": [],
      "source": [
        "train,test = train_test_split(data,test_size=0.25,random_state=1)"
      ]
    },
    {
      "cell_type": "code",
      "execution_count": null,
      "metadata": {
        "execution": {
          "iopub.execute_input": "2022-11-12T13:27:23.235557Z",
          "iopub.status.busy": "2022-11-12T13:27:23.234389Z",
          "iopub.status.idle": "2022-11-12T13:27:23.244622Z",
          "shell.execute_reply": "2022-11-12T13:27:23.243199Z",
          "shell.execute_reply.started": "2022-11-12T13:27:23.235508Z"
        },
        "id": "Xw7UPRztO70i"
      },
      "outputs": [],
      "source": [
        "train.shape"
      ]
    },
    {
      "cell_type": "code",
      "execution_count": null,
      "metadata": {
        "execution": {
          "iopub.execute_input": "2022-11-12T13:27:23.24739Z",
          "iopub.status.busy": "2022-11-12T13:27:23.246404Z",
          "iopub.status.idle": "2022-11-12T13:27:23.258904Z",
          "shell.execute_reply": "2022-11-12T13:27:23.257513Z",
          "shell.execute_reply.started": "2022-11-12T13:27:23.247331Z"
        },
        "id": "CjdyErwKO70j"
      },
      "outputs": [],
      "source": [
        "test.shape"
      ]
    },
    {
      "cell_type": "markdown",
      "metadata": {
        "id": "vww1lvrxO70j"
      },
      "source": [
        "Through the diagnosis test I predicted 100 report as COVID positive, but only 45 of those were<br>\n",
        "actually positive. Total 50 people in my sample were actually COVID positive. I have total 500<br>\n",
        "samples.<br>\n",
        " Create confusion matrix based on above data and find<br>\n",
        "I. Accuracy<br>\n",
        "II. Precision<br>\n",
        "III. Recall<br>\n",
        "IV. F-1 score<br>"
      ]
    },
    {
      "cell_type": "code",
      "execution_count": null,
      "metadata": {
        "id": "VrwooMOeO70j"
      },
      "outputs": [],
      "source": [
        "actual = np.concatenate((np.ones(45),np.zeros(55)))\n",
        "actual"
      ]
    },
    {
      "cell_type": "code",
      "execution_count": null,
      "metadata": {
        "id": "4QWBeTnGO70j"
      },
      "outputs": [],
      "source": [
        "predicted = np.concatenate((np.ones(40),np.zeros(50), np.ones(10)))\n",
        "predicted"
      ]
    },
    {
      "cell_type": "code",
      "execution_count": null,
      "metadata": {
        "execution": {
          "iopub.execute_input": "2022-11-12T13:27:23.262025Z",
          "iopub.status.busy": "2022-11-12T13:27:23.260483Z",
          "iopub.status.idle": "2022-11-12T13:27:23.280595Z",
          "shell.execute_reply": "2022-11-12T13:27:23.277777Z",
          "shell.execute_reply.started": "2022-11-12T13:27:23.261968Z"
        },
        "id": "UI-LAqcqO70j"
      },
      "outputs": [],
      "source": [
        "actual = np.concatenate((np.ones(45),np.zeros(450),np.ones(5)))\n",
        "actual"
      ]
    },
    {
      "cell_type": "code",
      "execution_count": null,
      "metadata": {
        "execution": {
          "iopub.execute_input": "2022-11-12T13:27:23.283308Z",
          "iopub.status.busy": "2022-11-12T13:27:23.282416Z",
          "iopub.status.idle": "2022-11-12T13:27:23.289491Z",
          "shell.execute_reply": "2022-11-12T13:27:23.287975Z",
          "shell.execute_reply.started": "2022-11-12T13:27:23.283249Z"
        },
        "id": "UXASnHxNO70j"
      },
      "outputs": [],
      "source": [
        "run = np.array([1,0,1,1,1])\n",
        "run"
      ]
    },
    {
      "cell_type": "code",
      "execution_count": null,
      "metadata": {
        "execution": {
          "iopub.execute_input": "2022-11-12T13:27:23.295012Z",
          "iopub.status.busy": "2022-11-12T13:27:23.293079Z",
          "iopub.status.idle": "2022-11-12T13:27:23.310281Z",
          "shell.execute_reply": "2022-11-12T13:27:23.308712Z",
          "shell.execute_reply.started": "2022-11-12T13:27:23.294942Z"
        },
        "id": "NpQhED2-O70k"
      },
      "outputs": [],
      "source": [
        "predicted = np.concatenate((np.ones(100),np.zeros(400)))\n",
        "predicted"
      ]
    },
    {
      "cell_type": "code",
      "execution_count": null,
      "metadata": {
        "execution": {
          "iopub.execute_input": "2022-11-12T13:27:23.313027Z",
          "iopub.status.busy": "2022-11-12T13:27:23.311915Z",
          "iopub.status.idle": "2022-11-12T13:27:23.324986Z",
          "shell.execute_reply": "2022-11-12T13:27:23.323863Z",
          "shell.execute_reply.started": "2022-11-12T13:27:23.312957Z"
        },
        "id": "0meqa9UHO70k"
      },
      "outputs": [],
      "source": [
        "type(predicted)"
      ]
    },
    {
      "cell_type": "markdown",
      "metadata": {
        "id": "ZzAeWegqO70k"
      },
      "source": [
        "# Confusion Matrix"
      ]
    },
    {
      "cell_type": "markdown",
      "metadata": {
        "id": "UqvV8PZKO70k"
      },
      "source": [
        "![image.png](attachment:image.png)"
      ]
    },
    {
      "cell_type": "code",
      "execution_count": null,
      "metadata": {
        "execution": {
          "iopub.execute_input": "2022-11-12T13:27:23.328122Z",
          "iopub.status.busy": "2022-11-12T13:27:23.326967Z",
          "iopub.status.idle": "2022-11-12T13:27:23.336743Z",
          "shell.execute_reply": "2022-11-12T13:27:23.335274Z",
          "shell.execute_reply.started": "2022-11-12T13:27:23.328027Z"
        },
        "id": "Z4GWLQHXO70k"
      },
      "outputs": [],
      "source": [
        "from sklearn.metrics import ConfusionMatrixDisplay, confusion_matrix"
      ]
    },
    {
      "cell_type": "code",
      "execution_count": null,
      "metadata": {
        "execution": {
          "iopub.execute_input": "2022-11-12T13:27:23.338914Z",
          "iopub.status.busy": "2022-11-12T13:27:23.338257Z",
          "iopub.status.idle": "2022-11-12T13:27:23.672504Z",
          "shell.execute_reply": "2022-11-12T13:27:23.671242Z",
          "shell.execute_reply.started": "2022-11-12T13:27:23.338842Z"
        },
        "id": "fj8JvoqvO70l"
      },
      "outputs": [],
      "source": [
        "ConfusionMatrixDisplay.from_predictions(actual, predicted)"
      ]
    },
    {
      "cell_type": "code",
      "execution_count": null,
      "metadata": {
        "id": "1CXxfPByO70l"
      },
      "outputs": [],
      "source": [
        "cm = confusion_matrix(actual, predicted)\n",
        "cm"
      ]
    },
    {
      "cell_type": "code",
      "execution_count": null,
      "metadata": {
        "execution": {
          "iopub.execute_input": "2022-11-12T13:27:23.674742Z",
          "iopub.status.busy": "2022-11-12T13:27:23.674Z",
          "iopub.status.idle": "2022-11-12T13:27:23.680437Z",
          "shell.execute_reply": "2022-11-12T13:27:23.67889Z",
          "shell.execute_reply.started": "2022-11-12T13:27:23.6747Z"
        },
        "id": "bw57MwoJO70l"
      },
      "outputs": [],
      "source": [
        "from sklearn.metrics import classification_report\n",
        "from sklearn.metrics import accuracy_score"
      ]
    },
    {
      "cell_type": "code",
      "execution_count": null,
      "metadata": {
        "execution": {
          "iopub.execute_input": "2022-11-12T13:27:23.683289Z",
          "iopub.status.busy": "2022-11-12T13:27:23.682409Z",
          "iopub.status.idle": "2022-11-12T13:27:23.703987Z",
          "shell.execute_reply": "2022-11-12T13:27:23.702231Z",
          "shell.execute_reply.started": "2022-11-12T13:27:23.683244Z"
        },
        "id": "070dOEcdO70m"
      },
      "outputs": [],
      "source": [
        "print(classification_report(actual,predicted))"
      ]
    },
    {
      "cell_type": "code",
      "execution_count": null,
      "metadata": {
        "execution": {
          "iopub.execute_input": "2022-11-12T13:27:23.706282Z",
          "iopub.status.busy": "2022-11-12T13:27:23.705843Z",
          "iopub.status.idle": "2022-11-12T13:27:23.719764Z",
          "shell.execute_reply": "2022-11-12T13:27:23.717772Z",
          "shell.execute_reply.started": "2022-11-12T13:27:23.706247Z"
        },
        "id": "i9lPB0UoO70m"
      },
      "outputs": [],
      "source": [
        "accuracy_score(actual,predicted)"
      ]
    },
    {
      "cell_type": "code",
      "execution_count": null,
      "metadata": {
        "id": "4lT1PIKtO70m",
        "outputId": "28c684bb-440d-4247-8786-33394d9edddc"
      },
      "outputs": [
        {
          "data": {
            "text/plain": [
              "'C:\\\\Users\\\\Lenovo\\\\LP-I'"
            ]
          },
          "execution_count": 98,
          "metadata": {},
          "output_type": "execute_result"
        }
      ],
      "source": [
        "pwd"
      ]
    }
  ],
  "metadata": {
    "kernelspec": {
      "display_name": "Python 3",
      "language": "python",
      "name": "python3"
    },
    "language_info": {
      "codemirror_mode": {
        "name": "ipython",
        "version": 3
      },
      "file_extension": ".py",
      "mimetype": "text/x-python",
      "name": "python",
      "nbconvert_exporter": "python",
      "pygments_lexer": "ipython3",
      "version": "3.8.8"
    },
    "colab": {
      "provenance": [],
      "include_colab_link": true
    }
  },
  "nbformat": 4,
  "nbformat_minor": 0
}